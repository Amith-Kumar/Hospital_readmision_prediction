{
 "cells": [
  {
   "cell_type": "markdown",
   "metadata": {},
   "source": [
    "### Predicting the “Re-admission possibility of a patient into the hospital” "
   ]
  },
  {
   "cell_type": "code",
   "execution_count": 218,
   "metadata": {},
   "outputs": [],
   "source": [
    "#Import all required libraries\n",
    "import pandas as pd\n",
    "import numpy\n",
    "\n",
    "from sklearn import preprocessing, metrics\n",
    "\n",
    "from sklearn.model_selection import cross_validate\n",
    "from sklearn.model_selection import train_test_split\n",
    "\n",
    "from sklearn.preprocessing import LabelEncoder\n",
    "from sklearn.preprocessing import MinMaxScaler\n",
    "from sklearn.model_selection import learning_curve\n",
    "%matplotlib inline\n",
    "import numpy as np\n",
    "import pandas as pd\n",
    "#import graphviz\n",
    "import matplotlib.pyplot as plt\n",
    "import seaborn as sns\n",
    "import plotly.graph_objs as go\n",
    "import plotly\n",
    "import plotly.offline as pyoff\n",
    "import plotly.figure_factory as ff\n",
    "from plotly.offline import init_notebook_mode, iplot, plot\n",
    "import squarify # for tree maps\n",
    "%matplotlib inline\n",
    "from sklearn.metrics import accuracy_score\n",
    "from sklearn.metrics import recall_score\n",
    "from sklearn.metrics import roc_auc_score\n",
    "\n",
    "from sklearn.tree import DecisionTreeClassifier, export_graphviz,DecisionTreeRegressor\n",
    "from sklearn.metrics import accuracy_score,classification_report, recall_score, precision_score,confusion_matrix,mean_absolute_error,mean_squared_error\n",
    "from sklearn.ensemble import RandomForestClassifier\n",
    "from xgboost import XGBClassifier\n",
    "from sklearn.ensemble import GradientBoostingClassifier\n",
    "from sklearn.ensemble import AdaBoostClassifier\n",
    "\n",
    "import warnings\n",
    "warnings.filterwarnings('ignore')"
   ]
  },
  {
   "cell_type": "markdown",
   "metadata": {},
   "source": [
    "#### Import the Train data\n"
   ]
  },
  {
   "cell_type": "code",
   "execution_count": 219,
   "metadata": {},
   "outputs": [],
   "source": [
    "Train=pd.read_csv(\"Train.csv\",na_values=[\"?\", \"\"])\n",
    "Train_Diagnosis_TreatmentData=pd.read_csv(\"Train_Diagnosis_TreatmentData.csv\",na_values=[\"?\", \"\"])\n",
    "Train_HospitalizationData=pd.read_csv(\"Train_HospitalizationData.csv\",na_values=[\"?\", \"\"])"
   ]
  },
  {
   "cell_type": "markdown",
   "metadata": {},
   "source": [
    "#### Import the Test data\n"
   ]
  },
  {
   "cell_type": "code",
   "execution_count": 220,
   "metadata": {},
   "outputs": [],
   "source": [
    "Test=pd.read_csv(\"Test.csv\",na_values=[\"?\", \"\"])\n",
    "Test_Diagnosis_TreatmentData=pd.read_csv(\"Test_Diagnosis_TreatmentData.csv\",na_values=[\"?\", \"\"])\n",
    "Test_HospitalizationData=pd.read_csv(\"Test_HospitalizationData.csv\",na_values=[\"?\", \"\"])"
   ]
  },
  {
   "cell_type": "markdown",
   "metadata": {},
   "source": [
    "#### Check the shapes"
   ]
  },
  {
   "cell_type": "code",
   "execution_count": 221,
   "metadata": {},
   "outputs": [
    {
     "data": {
      "text/plain": [
       "(34650, 6)"
      ]
     },
     "execution_count": 221,
     "metadata": {},
     "output_type": "execute_result"
    }
   ],
   "source": [
    "Train.shape"
   ]
  },
  {
   "cell_type": "code",
   "execution_count": 222,
   "metadata": {},
   "outputs": [
    {
     "data": {
      "text/plain": [
       "(34650, 32)"
      ]
     },
     "execution_count": 222,
     "metadata": {},
     "output_type": "execute_result"
    }
   ],
   "source": [
    "Train_Diagnosis_TreatmentData.shape"
   ]
  },
  {
   "cell_type": "code",
   "execution_count": 223,
   "metadata": {},
   "outputs": [
    {
     "data": {
      "text/plain": [
       "(34650, 9)"
      ]
     },
     "execution_count": 223,
     "metadata": {},
     "output_type": "execute_result"
    }
   ],
   "source": [
    "Train_HospitalizationData.shape"
   ]
  },
  {
   "cell_type": "markdown",
   "metadata": {},
   "source": [
    "#### See the top 5 rows of the data"
   ]
  },
  {
   "cell_type": "code",
   "execution_count": 224,
   "metadata": {},
   "outputs": [
    {
     "data": {
      "text/html": [
       "<div>\n",
       "<style scoped>\n",
       "    .dataframe tbody tr th:only-of-type {\n",
       "        vertical-align: middle;\n",
       "    }\n",
       "\n",
       "    .dataframe tbody tr th {\n",
       "        vertical-align: top;\n",
       "    }\n",
       "\n",
       "    .dataframe thead th {\n",
       "        text-align: right;\n",
       "    }\n",
       "</style>\n",
       "<table border=\"1\" class=\"dataframe\">\n",
       "  <thead>\n",
       "    <tr style=\"text-align: right;\">\n",
       "      <th></th>\n",
       "      <th>patientID</th>\n",
       "      <th>race</th>\n",
       "      <th>gender</th>\n",
       "      <th>age</th>\n",
       "      <th>weight</th>\n",
       "      <th>readmitted</th>\n",
       "    </tr>\n",
       "  </thead>\n",
       "  <tbody>\n",
       "    <tr>\n",
       "      <th>0</th>\n",
       "      <td>PT11101</td>\n",
       "      <td>Caucasian</td>\n",
       "      <td>Male</td>\n",
       "      <td>[80-90)</td>\n",
       "      <td>NaN</td>\n",
       "      <td>NO</td>\n",
       "    </tr>\n",
       "    <tr>\n",
       "      <th>1</th>\n",
       "      <td>PT11102</td>\n",
       "      <td>Caucasian</td>\n",
       "      <td>Male</td>\n",
       "      <td>[70-80)</td>\n",
       "      <td>NaN</td>\n",
       "      <td>NO</td>\n",
       "    </tr>\n",
       "    <tr>\n",
       "      <th>2</th>\n",
       "      <td>PT11103</td>\n",
       "      <td>NaN</td>\n",
       "      <td>Female</td>\n",
       "      <td>[60-70)</td>\n",
       "      <td>NaN</td>\n",
       "      <td>NO</td>\n",
       "    </tr>\n",
       "    <tr>\n",
       "      <th>3</th>\n",
       "      <td>PT11104</td>\n",
       "      <td>Caucasian</td>\n",
       "      <td>Female</td>\n",
       "      <td>[70-80)</td>\n",
       "      <td>NaN</td>\n",
       "      <td>NO</td>\n",
       "    </tr>\n",
       "    <tr>\n",
       "      <th>4</th>\n",
       "      <td>PT11105</td>\n",
       "      <td>Caucasian</td>\n",
       "      <td>Female</td>\n",
       "      <td>[60-70)</td>\n",
       "      <td>NaN</td>\n",
       "      <td>Within30days</td>\n",
       "    </tr>\n",
       "  </tbody>\n",
       "</table>\n",
       "</div>"
      ],
      "text/plain": [
       "  patientID       race  gender      age weight    readmitted\n",
       "0   PT11101  Caucasian    Male  [80-90)    NaN            NO\n",
       "1   PT11102  Caucasian    Male  [70-80)    NaN            NO\n",
       "2   PT11103        NaN  Female  [60-70)    NaN            NO\n",
       "3   PT11104  Caucasian  Female  [70-80)    NaN            NO\n",
       "4   PT11105  Caucasian  Female  [60-70)    NaN  Within30days"
      ]
     },
     "execution_count": 224,
     "metadata": {},
     "output_type": "execute_result"
    }
   ],
   "source": [
    "Train.head()"
   ]
  },
  {
   "cell_type": "code",
   "execution_count": 225,
   "metadata": {},
   "outputs": [
    {
     "data": {
      "text/html": [
       "<div>\n",
       "<style scoped>\n",
       "    .dataframe tbody tr th:only-of-type {\n",
       "        vertical-align: middle;\n",
       "    }\n",
       "\n",
       "    .dataframe tbody tr th {\n",
       "        vertical-align: top;\n",
       "    }\n",
       "\n",
       "    .dataframe thead th {\n",
       "        text-align: right;\n",
       "    }\n",
       "</style>\n",
       "<table border=\"1\" class=\"dataframe\">\n",
       "  <thead>\n",
       "    <tr style=\"text-align: right;\">\n",
       "      <th></th>\n",
       "      <th>patientID</th>\n",
       "      <th>num_lab_procedures</th>\n",
       "      <th>num_procedures</th>\n",
       "      <th>num_medications</th>\n",
       "      <th>num_diagnoses</th>\n",
       "      <th>diagnosis_1</th>\n",
       "      <th>diagnosis_2</th>\n",
       "      <th>diagnosis_3</th>\n",
       "      <th>max_glu_serum</th>\n",
       "      <th>A1Cresult</th>\n",
       "      <th>...</th>\n",
       "      <th>miglitol</th>\n",
       "      <th>troglitazone</th>\n",
       "      <th>tolazamide</th>\n",
       "      <th>insulin</th>\n",
       "      <th>glyburide.metformin</th>\n",
       "      <th>glipizide.metformin</th>\n",
       "      <th>metformin.rosiglitazone</th>\n",
       "      <th>metformin.pioglitazone</th>\n",
       "      <th>change</th>\n",
       "      <th>diabetesMed</th>\n",
       "    </tr>\n",
       "  </thead>\n",
       "  <tbody>\n",
       "    <tr>\n",
       "      <th>0</th>\n",
       "      <td>PT11101</td>\n",
       "      <td>18</td>\n",
       "      <td>1</td>\n",
       "      <td>7</td>\n",
       "      <td>7</td>\n",
       "      <td>198</td>\n",
       "      <td>403</td>\n",
       "      <td>250</td>\n",
       "      <td>None</td>\n",
       "      <td>None</td>\n",
       "      <td>...</td>\n",
       "      <td>No</td>\n",
       "      <td>No</td>\n",
       "      <td>No</td>\n",
       "      <td>Up</td>\n",
       "      <td>No</td>\n",
       "      <td>No</td>\n",
       "      <td>No</td>\n",
       "      <td>No</td>\n",
       "      <td>Ch</td>\n",
       "      <td>Yes</td>\n",
       "    </tr>\n",
       "    <tr>\n",
       "      <th>1</th>\n",
       "      <td>PT11102</td>\n",
       "      <td>40</td>\n",
       "      <td>4</td>\n",
       "      <td>16</td>\n",
       "      <td>9</td>\n",
       "      <td>153</td>\n",
       "      <td>250</td>\n",
       "      <td>280</td>\n",
       "      <td>None</td>\n",
       "      <td>None</td>\n",
       "      <td>...</td>\n",
       "      <td>No</td>\n",
       "      <td>No</td>\n",
       "      <td>No</td>\n",
       "      <td>No</td>\n",
       "      <td>No</td>\n",
       "      <td>No</td>\n",
       "      <td>No</td>\n",
       "      <td>No</td>\n",
       "      <td>No</td>\n",
       "      <td>Yes</td>\n",
       "    </tr>\n",
       "    <tr>\n",
       "      <th>2</th>\n",
       "      <td>PT11103</td>\n",
       "      <td>39</td>\n",
       "      <td>1</td>\n",
       "      <td>12</td>\n",
       "      <td>5</td>\n",
       "      <td>535</td>\n",
       "      <td>250</td>\n",
       "      <td>401</td>\n",
       "      <td>None</td>\n",
       "      <td>None</td>\n",
       "      <td>...</td>\n",
       "      <td>No</td>\n",
       "      <td>No</td>\n",
       "      <td>No</td>\n",
       "      <td>No</td>\n",
       "      <td>Up</td>\n",
       "      <td>No</td>\n",
       "      <td>No</td>\n",
       "      <td>No</td>\n",
       "      <td>Ch</td>\n",
       "      <td>Yes</td>\n",
       "    </tr>\n",
       "    <tr>\n",
       "      <th>3</th>\n",
       "      <td>PT11104</td>\n",
       "      <td>1</td>\n",
       "      <td>0</td>\n",
       "      <td>10</td>\n",
       "      <td>9</td>\n",
       "      <td>786</td>\n",
       "      <td>411</td>\n",
       "      <td>787</td>\n",
       "      <td>None</td>\n",
       "      <td>None</td>\n",
       "      <td>...</td>\n",
       "      <td>No</td>\n",
       "      <td>No</td>\n",
       "      <td>No</td>\n",
       "      <td>No</td>\n",
       "      <td>No</td>\n",
       "      <td>No</td>\n",
       "      <td>No</td>\n",
       "      <td>No</td>\n",
       "      <td>No</td>\n",
       "      <td>Yes</td>\n",
       "    </tr>\n",
       "    <tr>\n",
       "      <th>4</th>\n",
       "      <td>PT11105</td>\n",
       "      <td>44</td>\n",
       "      <td>0</td>\n",
       "      <td>16</td>\n",
       "      <td>9</td>\n",
       "      <td>250.02</td>\n",
       "      <td>490</td>\n",
       "      <td>401</td>\n",
       "      <td>None</td>\n",
       "      <td>None</td>\n",
       "      <td>...</td>\n",
       "      <td>No</td>\n",
       "      <td>No</td>\n",
       "      <td>No</td>\n",
       "      <td>Steady</td>\n",
       "      <td>No</td>\n",
       "      <td>No</td>\n",
       "      <td>No</td>\n",
       "      <td>No</td>\n",
       "      <td>No</td>\n",
       "      <td>Yes</td>\n",
       "    </tr>\n",
       "  </tbody>\n",
       "</table>\n",
       "<p>5 rows × 32 columns</p>\n",
       "</div>"
      ],
      "text/plain": [
       "  patientID  num_lab_procedures  num_procedures  num_medications  \\\n",
       "0   PT11101                  18               1                7   \n",
       "1   PT11102                  40               4               16   \n",
       "2   PT11103                  39               1               12   \n",
       "3   PT11104                   1               0               10   \n",
       "4   PT11105                  44               0               16   \n",
       "\n",
       "   num_diagnoses diagnosis_1 diagnosis_2 diagnosis_3 max_glu_serum A1Cresult  \\\n",
       "0              7         198         403         250          None      None   \n",
       "1              9         153         250         280          None      None   \n",
       "2              5         535         250         401          None      None   \n",
       "3              9         786         411         787          None      None   \n",
       "4              9      250.02         490         401          None      None   \n",
       "\n",
       "      ...     miglitol troglitazone tolazamide insulin glyburide.metformin  \\\n",
       "0     ...           No           No         No      Up                  No   \n",
       "1     ...           No           No         No      No                  No   \n",
       "2     ...           No           No         No      No                  Up   \n",
       "3     ...           No           No         No      No                  No   \n",
       "4     ...           No           No         No  Steady                  No   \n",
       "\n",
       "  glipizide.metformin metformin.rosiglitazone metformin.pioglitazone change  \\\n",
       "0                  No                      No                     No     Ch   \n",
       "1                  No                      No                     No     No   \n",
       "2                  No                      No                     No     Ch   \n",
       "3                  No                      No                     No     No   \n",
       "4                  No                      No                     No     No   \n",
       "\n",
       "  diabetesMed  \n",
       "0         Yes  \n",
       "1         Yes  \n",
       "2         Yes  \n",
       "3         Yes  \n",
       "4         Yes  \n",
       "\n",
       "[5 rows x 32 columns]"
      ]
     },
     "execution_count": 225,
     "metadata": {},
     "output_type": "execute_result"
    }
   ],
   "source": [
    "Train_Diagnosis_TreatmentData.head()"
   ]
  },
  {
   "cell_type": "code",
   "execution_count": 226,
   "metadata": {},
   "outputs": [
    {
     "data": {
      "text/html": [
       "<div>\n",
       "<style scoped>\n",
       "    .dataframe tbody tr th:only-of-type {\n",
       "        vertical-align: middle;\n",
       "    }\n",
       "\n",
       "    .dataframe tbody tr th {\n",
       "        vertical-align: top;\n",
       "    }\n",
       "\n",
       "    .dataframe thead th {\n",
       "        text-align: right;\n",
       "    }\n",
       "</style>\n",
       "<table border=\"1\" class=\"dataframe\">\n",
       "  <thead>\n",
       "    <tr style=\"text-align: right;\">\n",
       "      <th></th>\n",
       "      <th>AdmissionID</th>\n",
       "      <th>patientID</th>\n",
       "      <th>Admission_date</th>\n",
       "      <th>Discharge_date</th>\n",
       "      <th>admission_type_id</th>\n",
       "      <th>discharge_disposition_id</th>\n",
       "      <th>admission_source_id</th>\n",
       "      <th>payer_code</th>\n",
       "      <th>medical_specialty</th>\n",
       "    </tr>\n",
       "  </thead>\n",
       "  <tbody>\n",
       "    <tr>\n",
       "      <th>0</th>\n",
       "      <td>ADM10251</td>\n",
       "      <td>PT36891</td>\n",
       "      <td>2014-01-01</td>\n",
       "      <td>2014-01-03</td>\n",
       "      <td>1</td>\n",
       "      <td>18</td>\n",
       "      <td>7</td>\n",
       "      <td>NaN</td>\n",
       "      <td>NaN</td>\n",
       "    </tr>\n",
       "    <tr>\n",
       "      <th>1</th>\n",
       "      <td>ADM10252</td>\n",
       "      <td>PT41433</td>\n",
       "      <td>2014-01-01</td>\n",
       "      <td>2014-01-07</td>\n",
       "      <td>1</td>\n",
       "      <td>3</td>\n",
       "      <td>7</td>\n",
       "      <td>MC</td>\n",
       "      <td>Emergency/Trauma</td>\n",
       "    </tr>\n",
       "    <tr>\n",
       "      <th>2</th>\n",
       "      <td>ADM10253</td>\n",
       "      <td>PT33024</td>\n",
       "      <td>2014-01-01</td>\n",
       "      <td>2014-01-02</td>\n",
       "      <td>1</td>\n",
       "      <td>11</td>\n",
       "      <td>7</td>\n",
       "      <td>CP</td>\n",
       "      <td>InternalMedicine</td>\n",
       "    </tr>\n",
       "    <tr>\n",
       "      <th>3</th>\n",
       "      <td>ADM10254</td>\n",
       "      <td>PT28054</td>\n",
       "      <td>2014-01-01</td>\n",
       "      <td>2014-01-05</td>\n",
       "      <td>2</td>\n",
       "      <td>1</td>\n",
       "      <td>1</td>\n",
       "      <td>NaN</td>\n",
       "      <td>InternalMedicine</td>\n",
       "    </tr>\n",
       "    <tr>\n",
       "      <th>4</th>\n",
       "      <td>ADM10255</td>\n",
       "      <td>PT20138</td>\n",
       "      <td>2014-01-01</td>\n",
       "      <td>2014-01-03</td>\n",
       "      <td>1</td>\n",
       "      <td>1</td>\n",
       "      <td>7</td>\n",
       "      <td>BC</td>\n",
       "      <td>NaN</td>\n",
       "    </tr>\n",
       "  </tbody>\n",
       "</table>\n",
       "</div>"
      ],
      "text/plain": [
       "  AdmissionID patientID Admission_date Discharge_date  admission_type_id  \\\n",
       "0    ADM10251   PT36891     2014-01-01     2014-01-03                  1   \n",
       "1    ADM10252   PT41433     2014-01-01     2014-01-07                  1   \n",
       "2    ADM10253   PT33024     2014-01-01     2014-01-02                  1   \n",
       "3    ADM10254   PT28054     2014-01-01     2014-01-05                  2   \n",
       "4    ADM10255   PT20138     2014-01-01     2014-01-03                  1   \n",
       "\n",
       "   discharge_disposition_id  admission_source_id payer_code medical_specialty  \n",
       "0                        18                    7        NaN               NaN  \n",
       "1                         3                    7         MC  Emergency/Trauma  \n",
       "2                        11                    7         CP  InternalMedicine  \n",
       "3                         1                    1        NaN  InternalMedicine  \n",
       "4                         1                    7         BC               NaN  "
      ]
     },
     "execution_count": 226,
     "metadata": {},
     "output_type": "execute_result"
    }
   ],
   "source": [
    "Train_HospitalizationData.head()"
   ]
  },
  {
   "cell_type": "code",
   "execution_count": 227,
   "metadata": {},
   "outputs": [
    {
     "data": {
      "text/plain": [
       "patientID         0\n",
       "race           1079\n",
       "gender            0\n",
       "age               0\n",
       "weight        33592\n",
       "readmitted        0\n",
       "dtype: int64"
      ]
     },
     "execution_count": 227,
     "metadata": {},
     "output_type": "execute_result"
    }
   ],
   "source": [
    "Train.isnull().sum()"
   ]
  },
  {
   "cell_type": "code",
   "execution_count": 228,
   "metadata": {},
   "outputs": [
    {
     "data": {
      "text/plain": [
       "patientID                    0\n",
       "num_lab_procedures           0\n",
       "num_procedures               0\n",
       "num_medications              0\n",
       "num_diagnoses                0\n",
       "diagnosis_1                  6\n",
       "diagnosis_2                179\n",
       "diagnosis_3                681\n",
       "max_glu_serum                0\n",
       "A1Cresult                    0\n",
       "metformin                    0\n",
       "repaglinide                  0\n",
       "nateglinide                  0\n",
       "chlorpropamide               0\n",
       "glimepiride                  0\n",
       "acetohexamide                0\n",
       "glipizide                    0\n",
       "glyburide                    0\n",
       "tolbutamide                  0\n",
       "pioglitazone                 0\n",
       "rosiglitazone                0\n",
       "acarbose                     0\n",
       "miglitol                     0\n",
       "troglitazone                 0\n",
       "tolazamide                   0\n",
       "insulin                      0\n",
       "glyburide.metformin          0\n",
       "glipizide.metformin          0\n",
       "metformin.rosiglitazone      0\n",
       "metformin.pioglitazone       0\n",
       "change                       0\n",
       "diabetesMed                  0\n",
       "dtype: int64"
      ]
     },
     "execution_count": 228,
     "metadata": {},
     "output_type": "execute_result"
    }
   ],
   "source": [
    "Train_Diagnosis_TreatmentData.isnull().sum()"
   ]
  },
  {
   "cell_type": "code",
   "execution_count": 229,
   "metadata": {},
   "outputs": [
    {
     "data": {
      "text/plain": [
       "AdmissionID                     0\n",
       "patientID                       0\n",
       "Admission_date                  0\n",
       "Discharge_date                  0\n",
       "admission_type_id               0\n",
       "discharge_disposition_id        0\n",
       "admission_source_id             0\n",
       "payer_code                  14719\n",
       "medical_specialty           16394\n",
       "dtype: int64"
      ]
     },
     "execution_count": 229,
     "metadata": {},
     "output_type": "execute_result"
    }
   ],
   "source": [
    "Train_HospitalizationData.isnull().sum()"
   ]
  },
  {
   "cell_type": "markdown",
   "metadata": {},
   "source": [
    "#### Merge files"
   ]
  },
  {
   "cell_type": "code",
   "execution_count": 230,
   "metadata": {},
   "outputs": [],
   "source": [
    "train_final = pd.merge(Train,Train_Diagnosis_TreatmentData, on='patientID')\n",
    "train_final = pd.merge(train_final,Train_HospitalizationData, on='patientID')"
   ]
  },
  {
   "cell_type": "code",
   "execution_count": 231,
   "metadata": {},
   "outputs": [],
   "source": [
    "test_final = pd.merge(Test,Test_Diagnosis_TreatmentData, on='patientID')\n",
    "test_final = pd.merge(test_final,Test_HospitalizationData, on='patientID')"
   ]
  },
  {
   "cell_type": "markdown",
   "metadata": {},
   "source": [
    "#### Check shape after merging "
   ]
  },
  {
   "cell_type": "code",
   "execution_count": 232,
   "metadata": {},
   "outputs": [
    {
     "data": {
      "text/plain": [
       "(34650, 45)"
      ]
     },
     "execution_count": 232,
     "metadata": {},
     "output_type": "execute_result"
    }
   ],
   "source": [
    "train_final.shape"
   ]
  },
  {
   "cell_type": "code",
   "execution_count": 233,
   "metadata": {},
   "outputs": [
    {
     "data": {
      "text/plain": [
       "(14630, 44)"
      ]
     },
     "execution_count": 233,
     "metadata": {},
     "output_type": "execute_result"
    }
   ],
   "source": [
    "test_final.shape"
   ]
  },
  {
   "cell_type": "markdown",
   "metadata": {},
   "source": [
    "#### Checking missing value percentage in each column"
   ]
  },
  {
   "cell_type": "code",
   "execution_count": 234,
   "metadata": {},
   "outputs": [
    {
     "data": {
      "text/html": [
       "<div>\n",
       "<style scoped>\n",
       "    .dataframe tbody tr th:only-of-type {\n",
       "        vertical-align: middle;\n",
       "    }\n",
       "\n",
       "    .dataframe tbody tr th {\n",
       "        vertical-align: top;\n",
       "    }\n",
       "\n",
       "    .dataframe thead th {\n",
       "        text-align: right;\n",
       "    }\n",
       "</style>\n",
       "<table border=\"1\" class=\"dataframe\">\n",
       "  <thead>\n",
       "    <tr style=\"text-align: right;\">\n",
       "      <th></th>\n",
       "      <th>percent_missing</th>\n",
       "    </tr>\n",
       "  </thead>\n",
       "  <tbody>\n",
       "    <tr>\n",
       "      <th>weight</th>\n",
       "      <td>96.946609</td>\n",
       "    </tr>\n",
       "    <tr>\n",
       "      <th>medical_specialty</th>\n",
       "      <td>47.313131</td>\n",
       "    </tr>\n",
       "    <tr>\n",
       "      <th>payer_code</th>\n",
       "      <td>42.479076</td>\n",
       "    </tr>\n",
       "    <tr>\n",
       "      <th>race</th>\n",
       "      <td>3.113997</td>\n",
       "    </tr>\n",
       "    <tr>\n",
       "      <th>diagnosis_3</th>\n",
       "      <td>1.965368</td>\n",
       "    </tr>\n",
       "    <tr>\n",
       "      <th>diagnosis_2</th>\n",
       "      <td>0.516595</td>\n",
       "    </tr>\n",
       "    <tr>\n",
       "      <th>diagnosis_1</th>\n",
       "      <td>0.017316</td>\n",
       "    </tr>\n",
       "    <tr>\n",
       "      <th>discharge_disposition_id</th>\n",
       "      <td>0.000000</td>\n",
       "    </tr>\n",
       "    <tr>\n",
       "      <th>metformin.rosiglitazone</th>\n",
       "      <td>0.000000</td>\n",
       "    </tr>\n",
       "    <tr>\n",
       "      <th>miglitol</th>\n",
       "      <td>0.000000</td>\n",
       "    </tr>\n",
       "    <tr>\n",
       "      <th>admission_source_id</th>\n",
       "      <td>0.000000</td>\n",
       "    </tr>\n",
       "    <tr>\n",
       "      <th>troglitazone</th>\n",
       "      <td>0.000000</td>\n",
       "    </tr>\n",
       "    <tr>\n",
       "      <th>tolazamide</th>\n",
       "      <td>0.000000</td>\n",
       "    </tr>\n",
       "    <tr>\n",
       "      <th>insulin</th>\n",
       "      <td>0.000000</td>\n",
       "    </tr>\n",
       "    <tr>\n",
       "      <th>glyburide.metformin</th>\n",
       "      <td>0.000000</td>\n",
       "    </tr>\n",
       "    <tr>\n",
       "      <th>glipizide.metformin</th>\n",
       "      <td>0.000000</td>\n",
       "    </tr>\n",
       "    <tr>\n",
       "      <th>metformin.pioglitazone</th>\n",
       "      <td>0.000000</td>\n",
       "    </tr>\n",
       "    <tr>\n",
       "      <th>admission_type_id</th>\n",
       "      <td>0.000000</td>\n",
       "    </tr>\n",
       "    <tr>\n",
       "      <th>change</th>\n",
       "      <td>0.000000</td>\n",
       "    </tr>\n",
       "    <tr>\n",
       "      <th>diabetesMed</th>\n",
       "      <td>0.000000</td>\n",
       "    </tr>\n",
       "    <tr>\n",
       "      <th>rosiglitazone</th>\n",
       "      <td>0.000000</td>\n",
       "    </tr>\n",
       "    <tr>\n",
       "      <th>AdmissionID</th>\n",
       "      <td>0.000000</td>\n",
       "    </tr>\n",
       "    <tr>\n",
       "      <th>Admission_date</th>\n",
       "      <td>0.000000</td>\n",
       "    </tr>\n",
       "    <tr>\n",
       "      <th>Discharge_date</th>\n",
       "      <td>0.000000</td>\n",
       "    </tr>\n",
       "    <tr>\n",
       "      <th>acarbose</th>\n",
       "      <td>0.000000</td>\n",
       "    </tr>\n",
       "    <tr>\n",
       "      <th>patientID</th>\n",
       "      <td>0.000000</td>\n",
       "    </tr>\n",
       "    <tr>\n",
       "      <th>pioglitazone</th>\n",
       "      <td>0.000000</td>\n",
       "    </tr>\n",
       "    <tr>\n",
       "      <th>max_glu_serum</th>\n",
       "      <td>0.000000</td>\n",
       "    </tr>\n",
       "    <tr>\n",
       "      <th>gender</th>\n",
       "      <td>0.000000</td>\n",
       "    </tr>\n",
       "    <tr>\n",
       "      <th>age</th>\n",
       "      <td>0.000000</td>\n",
       "    </tr>\n",
       "    <tr>\n",
       "      <th>readmitted</th>\n",
       "      <td>0.000000</td>\n",
       "    </tr>\n",
       "    <tr>\n",
       "      <th>num_lab_procedures</th>\n",
       "      <td>0.000000</td>\n",
       "    </tr>\n",
       "    <tr>\n",
       "      <th>num_procedures</th>\n",
       "      <td>0.000000</td>\n",
       "    </tr>\n",
       "    <tr>\n",
       "      <th>num_medications</th>\n",
       "      <td>0.000000</td>\n",
       "    </tr>\n",
       "    <tr>\n",
       "      <th>num_diagnoses</th>\n",
       "      <td>0.000000</td>\n",
       "    </tr>\n",
       "    <tr>\n",
       "      <th>A1Cresult</th>\n",
       "      <td>0.000000</td>\n",
       "    </tr>\n",
       "    <tr>\n",
       "      <th>tolbutamide</th>\n",
       "      <td>0.000000</td>\n",
       "    </tr>\n",
       "    <tr>\n",
       "      <th>metformin</th>\n",
       "      <td>0.000000</td>\n",
       "    </tr>\n",
       "    <tr>\n",
       "      <th>repaglinide</th>\n",
       "      <td>0.000000</td>\n",
       "    </tr>\n",
       "    <tr>\n",
       "      <th>nateglinide</th>\n",
       "      <td>0.000000</td>\n",
       "    </tr>\n",
       "    <tr>\n",
       "      <th>chlorpropamide</th>\n",
       "      <td>0.000000</td>\n",
       "    </tr>\n",
       "    <tr>\n",
       "      <th>glimepiride</th>\n",
       "      <td>0.000000</td>\n",
       "    </tr>\n",
       "    <tr>\n",
       "      <th>acetohexamide</th>\n",
       "      <td>0.000000</td>\n",
       "    </tr>\n",
       "    <tr>\n",
       "      <th>glipizide</th>\n",
       "      <td>0.000000</td>\n",
       "    </tr>\n",
       "    <tr>\n",
       "      <th>glyburide</th>\n",
       "      <td>0.000000</td>\n",
       "    </tr>\n",
       "  </tbody>\n",
       "</table>\n",
       "</div>"
      ],
      "text/plain": [
       "                          percent_missing\n",
       "weight                          96.946609\n",
       "medical_specialty               47.313131\n",
       "payer_code                      42.479076\n",
       "race                             3.113997\n",
       "diagnosis_3                      1.965368\n",
       "diagnosis_2                      0.516595\n",
       "diagnosis_1                      0.017316\n",
       "discharge_disposition_id         0.000000\n",
       "metformin.rosiglitazone          0.000000\n",
       "miglitol                         0.000000\n",
       "admission_source_id              0.000000\n",
       "troglitazone                     0.000000\n",
       "tolazamide                       0.000000\n",
       "insulin                          0.000000\n",
       "glyburide.metformin              0.000000\n",
       "glipizide.metformin              0.000000\n",
       "metformin.pioglitazone           0.000000\n",
       "admission_type_id                0.000000\n",
       "change                           0.000000\n",
       "diabetesMed                      0.000000\n",
       "rosiglitazone                    0.000000\n",
       "AdmissionID                      0.000000\n",
       "Admission_date                   0.000000\n",
       "Discharge_date                   0.000000\n",
       "acarbose                         0.000000\n",
       "patientID                        0.000000\n",
       "pioglitazone                     0.000000\n",
       "max_glu_serum                    0.000000\n",
       "gender                           0.000000\n",
       "age                              0.000000\n",
       "readmitted                       0.000000\n",
       "num_lab_procedures               0.000000\n",
       "num_procedures                   0.000000\n",
       "num_medications                  0.000000\n",
       "num_diagnoses                    0.000000\n",
       "A1Cresult                        0.000000\n",
       "tolbutamide                      0.000000\n",
       "metformin                        0.000000\n",
       "repaglinide                      0.000000\n",
       "nateglinide                      0.000000\n",
       "chlorpropamide                   0.000000\n",
       "glimepiride                      0.000000\n",
       "acetohexamide                    0.000000\n",
       "glipizide                        0.000000\n",
       "glyburide                        0.000000"
      ]
     },
     "execution_count": 234,
     "metadata": {},
     "output_type": "execute_result"
    }
   ],
   "source": [
    "percent_missing = train_final.isnull().sum() * 100 / len(train_final)\n",
    "missing_value = pd.DataFrame({'percent_missing': percent_missing})\n",
    "missing_value.sort_values('percent_missing', ascending=False)"
   ]
  },
  {
   "cell_type": "code",
   "execution_count": 370,
   "metadata": {},
   "outputs": [
    {
     "data": {
      "text/html": [
       "        <script type=\"text/javascript\">\n",
       "        window.PlotlyConfig = {MathJaxConfig: 'local'};\n",
       "        if (window.MathJax) {MathJax.Hub.Config({SVG: {font: \"STIX-Web\"}});}\n",
       "        if (typeof require !== 'undefined') {\n",
       "        require.undef(\"plotly\");\n",
       "        requirejs.config({\n",
       "            paths: {\n",
       "                'plotly': ['https://cdn.plot.ly/plotly-latest.min']\n",
       "            }\n",
       "        });\n",
       "        require(['plotly'], function(Plotly) {\n",
       "            window._Plotly = Plotly;\n",
       "        });\n",
       "        }\n",
       "        </script>\n",
       "        "
      ]
     },
     "metadata": {},
     "output_type": "display_data"
    }
   ],
   "source": [
    "init_notebook_mode(connected=True)"
   ]
  },
  {
   "cell_type": "code",
   "execution_count": 371,
   "metadata": {},
   "outputs": [
    {
     "data": {
      "application/vnd.plotly.v1+json": {
       "config": {
        "linkText": "Export to plot.ly",
        "plotlyServerURL": "https://plot.ly",
        "responsive": true,
        "showLink": false
       },
       "data": [
        {
         "type": "bar",
         "uid": "69eb51fe-9347-4d01-8352-2e4f92955285",
         "x": [
          "weight",
          "medical_specialty\t",
          "payer_code",
          "race",
          "diagnosis_3",
          "diagnosis_2",
          "diagnosis_1"
         ],
         "y": [
          96.95,
          47.31,
          42.47,
          3.11,
          1.97,
          0.52,
          0.02
         ]
        }
       ],
       "layout": {}
      },
      "text/html": [
       "<div>\n",
       "        \n",
       "        \n",
       "            <div id=\"71873f68-41b2-437e-8949-3b69a6e4059d\" class=\"plotly-graph-div\" style=\"height:525px; width:100%;\"></div>\n",
       "            <script type=\"text/javascript\">\n",
       "                require([\"plotly\"], function(Plotly) {\n",
       "                    window.PLOTLYENV=window.PLOTLYENV || {};\n",
       "                    window.PLOTLYENV.BASE_URL='https://plot.ly';\n",
       "                    \n",
       "                if (document.getElementById(\"71873f68-41b2-437e-8949-3b69a6e4059d\")) {\n",
       "                    Plotly.newPlot(\n",
       "                        '71873f68-41b2-437e-8949-3b69a6e4059d',\n",
       "                        [{\"type\": \"bar\", \"uid\": \"d66a8195-ca0e-42dd-9a95-4caa15e9e1da\", \"x\": [\"weight\", \"medical_specialty\\t\", \"payer_code\", \"race\", \"diagnosis_3\", \"diagnosis_2\", \"diagnosis_1\"], \"y\": [96.95, 47.31, 42.47, 3.11, 1.97, 0.52, 0.02]}],\n",
       "                        {},\n",
       "                        {\"showLink\": false, \"linkText\": \"Export to plot.ly\", \"plotlyServerURL\": \"https://plot.ly\", \"responsive\": true}\n",
       "                    ).then(function(){\n",
       "                            \n",
       "var gd = document.getElementById('71873f68-41b2-437e-8949-3b69a6e4059d');\n",
       "var x = new MutationObserver(function (mutations, observer) {{\n",
       "        var display = window.getComputedStyle(gd).display;\n",
       "        if (!display || display === 'none') {{\n",
       "            console.log([gd, 'removed!']);\n",
       "            Plotly.purge(gd);\n",
       "            observer.disconnect();\n",
       "        }}\n",
       "}});\n",
       "\n",
       "// Listen for the removal of the full notebook cells\n",
       "var notebookContainer = gd.closest('#notebook-container');\n",
       "if (notebookContainer) {{\n",
       "    x.observe(notebookContainer, {childList: true});\n",
       "}}\n",
       "\n",
       "// Listen for the clearing of the current output cell\n",
       "var outputEl = gd.closest('.output');\n",
       "if (outputEl) {{\n",
       "    x.observe(outputEl, {childList: true});\n",
       "}}\n",
       "\n",
       "                        })\n",
       "                };\n",
       "                });\n",
       "            </script>\n",
       "        </div>"
      ]
     },
     "metadata": {},
     "output_type": "display_data"
    }
   ],
   "source": [
    "data = [go.Bar(\n",
    "            x=['weight', 'medical_specialty\t', 'payer_code', 'race', 'diagnosis_3', 'diagnosis_2', 'diagnosis_1'],\n",
    "            y=[96.95, 47.31, 42.47, 3.11, 1.97, 0.52, 0.02],)]\n",
    "       \n",
    "             \n",
    "iplot(data)"
   ]
  },
  {
   "cell_type": "markdown",
   "metadata": {},
   "source": [
    "##### Actions Based on NA values percentage"
   ]
  },
  {
   "cell_type": "code",
   "execution_count": 237,
   "metadata": {},
   "outputs": [],
   "source": [
    "traindup = train_final.drop([\"weight\", \"payer_code\", \"medical_specialty\"], axis = 1) "
   ]
  },
  {
   "cell_type": "code",
   "execution_count": 238,
   "metadata": {},
   "outputs": [],
   "source": [
    "testdup = test_final.drop([\"weight\", \"payer_code\", \"medical_specialty\"], axis = 1) "
   ]
  },
  {
   "cell_type": "code",
   "execution_count": 239,
   "metadata": {},
   "outputs": [
    {
     "data": {
      "text/plain": [
       "(34650, 42)"
      ]
     },
     "execution_count": 239,
     "metadata": {},
     "output_type": "execute_result"
    }
   ],
   "source": [
    "traindup.shape"
   ]
  },
  {
   "cell_type": "code",
   "execution_count": 240,
   "metadata": {},
   "outputs": [],
   "source": [
    "train_dis_11=traindup[traindup.discharge_disposition_id==11]\n",
    "train_dis_19=traindup[traindup.discharge_disposition_id==19]\n",
    "train_dis_20=traindup[traindup.discharge_disposition_id==20]\n",
    "train_dis_21=traindup[traindup.discharge_disposition_id==21]"
   ]
  },
  {
   "cell_type": "code",
   "execution_count": 241,
   "metadata": {},
   "outputs": [],
   "source": [
    "test_dis_11=testdup[testdup.discharge_disposition_id==11]\n",
    "test_dis_19=testdup[testdup.discharge_disposition_id==19]\n",
    "test_dis_20=testdup[testdup.discharge_disposition_id==20]\n",
    "test_dis_21=testdup[testdup.discharge_disposition_id==21]"
   ]
  },
  {
   "cell_type": "code",
   "execution_count": 242,
   "metadata": {},
   "outputs": [],
   "source": [
    "\n",
    "### As the discharge disposition of 11,13,14,19,20,21 are not making up any predictions so we will be removing them from \n",
    "### train data and as they are under the case of No condition we will be replacing them with NO directly.\n",
    "\n",
    "### 768 data points are been droped from the train data\n",
    "train_discharge=traindup[(traindup.discharge_disposition_id!=11) | (traindup.discharge_disposition_id!=19) | (traindup.discharge_disposition_id!=20) | (traindup.discharge_disposition_id!=21)]"
   ]
  },
  {
   "cell_type": "code",
   "execution_count": 243,
   "metadata": {},
   "outputs": [],
   "source": [
    "test_discharge=testdup[(testdup.discharge_disposition_id!=11) | (testdup.discharge_disposition_id!=19) | (testdup.discharge_disposition_id!=20) | (testdup.discharge_disposition_id!=21)]"
   ]
  },
  {
   "cell_type": "code",
   "execution_count": 244,
   "metadata": {},
   "outputs": [
    {
     "data": {
      "text/plain": [
       "(34650, 42)"
      ]
     },
     "execution_count": 244,
     "metadata": {},
     "output_type": "execute_result"
    }
   ],
   "source": [
    "train_discharge.shape"
   ]
  },
  {
   "cell_type": "code",
   "execution_count": 245,
   "metadata": {},
   "outputs": [
    {
     "data": {
      "text/html": [
       "<div>\n",
       "<style scoped>\n",
       "    .dataframe tbody tr th:only-of-type {\n",
       "        vertical-align: middle;\n",
       "    }\n",
       "\n",
       "    .dataframe tbody tr th {\n",
       "        vertical-align: top;\n",
       "    }\n",
       "\n",
       "    .dataframe thead th {\n",
       "        text-align: right;\n",
       "    }\n",
       "</style>\n",
       "<table border=\"1\" class=\"dataframe\">\n",
       "  <thead>\n",
       "    <tr style=\"text-align: right;\">\n",
       "      <th>readmitted</th>\n",
       "      <th>NO</th>\n",
       "      <th>Within30days</th>\n",
       "    </tr>\n",
       "    <tr>\n",
       "      <th>age</th>\n",
       "      <th></th>\n",
       "      <th></th>\n",
       "    </tr>\n",
       "  </thead>\n",
       "  <tbody>\n",
       "    <tr>\n",
       "      <th>[0-10)</th>\n",
       "      <td>88</td>\n",
       "      <td>2</td>\n",
       "    </tr>\n",
       "    <tr>\n",
       "      <th>[10-20)</th>\n",
       "      <td>260</td>\n",
       "      <td>17</td>\n",
       "    </tr>\n",
       "    <tr>\n",
       "      <th>[20-30)</th>\n",
       "      <td>536</td>\n",
       "      <td>62</td>\n",
       "    </tr>\n",
       "    <tr>\n",
       "      <th>[30-40)</th>\n",
       "      <td>1313</td>\n",
       "      <td>155</td>\n",
       "    </tr>\n",
       "    <tr>\n",
       "      <th>[40-50)</th>\n",
       "      <td>3016</td>\n",
       "      <td>393</td>\n",
       "    </tr>\n",
       "    <tr>\n",
       "      <th>[50-60)</th>\n",
       "      <td>5465</td>\n",
       "      <td>633</td>\n",
       "    </tr>\n",
       "    <tr>\n",
       "      <th>[60-70)</th>\n",
       "      <td>6589</td>\n",
       "      <td>1088</td>\n",
       "    </tr>\n",
       "    <tr>\n",
       "      <th>[70-80)</th>\n",
       "      <td>7140</td>\n",
       "      <td>1392</td>\n",
       "    </tr>\n",
       "    <tr>\n",
       "      <th>[80-90)</th>\n",
       "      <td>4592</td>\n",
       "      <td>894</td>\n",
       "    </tr>\n",
       "    <tr>\n",
       "      <th>[90-100)</th>\n",
       "      <td>892</td>\n",
       "      <td>123</td>\n",
       "    </tr>\n",
       "  </tbody>\n",
       "</table>\n",
       "</div>"
      ],
      "text/plain": [
       "readmitted    NO  Within30days\n",
       "age                           \n",
       "[0-10)        88             2\n",
       "[10-20)      260            17\n",
       "[20-30)      536            62\n",
       "[30-40)     1313           155\n",
       "[40-50)     3016           393\n",
       "[50-60)     5465           633\n",
       "[60-70)     6589          1088\n",
       "[70-80)     7140          1392\n",
       "[80-90)     4592           894\n",
       "[90-100)     892           123"
      ]
     },
     "execution_count": 245,
     "metadata": {},
     "output_type": "execute_result"
    }
   ],
   "source": [
    "carat_table = pd.crosstab(index=train_discharge[\"age\"], \n",
    "                          columns=train_discharge[\"readmitted\"])\n",
    "\n",
    "carat_table"
   ]
  },
  {
   "cell_type": "markdown",
   "metadata": {},
   "source": [
    "#### Plotted all the graphs, but kept required one"
   ]
  },
  {
   "cell_type": "code",
   "execution_count": 246,
   "metadata": {},
   "outputs": [
    {
     "data": {
      "text/plain": [
       "<matplotlib.axes._subplots.AxesSubplot at 0x2c731ec5400>"
      ]
     },
     "execution_count": 246,
     "metadata": {},
     "output_type": "execute_result"
    },
    {
     "data": {
      "image/png": "[encoded data removed]",
      "text/plain": [
       "<Figure size 576x576 with 1 Axes>"
      ]
     },
     "metadata": {
      "needs_background": "light"
     },
     "output_type": "display_data"
    }
   ],
   "source": [
    "carat_table.plot(kind=\"bar\", \n",
    "                 figsize=(8,8),\n",
    "                 stacked=False)"
   ]
  },
  {
   "cell_type": "code",
   "execution_count": 247,
   "metadata": {},
   "outputs": [
    {
     "data": {
      "text/html": [
       "<div>\n",
       "<style scoped>\n",
       "    .dataframe tbody tr th:only-of-type {\n",
       "        vertical-align: middle;\n",
       "    }\n",
       "\n",
       "    .dataframe tbody tr th {\n",
       "        vertical-align: top;\n",
       "    }\n",
       "\n",
       "    .dataframe thead th {\n",
       "        text-align: right;\n",
       "    }\n",
       "</style>\n",
       "<table border=\"1\" class=\"dataframe\">\n",
       "  <thead>\n",
       "    <tr style=\"text-align: right;\">\n",
       "      <th>readmitted</th>\n",
       "      <th>NO</th>\n",
       "      <th>Within30days</th>\n",
       "    </tr>\n",
       "    <tr>\n",
       "      <th>gender</th>\n",
       "      <th></th>\n",
       "      <th></th>\n",
       "    </tr>\n",
       "  </thead>\n",
       "  <tbody>\n",
       "    <tr>\n",
       "      <th>Female</th>\n",
       "      <td>15679</td>\n",
       "      <td>2543</td>\n",
       "    </tr>\n",
       "    <tr>\n",
       "      <th>Male</th>\n",
       "      <td>14212</td>\n",
       "      <td>2216</td>\n",
       "    </tr>\n",
       "  </tbody>\n",
       "</table>\n",
       "</div>"
      ],
      "text/plain": [
       "readmitted     NO  Within30days\n",
       "gender                         \n",
       "Female      15679          2543\n",
       "Male        14212          2216"
      ]
     },
     "execution_count": 247,
     "metadata": {},
     "output_type": "execute_result"
    }
   ],
   "source": [
    "carat_table1 = pd.crosstab(index=train_discharge[\"gender\"], \n",
    "                          columns=train_discharge[\"readmitted\"])\n",
    "\n",
    "carat_table1"
   ]
  },
  {
   "cell_type": "code",
   "execution_count": 248,
   "metadata": {},
   "outputs": [
    {
     "data": {
      "text/plain": [
       "<matplotlib.axes._subplots.AxesSubplot at 0x2c7325845c0>"
      ]
     },
     "execution_count": 248,
     "metadata": {},
     "output_type": "execute_result"
    },
    {
     "data": {
      "image/png": "[encoded data removed]",
      "text/plain": [
       "<Figure size 576x576 with 1 Axes>"
      ]
     },
     "metadata": {
      "needs_background": "light"
     },
     "output_type": "display_data"
    }
   ],
   "source": [
    "carat_table1.plot(kind=\"bar\", \n",
    "                 figsize=(8,8),\n",
    "                 stacked=False)"
   ]
  },
  {
   "cell_type": "code",
   "execution_count": 249,
   "metadata": {},
   "outputs": [
    {
     "data": {
      "text/html": [
       "<div>\n",
       "<style scoped>\n",
       "    .dataframe tbody tr th:only-of-type {\n",
       "        vertical-align: middle;\n",
       "    }\n",
       "\n",
       "    .dataframe tbody tr th {\n",
       "        vertical-align: top;\n",
       "    }\n",
       "\n",
       "    .dataframe thead th {\n",
       "        text-align: right;\n",
       "    }\n",
       "</style>\n",
       "<table border=\"1\" class=\"dataframe\">\n",
       "  <thead>\n",
       "    <tr style=\"text-align: right;\">\n",
       "      <th>readmitted</th>\n",
       "      <th>NO</th>\n",
       "      <th>Within30days</th>\n",
       "    </tr>\n",
       "    <tr>\n",
       "      <th>acetohexamide</th>\n",
       "      <th></th>\n",
       "      <th></th>\n",
       "    </tr>\n",
       "  </thead>\n",
       "  <tbody>\n",
       "    <tr>\n",
       "      <th>No</th>\n",
       "      <td>29891</td>\n",
       "      <td>4759</td>\n",
       "    </tr>\n",
       "  </tbody>\n",
       "</table>\n",
       "</div>"
      ],
      "text/plain": [
       "readmitted        NO  Within30days\n",
       "acetohexamide                     \n",
       "No             29891          4759"
      ]
     },
     "execution_count": 249,
     "metadata": {},
     "output_type": "execute_result"
    }
   ],
   "source": [
    "carat_table9 = pd.crosstab(index=train_discharge[\"acetohexamide\"], \n",
    "                          columns=train_discharge[\"readmitted\"])\n",
    "\n",
    "carat_table9"
   ]
  },
  {
   "cell_type": "code",
   "execution_count": 250,
   "metadata": {},
   "outputs": [
    {
     "data": {
      "text/plain": [
       "<matplotlib.axes._subplots.AxesSubplot at 0x2c7334062b0>"
      ]
     },
     "execution_count": 250,
     "metadata": {},
     "output_type": "execute_result"
    },
    {
     "data": {
      "image/png": "[encoded data removed]",
      "text/plain": [
       "<Figure size 576x576 with 1 Axes>"
      ]
     },
     "metadata": {
      "needs_background": "light"
     },
     "output_type": "display_data"
    }
   ],
   "source": [
    "carat_table9.plot(kind=\"bar\", \n",
    "                 figsize=(8,8),\n",
    "                 stacked=False)"
   ]
  },
  {
   "cell_type": "code",
   "execution_count": 251,
   "metadata": {},
   "outputs": [
    {
     "data": {
      "text/html": [
       "<div>\n",
       "<style scoped>\n",
       "    .dataframe tbody tr th:only-of-type {\n",
       "        vertical-align: middle;\n",
       "    }\n",
       "\n",
       "    .dataframe tbody tr th {\n",
       "        vertical-align: top;\n",
       "    }\n",
       "\n",
       "    .dataframe thead th {\n",
       "        text-align: right;\n",
       "    }\n",
       "</style>\n",
       "<table border=\"1\" class=\"dataframe\">\n",
       "  <thead>\n",
       "    <tr style=\"text-align: right;\">\n",
       "      <th>readmitted</th>\n",
       "      <th>NO</th>\n",
       "      <th>Within30days</th>\n",
       "    </tr>\n",
       "    <tr>\n",
       "      <th>tolbutamide</th>\n",
       "      <th></th>\n",
       "      <th></th>\n",
       "    </tr>\n",
       "  </thead>\n",
       "  <tbody>\n",
       "    <tr>\n",
       "      <th>No</th>\n",
       "      <td>29883</td>\n",
       "      <td>4759</td>\n",
       "    </tr>\n",
       "    <tr>\n",
       "      <th>Steady</th>\n",
       "      <td>8</td>\n",
       "      <td>0</td>\n",
       "    </tr>\n",
       "  </tbody>\n",
       "</table>\n",
       "</div>"
      ],
      "text/plain": [
       "readmitted      NO  Within30days\n",
       "tolbutamide                     \n",
       "No           29883          4759\n",
       "Steady           8             0"
      ]
     },
     "execution_count": 251,
     "metadata": {},
     "output_type": "execute_result"
    }
   ],
   "source": [
    "carat_table17 = pd.crosstab(index=train_discharge[\"tolbutamide\"], \n",
    "                          columns=train_discharge[\"readmitted\"])\n",
    "\n",
    "carat_table17"
   ]
  },
  {
   "cell_type": "code",
   "execution_count": 252,
   "metadata": {},
   "outputs": [
    {
     "data": {
      "text/plain": [
       "<matplotlib.axes._subplots.AxesSubplot at 0x2c733385d30>"
      ]
     },
     "execution_count": 252,
     "metadata": {},
     "output_type": "execute_result"
    },
    {
     "data": {
      "image/png": "[encoded data removed]",
      "text/plain": [
       "<Figure size 576x576 with 1 Axes>"
      ]
     },
     "metadata": {
      "needs_background": "light"
     },
     "output_type": "display_data"
    }
   ],
   "source": [
    "carat_table17.plot(kind=\"bar\", \n",
    "                 figsize=(8,8),\n",
    "                 stacked=False)"
   ]
  },
  {
   "cell_type": "code",
   "execution_count": 253,
   "metadata": {},
   "outputs": [
    {
     "data": {
      "text/html": [
       "<div>\n",
       "<style scoped>\n",
       "    .dataframe tbody tr th:only-of-type {\n",
       "        vertical-align: middle;\n",
       "    }\n",
       "\n",
       "    .dataframe tbody tr th {\n",
       "        vertical-align: top;\n",
       "    }\n",
       "\n",
       "    .dataframe thead th {\n",
       "        text-align: right;\n",
       "    }\n",
       "</style>\n",
       "<table border=\"1\" class=\"dataframe\">\n",
       "  <thead>\n",
       "    <tr style=\"text-align: right;\">\n",
       "      <th>readmitted</th>\n",
       "      <th>NO</th>\n",
       "      <th>Within30days</th>\n",
       "    </tr>\n",
       "    <tr>\n",
       "      <th>insulin</th>\n",
       "      <th></th>\n",
       "      <th></th>\n",
       "    </tr>\n",
       "  </thead>\n",
       "  <tbody>\n",
       "    <tr>\n",
       "      <th>Down</th>\n",
       "      <td>2904</td>\n",
       "      <td>580</td>\n",
       "    </tr>\n",
       "    <tr>\n",
       "      <th>No</th>\n",
       "      <td>15036</td>\n",
       "      <td>2132</td>\n",
       "    </tr>\n",
       "    <tr>\n",
       "      <th>Steady</th>\n",
       "      <td>9233</td>\n",
       "      <td>1554</td>\n",
       "    </tr>\n",
       "    <tr>\n",
       "      <th>Up</th>\n",
       "      <td>2718</td>\n",
       "      <td>493</td>\n",
       "    </tr>\n",
       "  </tbody>\n",
       "</table>\n",
       "</div>"
      ],
      "text/plain": [
       "readmitted     NO  Within30days\n",
       "insulin                        \n",
       "Down         2904           580\n",
       "No          15036          2132\n",
       "Steady       9233          1554\n",
       "Up           2718           493"
      ]
     },
     "execution_count": 253,
     "metadata": {},
     "output_type": "execute_result"
    }
   ],
   "source": [
    "carat_table19 = pd.crosstab(index=train_discharge[\"insulin\"], \n",
    "                          columns=train_discharge[\"readmitted\"])\n",
    "\n",
    "carat_table19"
   ]
  },
  {
   "cell_type": "code",
   "execution_count": 254,
   "metadata": {},
   "outputs": [
    {
     "data": {
      "text/plain": [
       "<matplotlib.axes._subplots.AxesSubplot at 0x2c732594390>"
      ]
     },
     "execution_count": 254,
     "metadata": {},
     "output_type": "execute_result"
    },
    {
     "data": {
      "image/png": "[encoded data removed]",
      "text/plain": [
       "<Figure size 576x576 with 1 Axes>"
      ]
     },
     "metadata": {
      "needs_background": "light"
     },
     "output_type": "display_data"
    }
   ],
   "source": [
    "carat_table19.plot(kind=\"bar\", \n",
    "                 figsize=(8,8),\n",
    "                 stacked=False)"
   ]
  },
  {
   "cell_type": "code",
   "execution_count": 255,
   "metadata": {},
   "outputs": [
    {
     "data": {
      "text/html": [
       "<div>\n",
       "<style scoped>\n",
       "    .dataframe tbody tr th:only-of-type {\n",
       "        vertical-align: middle;\n",
       "    }\n",
       "\n",
       "    .dataframe tbody tr th {\n",
       "        vertical-align: top;\n",
       "    }\n",
       "\n",
       "    .dataframe thead th {\n",
       "        text-align: right;\n",
       "    }\n",
       "</style>\n",
       "<table border=\"1\" class=\"dataframe\">\n",
       "  <thead>\n",
       "    <tr style=\"text-align: right;\">\n",
       "      <th>readmitted</th>\n",
       "      <th>NO</th>\n",
       "      <th>Within30days</th>\n",
       "    </tr>\n",
       "    <tr>\n",
       "      <th>glyburide.metformin</th>\n",
       "      <th></th>\n",
       "      <th></th>\n",
       "    </tr>\n",
       "  </thead>\n",
       "  <tbody>\n",
       "    <tr>\n",
       "      <th>Down</th>\n",
       "      <td>1</td>\n",
       "      <td>0</td>\n",
       "    </tr>\n",
       "    <tr>\n",
       "      <th>No</th>\n",
       "      <td>29706</td>\n",
       "      <td>4728</td>\n",
       "    </tr>\n",
       "    <tr>\n",
       "      <th>Steady</th>\n",
       "      <td>179</td>\n",
       "      <td>31</td>\n",
       "    </tr>\n",
       "    <tr>\n",
       "      <th>Up</th>\n",
       "      <td>5</td>\n",
       "      <td>0</td>\n",
       "    </tr>\n",
       "  </tbody>\n",
       "</table>\n",
       "</div>"
      ],
      "text/plain": [
       "readmitted              NO  Within30days\n",
       "glyburide.metformin                     \n",
       "Down                     1             0\n",
       "No                   29706          4728\n",
       "Steady                 179            31\n",
       "Up                       5             0"
      ]
     },
     "execution_count": 255,
     "metadata": {},
     "output_type": "execute_result"
    }
   ],
   "source": [
    "carat_table20 = pd.crosstab(index=train_discharge[\"glyburide.metformin\"], \n",
    "                          columns=train_discharge[\"readmitted\"])\n",
    "\n",
    "carat_table20"
   ]
  },
  {
   "cell_type": "code",
   "execution_count": 256,
   "metadata": {},
   "outputs": [
    {
     "data": {
      "text/plain": [
       "<matplotlib.axes._subplots.AxesSubplot at 0x2c731c282e8>"
      ]
     },
     "execution_count": 256,
     "metadata": {},
     "output_type": "execute_result"
    },
    {
     "data": {
      "image/png": "[encoded data removed]",
      "text/plain": [
       "<Figure size 576x576 with 1 Axes>"
      ]
     },
     "metadata": {
      "needs_background": "light"
     },
     "output_type": "display_data"
    }
   ],
   "source": [
    "carat_table20.plot(kind=\"bar\", \n",
    "                 figsize=(8,8),\n",
    "                 stacked=False)"
   ]
  },
  {
   "cell_type": "code",
   "execution_count": 257,
   "metadata": {},
   "outputs": [
    {
     "data": {
      "text/html": [
       "<div>\n",
       "<style scoped>\n",
       "    .dataframe tbody tr th:only-of-type {\n",
       "        vertical-align: middle;\n",
       "    }\n",
       "\n",
       "    .dataframe tbody tr th {\n",
       "        vertical-align: top;\n",
       "    }\n",
       "\n",
       "    .dataframe thead th {\n",
       "        text-align: right;\n",
       "    }\n",
       "</style>\n",
       "<table border=\"1\" class=\"dataframe\">\n",
       "  <thead>\n",
       "    <tr style=\"text-align: right;\">\n",
       "      <th>readmitted</th>\n",
       "      <th>NO</th>\n",
       "      <th>Within30days</th>\n",
       "    </tr>\n",
       "    <tr>\n",
       "      <th>change</th>\n",
       "      <th></th>\n",
       "      <th></th>\n",
       "    </tr>\n",
       "  </thead>\n",
       "  <tbody>\n",
       "    <tr>\n",
       "      <th>Ch</th>\n",
       "      <td>12863</td>\n",
       "      <td>2256</td>\n",
       "    </tr>\n",
       "    <tr>\n",
       "      <th>No</th>\n",
       "      <td>17028</td>\n",
       "      <td>2503</td>\n",
       "    </tr>\n",
       "  </tbody>\n",
       "</table>\n",
       "</div>"
      ],
      "text/plain": [
       "readmitted     NO  Within30days\n",
       "change                         \n",
       "Ch          12863          2256\n",
       "No          17028          2503"
      ]
     },
     "execution_count": 257,
     "metadata": {},
     "output_type": "execute_result"
    }
   ],
   "source": [
    "carat_table24 = pd.crosstab(index=train_discharge[\"change\"], \n",
    "                          columns=train_discharge[\"readmitted\"])\n",
    "\n",
    "\n",
    "carat_table24"
   ]
  },
  {
   "cell_type": "code",
   "execution_count": 258,
   "metadata": {},
   "outputs": [
    {
     "data": {
      "text/plain": [
       "<matplotlib.axes._subplots.AxesSubplot at 0x2c732643908>"
      ]
     },
     "execution_count": 258,
     "metadata": {},
     "output_type": "execute_result"
    },
    {
     "data": {
      "image/png": "[encoded data removed]",
      "text/plain": [
       "<Figure size 576x576 with 1 Axes>"
      ]
     },
     "metadata": {
      "needs_background": "light"
     },
     "output_type": "display_data"
    }
   ],
   "source": [
    "carat_table24.plot(kind=\"bar\", \n",
    "                 figsize=(8,8),\n",
    "                 stacked=False)"
   ]
  },
  {
   "cell_type": "code",
   "execution_count": 259,
   "metadata": {},
   "outputs": [
    {
     "data": {
      "text/html": [
       "<div>\n",
       "<style scoped>\n",
       "    .dataframe tbody tr th:only-of-type {\n",
       "        vertical-align: middle;\n",
       "    }\n",
       "\n",
       "    .dataframe tbody tr th {\n",
       "        vertical-align: top;\n",
       "    }\n",
       "\n",
       "    .dataframe thead th {\n",
       "        text-align: right;\n",
       "    }\n",
       "</style>\n",
       "<table border=\"1\" class=\"dataframe\">\n",
       "  <thead>\n",
       "    <tr style=\"text-align: right;\">\n",
       "      <th>readmitted</th>\n",
       "      <th>NO</th>\n",
       "      <th>Within30days</th>\n",
       "    </tr>\n",
       "    <tr>\n",
       "      <th>admission_type_id</th>\n",
       "      <th></th>\n",
       "      <th></th>\n",
       "    </tr>\n",
       "  </thead>\n",
       "  <tbody>\n",
       "    <tr>\n",
       "      <th>1</th>\n",
       "      <td>15105</td>\n",
       "      <td>2478</td>\n",
       "    </tr>\n",
       "    <tr>\n",
       "      <th>2</th>\n",
       "      <td>5463</td>\n",
       "      <td>871</td>\n",
       "    </tr>\n",
       "    <tr>\n",
       "      <th>3</th>\n",
       "      <td>6244</td>\n",
       "      <td>868</td>\n",
       "    </tr>\n",
       "    <tr>\n",
       "      <th>4</th>\n",
       "      <td>4</td>\n",
       "      <td>1</td>\n",
       "    </tr>\n",
       "    <tr>\n",
       "      <th>5</th>\n",
       "      <td>1312</td>\n",
       "      <td>201</td>\n",
       "    </tr>\n",
       "    <tr>\n",
       "      <th>6</th>\n",
       "      <td>1603</td>\n",
       "      <td>324</td>\n",
       "    </tr>\n",
       "    <tr>\n",
       "      <th>7</th>\n",
       "      <td>16</td>\n",
       "      <td>0</td>\n",
       "    </tr>\n",
       "    <tr>\n",
       "      <th>8</th>\n",
       "      <td>144</td>\n",
       "      <td>16</td>\n",
       "    </tr>\n",
       "  </tbody>\n",
       "</table>\n",
       "</div>"
      ],
      "text/plain": [
       "readmitted            NO  Within30days\n",
       "admission_type_id                     \n",
       "1                  15105          2478\n",
       "2                   5463           871\n",
       "3                   6244           868\n",
       "4                      4             1\n",
       "5                   1312           201\n",
       "6                   1603           324\n",
       "7                     16             0\n",
       "8                    144            16"
      ]
     },
     "execution_count": 259,
     "metadata": {},
     "output_type": "execute_result"
    }
   ],
   "source": [
    "carat_table25 = pd.crosstab(index=train_discharge[\"admission_type_id\"], \n",
    "                          columns=train_discharge[\"readmitted\"])\n",
    "\n",
    "carat_table25"
   ]
  },
  {
   "cell_type": "code",
   "execution_count": 260,
   "metadata": {},
   "outputs": [
    {
     "data": {
      "text/plain": [
       "<matplotlib.axes._subplots.AxesSubplot at 0x2c7323f7780>"
      ]
     },
     "execution_count": 260,
     "metadata": {},
     "output_type": "execute_result"
    },
    {
     "data": {
      "image/png": "[encoded data removed]",
      "text/plain": [
       "<Figure size 576x576 with 1 Axes>"
      ]
     },
     "metadata": {
      "needs_background": "light"
     },
     "output_type": "display_data"
    }
   ],
   "source": [
    "carat_table25.plot(kind=\"bar\", \n",
    "                 figsize=(8,8),\n",
    "                 stacked=False)"
   ]
  },
  {
   "cell_type": "code",
   "execution_count": 261,
   "metadata": {},
   "outputs": [
    {
     "data": {
      "text/html": [
       "<div>\n",
       "<style scoped>\n",
       "    .dataframe tbody tr th:only-of-type {\n",
       "        vertical-align: middle;\n",
       "    }\n",
       "\n",
       "    .dataframe tbody tr th {\n",
       "        vertical-align: top;\n",
       "    }\n",
       "\n",
       "    .dataframe thead th {\n",
       "        text-align: right;\n",
       "    }\n",
       "</style>\n",
       "<table border=\"1\" class=\"dataframe\">\n",
       "  <thead>\n",
       "    <tr style=\"text-align: right;\">\n",
       "      <th>readmitted</th>\n",
       "      <th>NO</th>\n",
       "      <th>Within30days</th>\n",
       "    </tr>\n",
       "    <tr>\n",
       "      <th>discharge_disposition_id</th>\n",
       "      <th></th>\n",
       "      <th></th>\n",
       "    </tr>\n",
       "  </thead>\n",
       "  <tbody>\n",
       "    <tr>\n",
       "      <th>1</th>\n",
       "      <td>18956</td>\n",
       "      <td>2331</td>\n",
       "    </tr>\n",
       "    <tr>\n",
       "      <th>2</th>\n",
       "      <td>576</td>\n",
       "      <td>180</td>\n",
       "    </tr>\n",
       "    <tr>\n",
       "      <th>3</th>\n",
       "      <td>3391</td>\n",
       "      <td>871</td>\n",
       "    </tr>\n",
       "    <tr>\n",
       "      <th>4</th>\n",
       "      <td>226</td>\n",
       "      <td>45</td>\n",
       "    </tr>\n",
       "    <tr>\n",
       "      <th>5</th>\n",
       "      <td>332</td>\n",
       "      <td>128</td>\n",
       "    </tr>\n",
       "    <tr>\n",
       "      <th>6</th>\n",
       "      <td>3026</td>\n",
       "      <td>608</td>\n",
       "    </tr>\n",
       "    <tr>\n",
       "      <th>7</th>\n",
       "      <td>168</td>\n",
       "      <td>26</td>\n",
       "    </tr>\n",
       "    <tr>\n",
       "      <th>8</th>\n",
       "      <td>27</td>\n",
       "      <td>5</td>\n",
       "    </tr>\n",
       "    <tr>\n",
       "      <th>9</th>\n",
       "      <td>4</td>\n",
       "      <td>0</td>\n",
       "    </tr>\n",
       "    <tr>\n",
       "      <th>10</th>\n",
       "      <td>2</td>\n",
       "      <td>0</td>\n",
       "    </tr>\n",
       "    <tr>\n",
       "      <th>11</th>\n",
       "      <td>763</td>\n",
       "      <td>0</td>\n",
       "    </tr>\n",
       "    <tr>\n",
       "      <th>12</th>\n",
       "      <td>1</td>\n",
       "      <td>1</td>\n",
       "    </tr>\n",
       "    <tr>\n",
       "      <th>13</th>\n",
       "      <td>163</td>\n",
       "      <td>6</td>\n",
       "    </tr>\n",
       "    <tr>\n",
       "      <th>14</th>\n",
       "      <td>132</td>\n",
       "      <td>8</td>\n",
       "    </tr>\n",
       "    <tr>\n",
       "      <th>15</th>\n",
       "      <td>9</td>\n",
       "      <td>14</td>\n",
       "    </tr>\n",
       "    <tr>\n",
       "      <th>16</th>\n",
       "      <td>2</td>\n",
       "      <td>0</td>\n",
       "    </tr>\n",
       "    <tr>\n",
       "      <th>17</th>\n",
       "      <td>3</td>\n",
       "      <td>0</td>\n",
       "    </tr>\n",
       "    <tr>\n",
       "      <th>18</th>\n",
       "      <td>1134</td>\n",
       "      <td>185</td>\n",
       "    </tr>\n",
       "    <tr>\n",
       "      <th>19</th>\n",
       "      <td>4</td>\n",
       "      <td>0</td>\n",
       "    </tr>\n",
       "    <tr>\n",
       "      <th>20</th>\n",
       "      <td>1</td>\n",
       "      <td>0</td>\n",
       "    </tr>\n",
       "    <tr>\n",
       "      <th>22</th>\n",
       "      <td>486</td>\n",
       "      <td>279</td>\n",
       "    </tr>\n",
       "    <tr>\n",
       "      <th>23</th>\n",
       "      <td>118</td>\n",
       "      <td>13</td>\n",
       "    </tr>\n",
       "    <tr>\n",
       "      <th>24</th>\n",
       "      <td>12</td>\n",
       "      <td>1</td>\n",
       "    </tr>\n",
       "    <tr>\n",
       "      <th>25</th>\n",
       "      <td>321</td>\n",
       "      <td>33</td>\n",
       "    </tr>\n",
       "    <tr>\n",
       "      <th>27</th>\n",
       "      <td>2</td>\n",
       "      <td>1</td>\n",
       "    </tr>\n",
       "    <tr>\n",
       "      <th>28</th>\n",
       "      <td>32</td>\n",
       "      <td>24</td>\n",
       "    </tr>\n",
       "  </tbody>\n",
       "</table>\n",
       "</div>"
      ],
      "text/plain": [
       "readmitted                   NO  Within30days\n",
       "discharge_disposition_id                     \n",
       "1                         18956          2331\n",
       "2                           576           180\n",
       "3                          3391           871\n",
       "4                           226            45\n",
       "5                           332           128\n",
       "6                          3026           608\n",
       "7                           168            26\n",
       "8                            27             5\n",
       "9                             4             0\n",
       "10                            2             0\n",
       "11                          763             0\n",
       "12                            1             1\n",
       "13                          163             6\n",
       "14                          132             8\n",
       "15                            9            14\n",
       "16                            2             0\n",
       "17                            3             0\n",
       "18                         1134           185\n",
       "19                            4             0\n",
       "20                            1             0\n",
       "22                          486           279\n",
       "23                          118            13\n",
       "24                           12             1\n",
       "25                          321            33\n",
       "27                            2             1\n",
       "28                           32            24"
      ]
     },
     "execution_count": 261,
     "metadata": {},
     "output_type": "execute_result"
    }
   ],
   "source": [
    "carat_table26 = pd.crosstab(index=train_discharge[\"discharge_disposition_id\"], \n",
    "                          columns=train_discharge[\"readmitted\"])\n",
    "\n",
    "carat_table26"
   ]
  },
  {
   "cell_type": "code",
   "execution_count": 262,
   "metadata": {},
   "outputs": [
    {
     "data": {
      "text/plain": [
       "<matplotlib.axes._subplots.AxesSubplot at 0x2c73239aef0>"
      ]
     },
     "execution_count": 262,
     "metadata": {},
     "output_type": "execute_result"
    },
    {
     "data": {
      "image/png": "[encoded data removed]",
      "text/plain": [
       "<Figure size 576x576 with 1 Axes>"
      ]
     },
     "metadata": {
      "needs_background": "light"
     },
     "output_type": "display_data"
    }
   ],
   "source": [
    "carat_table26.plot(kind=\"bar\", \n",
    "                 figsize=(8,8),\n",
    "                 stacked=False)"
   ]
  },
  {
   "cell_type": "code",
   "execution_count": 263,
   "metadata": {},
   "outputs": [
    {
     "data": {
      "text/html": [
       "<div>\n",
       "<style scoped>\n",
       "    .dataframe tbody tr th:only-of-type {\n",
       "        vertical-align: middle;\n",
       "    }\n",
       "\n",
       "    .dataframe tbody tr th {\n",
       "        vertical-align: top;\n",
       "    }\n",
       "\n",
       "    .dataframe thead th {\n",
       "        text-align: right;\n",
       "    }\n",
       "</style>\n",
       "<table border=\"1\" class=\"dataframe\">\n",
       "  <thead>\n",
       "    <tr style=\"text-align: right;\">\n",
       "      <th>readmitted</th>\n",
       "      <th>NO</th>\n",
       "      <th>Within30days</th>\n",
       "    </tr>\n",
       "    <tr>\n",
       "      <th>admission_source_id</th>\n",
       "      <th></th>\n",
       "      <th></th>\n",
       "    </tr>\n",
       "  </thead>\n",
       "  <tbody>\n",
       "    <tr>\n",
       "      <th>1</th>\n",
       "      <td>9516</td>\n",
       "      <td>1418</td>\n",
       "    </tr>\n",
       "    <tr>\n",
       "      <th>2</th>\n",
       "      <td>448</td>\n",
       "      <td>62</td>\n",
       "    </tr>\n",
       "    <tr>\n",
       "      <th>3</th>\n",
       "      <td>50</td>\n",
       "      <td>15</td>\n",
       "    </tr>\n",
       "    <tr>\n",
       "      <th>4</th>\n",
       "      <td>1293</td>\n",
       "      <td>174</td>\n",
       "    </tr>\n",
       "    <tr>\n",
       "      <th>5</th>\n",
       "      <td>243</td>\n",
       "      <td>42</td>\n",
       "    </tr>\n",
       "    <tr>\n",
       "      <th>6</th>\n",
       "      <td>950</td>\n",
       "      <td>117</td>\n",
       "    </tr>\n",
       "    <tr>\n",
       "      <th>7</th>\n",
       "      <td>15371</td>\n",
       "      <td>2566</td>\n",
       "    </tr>\n",
       "    <tr>\n",
       "      <th>8</th>\n",
       "      <td>5</td>\n",
       "      <td>1</td>\n",
       "    </tr>\n",
       "    <tr>\n",
       "      <th>9</th>\n",
       "      <td>61</td>\n",
       "      <td>8</td>\n",
       "    </tr>\n",
       "    <tr>\n",
       "      <th>10</th>\n",
       "      <td>3</td>\n",
       "      <td>0</td>\n",
       "    </tr>\n",
       "    <tr>\n",
       "      <th>11</th>\n",
       "      <td>1</td>\n",
       "      <td>0</td>\n",
       "    </tr>\n",
       "    <tr>\n",
       "      <th>13</th>\n",
       "      <td>1</td>\n",
       "      <td>0</td>\n",
       "    </tr>\n",
       "    <tr>\n",
       "      <th>14</th>\n",
       "      <td>1</td>\n",
       "      <td>0</td>\n",
       "    </tr>\n",
       "    <tr>\n",
       "      <th>17</th>\n",
       "      <td>1906</td>\n",
       "      <td>337</td>\n",
       "    </tr>\n",
       "    <tr>\n",
       "      <th>20</th>\n",
       "      <td>38</td>\n",
       "      <td>19</td>\n",
       "    </tr>\n",
       "    <tr>\n",
       "      <th>22</th>\n",
       "      <td>3</td>\n",
       "      <td>0</td>\n",
       "    </tr>\n",
       "    <tr>\n",
       "      <th>25</th>\n",
       "      <td>1</td>\n",
       "      <td>0</td>\n",
       "    </tr>\n",
       "  </tbody>\n",
       "</table>\n",
       "</div>"
      ],
      "text/plain": [
       "readmitted              NO  Within30days\n",
       "admission_source_id                     \n",
       "1                     9516          1418\n",
       "2                      448            62\n",
       "3                       50            15\n",
       "4                     1293           174\n",
       "5                      243            42\n",
       "6                      950           117\n",
       "7                    15371          2566\n",
       "8                        5             1\n",
       "9                       61             8\n",
       "10                       3             0\n",
       "11                       1             0\n",
       "13                       1             0\n",
       "14                       1             0\n",
       "17                    1906           337\n",
       "20                      38            19\n",
       "22                       3             0\n",
       "25                       1             0"
      ]
     },
     "execution_count": 263,
     "metadata": {},
     "output_type": "execute_result"
    }
   ],
   "source": [
    "carat_table27 = pd.crosstab(index=train_discharge[\"admission_source_id\"], \n",
    "                          columns=train_discharge[\"readmitted\"])\n",
    "\n",
    "carat_table27"
   ]
  },
  {
   "cell_type": "code",
   "execution_count": 264,
   "metadata": {},
   "outputs": [
    {
     "data": {
      "text/plain": [
       "<matplotlib.axes._subplots.AxesSubplot at 0x2c72f1de5f8>"
      ]
     },
     "execution_count": 264,
     "metadata": {},
     "output_type": "execute_result"
    },
    {
     "data": {
      "image/png": "[encoded data removed]",
      "text/plain": [
       "<Figure size 576x576 with 1 Axes>"
      ]
     },
     "metadata": {
      "needs_background": "light"
     },
     "output_type": "display_data"
    }
   ],
   "source": [
    "carat_table27.plot(kind=\"bar\", \n",
    "                 figsize=(8,8),\n",
    "                 stacked=False)"
   ]
  },
  {
   "cell_type": "markdown",
   "metadata": {},
   "source": [
    "#### Equalising the Levels              "
   ]
  },
  {
   "cell_type": "code",
   "execution_count": 265,
   "metadata": {},
   "outputs": [],
   "source": [
    "# convert some numeric attributes to factors\n",
    "cols=[\"admission_type_id\",\"discharge_disposition_id\",\"admission_source_id\"]"
   ]
  },
  {
   "cell_type": "code",
   "execution_count": 266,
   "metadata": {},
   "outputs": [],
   "source": [
    "#train_discharge[cols] = lapply(train_discharge[cols], factor)\n",
    "for col in cols : \n",
    "    train_discharge[cols].astype(\"category\")"
   ]
  },
  {
   "cell_type": "code",
   "execution_count": 267,
   "metadata": {},
   "outputs": [],
   "source": [
    "for col in cols : \n",
    "    test_discharge[cols].astype(\"category\")"
   ]
  },
  {
   "cell_type": "code",
   "execution_count": 268,
   "metadata": {},
   "outputs": [
    {
     "name": "stdout",
     "output_type": "stream",
     "text": [
      "['admission_type_id', 'discharge_disposition_id', 'admission_source_id']\n"
     ]
    }
   ],
   "source": [
    "print(list(train_discharge[cols]))"
   ]
  },
  {
   "cell_type": "code",
   "execution_count": 269,
   "metadata": {},
   "outputs": [
    {
     "name": "stdout",
     "output_type": "stream",
     "text": [
      "[2 1 5 3 6 8 7 4]\n"
     ]
    }
   ],
   "source": [
    "print(train_discharge.admission_type_id.unique())"
   ]
  },
  {
   "cell_type": "code",
   "execution_count": 270,
   "metadata": {},
   "outputs": [],
   "source": [
    "# Convert the levels of admission type id into two levels\n",
    "train_discharge_admission_type_id = {1:'emergency',\n",
    "          2:'emergency',\n",
    "          3:'casual',\n",
    "          4:'casual',\n",
    "          5:'casual',\n",
    "          6:'casual',\n",
    "          7:'emergency',\n",
    "          8:'casual',\n",
    "          }"
   ]
  },
  {
   "cell_type": "code",
   "execution_count": 271,
   "metadata": {},
   "outputs": [],
   "source": [
    "# Convert the levels of admission type id into two levels\n",
    "test_discharge_admission_type_id = {1:'emergency',\n",
    "          2:'emergency',\n",
    "          3:'casual',\n",
    "          4:'casual',\n",
    "          5:'casual',\n",
    "          6:'casual',\n",
    "          7:'emergency',\n",
    "          8:'casual',\n",
    "          }"
   ]
  },
  {
   "cell_type": "code",
   "execution_count": 272,
   "metadata": {},
   "outputs": [],
   "source": [
    "train_discharge = train_discharge.replace({\"admission_type_id\":train_discharge_admission_type_id})"
   ]
  },
  {
   "cell_type": "code",
   "execution_count": 273,
   "metadata": {},
   "outputs": [],
   "source": [
    "test_discharge = test_discharge.replace({\"admission_type_id\":train_discharge_admission_type_id})"
   ]
  },
  {
   "cell_type": "code",
   "execution_count": 274,
   "metadata": {},
   "outputs": [
    {
     "data": {
      "text/html": [
       "<div>\n",
       "<style scoped>\n",
       "    .dataframe tbody tr th:only-of-type {\n",
       "        vertical-align: middle;\n",
       "    }\n",
       "\n",
       "    .dataframe tbody tr th {\n",
       "        vertical-align: top;\n",
       "    }\n",
       "\n",
       "    .dataframe thead th {\n",
       "        text-align: right;\n",
       "    }\n",
       "</style>\n",
       "<table border=\"1\" class=\"dataframe\">\n",
       "  <thead>\n",
       "    <tr style=\"text-align: right;\">\n",
       "      <th></th>\n",
       "      <th>patientID</th>\n",
       "      <th>race</th>\n",
       "      <th>gender</th>\n",
       "      <th>age</th>\n",
       "      <th>readmitted</th>\n",
       "      <th>num_lab_procedures</th>\n",
       "      <th>num_procedures</th>\n",
       "      <th>num_medications</th>\n",
       "      <th>num_diagnoses</th>\n",
       "      <th>diagnosis_1</th>\n",
       "      <th>...</th>\n",
       "      <th>metformin.rosiglitazone</th>\n",
       "      <th>metformin.pioglitazone</th>\n",
       "      <th>change</th>\n",
       "      <th>diabetesMed</th>\n",
       "      <th>AdmissionID</th>\n",
       "      <th>Admission_date</th>\n",
       "      <th>Discharge_date</th>\n",
       "      <th>admission_type_id</th>\n",
       "      <th>discharge_disposition_id</th>\n",
       "      <th>admission_source_id</th>\n",
       "    </tr>\n",
       "  </thead>\n",
       "  <tbody>\n",
       "    <tr>\n",
       "      <th>0</th>\n",
       "      <td>PT11101</td>\n",
       "      <td>Caucasian</td>\n",
       "      <td>Male</td>\n",
       "      <td>[80-90)</td>\n",
       "      <td>NO</td>\n",
       "      <td>18</td>\n",
       "      <td>1</td>\n",
       "      <td>7</td>\n",
       "      <td>7</td>\n",
       "      <td>198</td>\n",
       "      <td>...</td>\n",
       "      <td>No</td>\n",
       "      <td>No</td>\n",
       "      <td>Ch</td>\n",
       "      <td>Yes</td>\n",
       "      <td>ADM31792</td>\n",
       "      <td>2015-07-18</td>\n",
       "      <td>2015-07-23</td>\n",
       "      <td>emergency</td>\n",
       "      <td>1</td>\n",
       "      <td>7</td>\n",
       "    </tr>\n",
       "    <tr>\n",
       "      <th>1</th>\n",
       "      <td>PT11102</td>\n",
       "      <td>Caucasian</td>\n",
       "      <td>Male</td>\n",
       "      <td>[70-80)</td>\n",
       "      <td>NO</td>\n",
       "      <td>40</td>\n",
       "      <td>4</td>\n",
       "      <td>16</td>\n",
       "      <td>9</td>\n",
       "      <td>153</td>\n",
       "      <td>...</td>\n",
       "      <td>No</td>\n",
       "      <td>No</td>\n",
       "      <td>No</td>\n",
       "      <td>Yes</td>\n",
       "      <td>ADM42286</td>\n",
       "      <td>2016-04-23</td>\n",
       "      <td>2016-04-29</td>\n",
       "      <td>emergency</td>\n",
       "      <td>3</td>\n",
       "      <td>7</td>\n",
       "    </tr>\n",
       "    <tr>\n",
       "      <th>2</th>\n",
       "      <td>PT11103</td>\n",
       "      <td>NaN</td>\n",
       "      <td>Female</td>\n",
       "      <td>[60-70)</td>\n",
       "      <td>NO</td>\n",
       "      <td>39</td>\n",
       "      <td>1</td>\n",
       "      <td>12</td>\n",
       "      <td>5</td>\n",
       "      <td>535</td>\n",
       "      <td>...</td>\n",
       "      <td>No</td>\n",
       "      <td>No</td>\n",
       "      <td>Ch</td>\n",
       "      <td>Yes</td>\n",
       "      <td>ADM43029</td>\n",
       "      <td>2016-05-13</td>\n",
       "      <td>2016-05-17</td>\n",
       "      <td>emergency</td>\n",
       "      <td>1</td>\n",
       "      <td>1</td>\n",
       "    </tr>\n",
       "    <tr>\n",
       "      <th>3</th>\n",
       "      <td>PT11104</td>\n",
       "      <td>Caucasian</td>\n",
       "      <td>Female</td>\n",
       "      <td>[70-80)</td>\n",
       "      <td>NO</td>\n",
       "      <td>1</td>\n",
       "      <td>0</td>\n",
       "      <td>10</td>\n",
       "      <td>9</td>\n",
       "      <td>786</td>\n",
       "      <td>...</td>\n",
       "      <td>No</td>\n",
       "      <td>No</td>\n",
       "      <td>No</td>\n",
       "      <td>Yes</td>\n",
       "      <td>ADM30585</td>\n",
       "      <td>2015-06-16</td>\n",
       "      <td>2015-06-18</td>\n",
       "      <td>emergency</td>\n",
       "      <td>1</td>\n",
       "      <td>7</td>\n",
       "    </tr>\n",
       "    <tr>\n",
       "      <th>4</th>\n",
       "      <td>PT11105</td>\n",
       "      <td>Caucasian</td>\n",
       "      <td>Female</td>\n",
       "      <td>[60-70)</td>\n",
       "      <td>Within30days</td>\n",
       "      <td>44</td>\n",
       "      <td>0</td>\n",
       "      <td>16</td>\n",
       "      <td>9</td>\n",
       "      <td>250.02</td>\n",
       "      <td>...</td>\n",
       "      <td>No</td>\n",
       "      <td>No</td>\n",
       "      <td>No</td>\n",
       "      <td>Yes</td>\n",
       "      <td>ADM40516</td>\n",
       "      <td>2016-03-08</td>\n",
       "      <td>2016-03-09</td>\n",
       "      <td>emergency</td>\n",
       "      <td>1</td>\n",
       "      <td>7</td>\n",
       "    </tr>\n",
       "  </tbody>\n",
       "</table>\n",
       "<p>5 rows × 42 columns</p>\n",
       "</div>"
      ],
      "text/plain": [
       "  patientID       race  gender      age    readmitted  num_lab_procedures  \\\n",
       "0   PT11101  Caucasian    Male  [80-90)            NO                  18   \n",
       "1   PT11102  Caucasian    Male  [70-80)            NO                  40   \n",
       "2   PT11103        NaN  Female  [60-70)            NO                  39   \n",
       "3   PT11104  Caucasian  Female  [70-80)            NO                   1   \n",
       "4   PT11105  Caucasian  Female  [60-70)  Within30days                  44   \n",
       "\n",
       "   num_procedures  num_medications  num_diagnoses diagnosis_1  \\\n",
       "0               1                7              7         198   \n",
       "1               4               16              9         153   \n",
       "2               1               12              5         535   \n",
       "3               0               10              9         786   \n",
       "4               0               16              9      250.02   \n",
       "\n",
       "          ...         metformin.rosiglitazone metformin.pioglitazone change  \\\n",
       "0         ...                              No                     No     Ch   \n",
       "1         ...                              No                     No     No   \n",
       "2         ...                              No                     No     Ch   \n",
       "3         ...                              No                     No     No   \n",
       "4         ...                              No                     No     No   \n",
       "\n",
       "  diabetesMed AdmissionID Admission_date Discharge_date admission_type_id  \\\n",
       "0         Yes    ADM31792     2015-07-18     2015-07-23         emergency   \n",
       "1         Yes    ADM42286     2016-04-23     2016-04-29         emergency   \n",
       "2         Yes    ADM43029     2016-05-13     2016-05-17         emergency   \n",
       "3         Yes    ADM30585     2015-06-16     2015-06-18         emergency   \n",
       "4         Yes    ADM40516     2016-03-08     2016-03-09         emergency   \n",
       "\n",
       "  discharge_disposition_id admission_source_id  \n",
       "0                        1                   7  \n",
       "1                        3                   7  \n",
       "2                        1                   1  \n",
       "3                        1                   7  \n",
       "4                        1                   7  \n",
       "\n",
       "[5 rows x 42 columns]"
      ]
     },
     "execution_count": 274,
     "metadata": {},
     "output_type": "execute_result"
    }
   ],
   "source": [
    "train_discharge.head()"
   ]
  },
  {
   "cell_type": "code",
   "execution_count": 275,
   "metadata": {},
   "outputs": [],
   "source": [
    "# Convert the levels of discharge_disposition_id \n",
    "train_discharge_discharge_disposition_id = {1:'dis_home',\n",
    "          2:'Another_hopital',\n",
    "          3:'SNF',\n",
    "          4:'ICF',\n",
    "          5:'Another_ICU',\n",
    "          6:'Home_HomeHealthSevrice',\n",
    "          7:'AMA',\n",
    "          8:'Nothing',\n",
    "          9:'Nothing',\n",
    "          10:'Nothing',\n",
    "          11:'Nothing',\n",
    "          12:'Nothing',\n",
    "          13:'MF',\n",
    "          14:'SNF',\n",
    "          15:'Nothing',\n",
    "          16:'Nothing',\n",
    "          17:'Null',\n",
    "          18:'Another_Rehab',\n",
    "          19:'Long_term',\n",
    "          20:'Nothing',\n",
    "          21:'Not_Mapped',\n",
    "          22:'Nothing',\n",
    "          23:'Pshychiartic',\n",
    "          24:'Expired'\n",
    "          }\n",
    "          "
   ]
  },
  {
   "cell_type": "code",
   "execution_count": 276,
   "metadata": {},
   "outputs": [],
   "source": [
    "# Convert the levels of discharge_disposition_id \n",
    "test_discharge_discharge_disposition_id = {1:'dis_home',\n",
    "          2:'Another_hopital',\n",
    "          3:'SNF',\n",
    "          4:'ICF',\n",
    "          5:'Another_ICU',\n",
    "          6:'Home_HomeHealthSevrice',\n",
    "          7:'AMA',\n",
    "          8:'Nothing',\n",
    "          9:'Nothing',\n",
    "          10:'Nothing',\n",
    "          11:'Nothing',\n",
    "          12:'Nothing',\n",
    "          13:'MF',\n",
    "          14:'SNF',\n",
    "          15:'Nothing',\n",
    "          16:'Nothing',\n",
    "          17:'Null',\n",
    "          18:'Another_Rehab',\n",
    "          19:'Long_term',\n",
    "          20:'Nothing',\n",
    "          21:'Not_Mapped',\n",
    "          22:'Nothing',\n",
    "          23:'Pshychiartic',\n",
    "          24:'Expired'\n",
    "          }\n",
    "          "
   ]
  },
  {
   "cell_type": "code",
   "execution_count": 277,
   "metadata": {},
   "outputs": [],
   "source": [
    "train_discharge = train_discharge.replace({\"discharge_disposition_id\":train_discharge_discharge_disposition_id})"
   ]
  },
  {
   "cell_type": "code",
   "execution_count": 278,
   "metadata": {},
   "outputs": [],
   "source": [
    "test_discharge = test_discharge.replace({\"discharge_disposition_id\":test_discharge_discharge_disposition_id})"
   ]
  },
  {
   "cell_type": "code",
   "execution_count": 279,
   "metadata": {},
   "outputs": [
    {
     "data": {
      "text/html": [
       "<div>\n",
       "<style scoped>\n",
       "    .dataframe tbody tr th:only-of-type {\n",
       "        vertical-align: middle;\n",
       "    }\n",
       "\n",
       "    .dataframe tbody tr th {\n",
       "        vertical-align: top;\n",
       "    }\n",
       "\n",
       "    .dataframe thead th {\n",
       "        text-align: right;\n",
       "    }\n",
       "</style>\n",
       "<table border=\"1\" class=\"dataframe\">\n",
       "  <thead>\n",
       "    <tr style=\"text-align: right;\">\n",
       "      <th></th>\n",
       "      <th>patientID</th>\n",
       "      <th>race</th>\n",
       "      <th>gender</th>\n",
       "      <th>age</th>\n",
       "      <th>readmitted</th>\n",
       "      <th>num_lab_procedures</th>\n",
       "      <th>num_procedures</th>\n",
       "      <th>num_medications</th>\n",
       "      <th>num_diagnoses</th>\n",
       "      <th>diagnosis_1</th>\n",
       "      <th>...</th>\n",
       "      <th>metformin.rosiglitazone</th>\n",
       "      <th>metformin.pioglitazone</th>\n",
       "      <th>change</th>\n",
       "      <th>diabetesMed</th>\n",
       "      <th>AdmissionID</th>\n",
       "      <th>Admission_date</th>\n",
       "      <th>Discharge_date</th>\n",
       "      <th>admission_type_id</th>\n",
       "      <th>discharge_disposition_id</th>\n",
       "      <th>admission_source_id</th>\n",
       "    </tr>\n",
       "  </thead>\n",
       "  <tbody>\n",
       "    <tr>\n",
       "      <th>0</th>\n",
       "      <td>PT11101</td>\n",
       "      <td>Caucasian</td>\n",
       "      <td>Male</td>\n",
       "      <td>[80-90)</td>\n",
       "      <td>NO</td>\n",
       "      <td>18</td>\n",
       "      <td>1</td>\n",
       "      <td>7</td>\n",
       "      <td>7</td>\n",
       "      <td>198</td>\n",
       "      <td>...</td>\n",
       "      <td>No</td>\n",
       "      <td>No</td>\n",
       "      <td>Ch</td>\n",
       "      <td>Yes</td>\n",
       "      <td>ADM31792</td>\n",
       "      <td>2015-07-18</td>\n",
       "      <td>2015-07-23</td>\n",
       "      <td>emergency</td>\n",
       "      <td>dis_home</td>\n",
       "      <td>7</td>\n",
       "    </tr>\n",
       "    <tr>\n",
       "      <th>1</th>\n",
       "      <td>PT11102</td>\n",
       "      <td>Caucasian</td>\n",
       "      <td>Male</td>\n",
       "      <td>[70-80)</td>\n",
       "      <td>NO</td>\n",
       "      <td>40</td>\n",
       "      <td>4</td>\n",
       "      <td>16</td>\n",
       "      <td>9</td>\n",
       "      <td>153</td>\n",
       "      <td>...</td>\n",
       "      <td>No</td>\n",
       "      <td>No</td>\n",
       "      <td>No</td>\n",
       "      <td>Yes</td>\n",
       "      <td>ADM42286</td>\n",
       "      <td>2016-04-23</td>\n",
       "      <td>2016-04-29</td>\n",
       "      <td>emergency</td>\n",
       "      <td>SNF</td>\n",
       "      <td>7</td>\n",
       "    </tr>\n",
       "  </tbody>\n",
       "</table>\n",
       "<p>2 rows × 42 columns</p>\n",
       "</div>"
      ],
      "text/plain": [
       "  patientID       race gender      age readmitted  num_lab_procedures  \\\n",
       "0   PT11101  Caucasian   Male  [80-90)         NO                  18   \n",
       "1   PT11102  Caucasian   Male  [70-80)         NO                  40   \n",
       "\n",
       "   num_procedures  num_medications  num_diagnoses diagnosis_1  \\\n",
       "0               1                7              7         198   \n",
       "1               4               16              9         153   \n",
       "\n",
       "          ...         metformin.rosiglitazone metformin.pioglitazone change  \\\n",
       "0         ...                              No                     No     Ch   \n",
       "1         ...                              No                     No     No   \n",
       "\n",
       "  diabetesMed AdmissionID Admission_date Discharge_date admission_type_id  \\\n",
       "0         Yes    ADM31792     2015-07-18     2015-07-23         emergency   \n",
       "1         Yes    ADM42286     2016-04-23     2016-04-29         emergency   \n",
       "\n",
       "  discharge_disposition_id admission_source_id  \n",
       "0                 dis_home                   7  \n",
       "1                      SNF                   7  \n",
       "\n",
       "[2 rows x 42 columns]"
      ]
     },
     "execution_count": 279,
     "metadata": {},
     "output_type": "execute_result"
    }
   ],
   "source": [
    "train_discharge.head(2)"
   ]
  },
  {
   "cell_type": "code",
   "execution_count": 280,
   "metadata": {},
   "outputs": [],
   "source": [
    "# Convert the levels of admission_source_id\n",
    "train_discharge_admission_source_id = {1:'1',2:'2',3:'3',4:'4',5:'5',6:'4',7:'7',8:'8',9:'9',10:'4',11:'11',12:'13',13:'14',14:'9',15:'9',16:'22',17:'25'}"
   ]
  },
  {
   "cell_type": "code",
   "execution_count": 281,
   "metadata": {},
   "outputs": [],
   "source": [
    "# Convert the levels of admission_source_id\n",
    "test_discharge_admission_source_id = {1:'1',2:'2',3:'3',4:'4',5:'5',6:'4',7:'7',8:'8',9:'9',10:'4',11:'11',12:'13',13:'14',14:'9',15:'9',16:'22',17:'25'}"
   ]
  },
  {
   "cell_type": "code",
   "execution_count": 282,
   "metadata": {},
   "outputs": [],
   "source": [
    "train_discharge = train_discharge.replace({\"admission_source_id\":train_discharge_admission_source_id})"
   ]
  },
  {
   "cell_type": "code",
   "execution_count": 283,
   "metadata": {},
   "outputs": [],
   "source": [
    "test_discharge = test_discharge.replace({\"admission_source_id\":test_discharge_admission_source_id})"
   ]
  },
  {
   "cell_type": "code",
   "execution_count": 284,
   "metadata": {},
   "outputs": [
    {
     "data": {
      "text/html": [
       "<div>\n",
       "<style scoped>\n",
       "    .dataframe tbody tr th:only-of-type {\n",
       "        vertical-align: middle;\n",
       "    }\n",
       "\n",
       "    .dataframe tbody tr th {\n",
       "        vertical-align: top;\n",
       "    }\n",
       "\n",
       "    .dataframe thead th {\n",
       "        text-align: right;\n",
       "    }\n",
       "</style>\n",
       "<table border=\"1\" class=\"dataframe\">\n",
       "  <thead>\n",
       "    <tr style=\"text-align: right;\">\n",
       "      <th></th>\n",
       "      <th>patientID</th>\n",
       "      <th>race</th>\n",
       "      <th>gender</th>\n",
       "      <th>age</th>\n",
       "      <th>num_lab_procedures</th>\n",
       "      <th>num_procedures</th>\n",
       "      <th>num_medications</th>\n",
       "      <th>num_diagnoses</th>\n",
       "      <th>diagnosis_1</th>\n",
       "      <th>diagnosis_2</th>\n",
       "      <th>...</th>\n",
       "      <th>metformin.rosiglitazone</th>\n",
       "      <th>metformin.pioglitazone</th>\n",
       "      <th>change</th>\n",
       "      <th>diabetesMed</th>\n",
       "      <th>AdmissionID</th>\n",
       "      <th>Admission_date</th>\n",
       "      <th>Discharge_date</th>\n",
       "      <th>admission_type_id</th>\n",
       "      <th>discharge_disposition_id</th>\n",
       "      <th>admission_source_id</th>\n",
       "    </tr>\n",
       "  </thead>\n",
       "  <tbody>\n",
       "    <tr>\n",
       "      <th>0</th>\n",
       "      <td>PT60251</td>\n",
       "      <td>Caucasian</td>\n",
       "      <td>Female</td>\n",
       "      <td>[60-70)</td>\n",
       "      <td>49</td>\n",
       "      <td>0</td>\n",
       "      <td>9</td>\n",
       "      <td>9</td>\n",
       "      <td>8</td>\n",
       "      <td>276</td>\n",
       "      <td>...</td>\n",
       "      <td>No</td>\n",
       "      <td>No</td>\n",
       "      <td>No</td>\n",
       "      <td>No</td>\n",
       "      <td>ADM71912</td>\n",
       "      <td>2016-08-19</td>\n",
       "      <td>2016-08-23</td>\n",
       "      <td>emergency</td>\n",
       "      <td>SNF</td>\n",
       "      <td>7</td>\n",
       "    </tr>\n",
       "    <tr>\n",
       "      <th>1</th>\n",
       "      <td>PT60252</td>\n",
       "      <td>Caucasian</td>\n",
       "      <td>Male</td>\n",
       "      <td>[50-60)</td>\n",
       "      <td>42</td>\n",
       "      <td>3</td>\n",
       "      <td>28</td>\n",
       "      <td>7</td>\n",
       "      <td>414</td>\n",
       "      <td>997</td>\n",
       "      <td>...</td>\n",
       "      <td>No</td>\n",
       "      <td>No</td>\n",
       "      <td>Ch</td>\n",
       "      <td>Yes</td>\n",
       "      <td>ADM71036</td>\n",
       "      <td>2016-07-19</td>\n",
       "      <td>2016-07-23</td>\n",
       "      <td>casual</td>\n",
       "      <td>Home_HomeHealthSevrice</td>\n",
       "      <td>1</td>\n",
       "    </tr>\n",
       "    <tr>\n",
       "      <th>2</th>\n",
       "      <td>PT60253</td>\n",
       "      <td>Caucasian</td>\n",
       "      <td>Female</td>\n",
       "      <td>[50-60)</td>\n",
       "      <td>61</td>\n",
       "      <td>1</td>\n",
       "      <td>15</td>\n",
       "      <td>6</td>\n",
       "      <td>162</td>\n",
       "      <td>197</td>\n",
       "      <td>...</td>\n",
       "      <td>No</td>\n",
       "      <td>No</td>\n",
       "      <td>Ch</td>\n",
       "      <td>Yes</td>\n",
       "      <td>ADM77733</td>\n",
       "      <td>2017-02-28</td>\n",
       "      <td>2017-03-11</td>\n",
       "      <td>casual</td>\n",
       "      <td>dis_home</td>\n",
       "      <td>7</td>\n",
       "    </tr>\n",
       "    <tr>\n",
       "      <th>3</th>\n",
       "      <td>PT60254</td>\n",
       "      <td>AfricanAmerican</td>\n",
       "      <td>Female</td>\n",
       "      <td>[40-50)</td>\n",
       "      <td>35</td>\n",
       "      <td>4</td>\n",
       "      <td>29</td>\n",
       "      <td>8</td>\n",
       "      <td>626</td>\n",
       "      <td>340</td>\n",
       "      <td>...</td>\n",
       "      <td>No</td>\n",
       "      <td>No</td>\n",
       "      <td>No</td>\n",
       "      <td>Yes</td>\n",
       "      <td>ADM70695</td>\n",
       "      <td>2016-07-08</td>\n",
       "      <td>2016-07-12</td>\n",
       "      <td>casual</td>\n",
       "      <td>Another_Rehab</td>\n",
       "      <td>1</td>\n",
       "    </tr>\n",
       "    <tr>\n",
       "      <th>4</th>\n",
       "      <td>PT60255</td>\n",
       "      <td>Caucasian</td>\n",
       "      <td>Female</td>\n",
       "      <td>[60-70)</td>\n",
       "      <td>56</td>\n",
       "      <td>1</td>\n",
       "      <td>22</td>\n",
       "      <td>9</td>\n",
       "      <td>250.8</td>\n",
       "      <td>263</td>\n",
       "      <td>...</td>\n",
       "      <td>No</td>\n",
       "      <td>No</td>\n",
       "      <td>No</td>\n",
       "      <td>No</td>\n",
       "      <td>ADM83536</td>\n",
       "      <td>2017-09-08</td>\n",
       "      <td>2017-09-16</td>\n",
       "      <td>emergency</td>\n",
       "      <td>SNF</td>\n",
       "      <td>5</td>\n",
       "    </tr>\n",
       "  </tbody>\n",
       "</table>\n",
       "<p>5 rows × 41 columns</p>\n",
       "</div>"
      ],
      "text/plain": [
       "  patientID             race  gender      age  num_lab_procedures  \\\n",
       "0   PT60251        Caucasian  Female  [60-70)                  49   \n",
       "1   PT60252        Caucasian    Male  [50-60)                  42   \n",
       "2   PT60253        Caucasian  Female  [50-60)                  61   \n",
       "3   PT60254  AfricanAmerican  Female  [40-50)                  35   \n",
       "4   PT60255        Caucasian  Female  [60-70)                  56   \n",
       "\n",
       "   num_procedures  num_medications  num_diagnoses diagnosis_1 diagnosis_2  \\\n",
       "0               0                9              9           8         276   \n",
       "1               3               28              7         414         997   \n",
       "2               1               15              6         162         197   \n",
       "3               4               29              8         626         340   \n",
       "4               1               22              9       250.8         263   \n",
       "\n",
       "          ...         metformin.rosiglitazone metformin.pioglitazone change  \\\n",
       "0         ...                              No                     No     No   \n",
       "1         ...                              No                     No     Ch   \n",
       "2         ...                              No                     No     Ch   \n",
       "3         ...                              No                     No     No   \n",
       "4         ...                              No                     No     No   \n",
       "\n",
       "  diabetesMed AdmissionID Admission_date Discharge_date admission_type_id  \\\n",
       "0          No    ADM71912     2016-08-19     2016-08-23         emergency   \n",
       "1         Yes    ADM71036     2016-07-19     2016-07-23            casual   \n",
       "2         Yes    ADM77733     2017-02-28     2017-03-11            casual   \n",
       "3         Yes    ADM70695     2016-07-08     2016-07-12            casual   \n",
       "4          No    ADM83536     2017-09-08     2017-09-16         emergency   \n",
       "\n",
       "  discharge_disposition_id admission_source_id  \n",
       "0                      SNF                   7  \n",
       "1   Home_HomeHealthSevrice                   1  \n",
       "2                 dis_home                   7  \n",
       "3            Another_Rehab                   1  \n",
       "4                      SNF                   5  \n",
       "\n",
       "[5 rows x 41 columns]"
      ]
     },
     "execution_count": 284,
     "metadata": {},
     "output_type": "execute_result"
    }
   ],
   "source": [
    "test_discharge.head()"
   ]
  },
  {
   "cell_type": "code",
   "execution_count": 285,
   "metadata": {},
   "outputs": [],
   "source": [
    "# Convert age two numeric from ordinal\n",
    "train_discharge_age = {'[10-20)':'5','[10-20)':'15','[20-30)':'25','[30-40)':'35','[40-50)':'45','[50-60)':'55','[60-70)':'65','[70-80)':'75','[80-90)':'85','[90-100)':'95'}"
   ]
  },
  {
   "cell_type": "code",
   "execution_count": 286,
   "metadata": {},
   "outputs": [],
   "source": [
    "# Convert age two numeric from ordinal\n",
    "test_discharge_age = {'[10-20)':'5','[10-20)':'15','[20-30)':'25','[30-40)':'35','[40-50)':'45','[50-60)':'55','[60-70)':'65','[70-80)':'75','[80-90)':'85','[90-100)':'95'}"
   ]
  },
  {
   "cell_type": "code",
   "execution_count": 287,
   "metadata": {},
   "outputs": [],
   "source": [
    "train_discharge = train_discharge.replace({\"age\":train_discharge_age})"
   ]
  },
  {
   "cell_type": "code",
   "execution_count": 288,
   "metadata": {},
   "outputs": [],
   "source": [
    "test_discharge = test_discharge.replace({\"age\":test_discharge_age})"
   ]
  },
  {
   "cell_type": "code",
   "execution_count": 289,
   "metadata": {},
   "outputs": [
    {
     "data": {
      "text/html": [
       "<div>\n",
       "<style scoped>\n",
       "    .dataframe tbody tr th:only-of-type {\n",
       "        vertical-align: middle;\n",
       "    }\n",
       "\n",
       "    .dataframe tbody tr th {\n",
       "        vertical-align: top;\n",
       "    }\n",
       "\n",
       "    .dataframe thead th {\n",
       "        text-align: right;\n",
       "    }\n",
       "</style>\n",
       "<table border=\"1\" class=\"dataframe\">\n",
       "  <thead>\n",
       "    <tr style=\"text-align: right;\">\n",
       "      <th></th>\n",
       "      <th>patientID</th>\n",
       "      <th>race</th>\n",
       "      <th>gender</th>\n",
       "      <th>age</th>\n",
       "      <th>readmitted</th>\n",
       "      <th>num_lab_procedures</th>\n",
       "      <th>num_procedures</th>\n",
       "      <th>num_medications</th>\n",
       "      <th>num_diagnoses</th>\n",
       "      <th>diagnosis_1</th>\n",
       "      <th>...</th>\n",
       "      <th>metformin.rosiglitazone</th>\n",
       "      <th>metformin.pioglitazone</th>\n",
       "      <th>change</th>\n",
       "      <th>diabetesMed</th>\n",
       "      <th>AdmissionID</th>\n",
       "      <th>Admission_date</th>\n",
       "      <th>Discharge_date</th>\n",
       "      <th>admission_type_id</th>\n",
       "      <th>discharge_disposition_id</th>\n",
       "      <th>admission_source_id</th>\n",
       "    </tr>\n",
       "  </thead>\n",
       "  <tbody>\n",
       "    <tr>\n",
       "      <th>0</th>\n",
       "      <td>PT11101</td>\n",
       "      <td>Caucasian</td>\n",
       "      <td>Male</td>\n",
       "      <td>85</td>\n",
       "      <td>NO</td>\n",
       "      <td>18</td>\n",
       "      <td>1</td>\n",
       "      <td>7</td>\n",
       "      <td>7</td>\n",
       "      <td>198</td>\n",
       "      <td>...</td>\n",
       "      <td>No</td>\n",
       "      <td>No</td>\n",
       "      <td>Ch</td>\n",
       "      <td>Yes</td>\n",
       "      <td>ADM31792</td>\n",
       "      <td>2015-07-18</td>\n",
       "      <td>2015-07-23</td>\n",
       "      <td>emergency</td>\n",
       "      <td>dis_home</td>\n",
       "      <td>7</td>\n",
       "    </tr>\n",
       "    <tr>\n",
       "      <th>1</th>\n",
       "      <td>PT11102</td>\n",
       "      <td>Caucasian</td>\n",
       "      <td>Male</td>\n",
       "      <td>75</td>\n",
       "      <td>NO</td>\n",
       "      <td>40</td>\n",
       "      <td>4</td>\n",
       "      <td>16</td>\n",
       "      <td>9</td>\n",
       "      <td>153</td>\n",
       "      <td>...</td>\n",
       "      <td>No</td>\n",
       "      <td>No</td>\n",
       "      <td>No</td>\n",
       "      <td>Yes</td>\n",
       "      <td>ADM42286</td>\n",
       "      <td>2016-04-23</td>\n",
       "      <td>2016-04-29</td>\n",
       "      <td>emergency</td>\n",
       "      <td>SNF</td>\n",
       "      <td>7</td>\n",
       "    </tr>\n",
       "    <tr>\n",
       "      <th>2</th>\n",
       "      <td>PT11103</td>\n",
       "      <td>NaN</td>\n",
       "      <td>Female</td>\n",
       "      <td>65</td>\n",
       "      <td>NO</td>\n",
       "      <td>39</td>\n",
       "      <td>1</td>\n",
       "      <td>12</td>\n",
       "      <td>5</td>\n",
       "      <td>535</td>\n",
       "      <td>...</td>\n",
       "      <td>No</td>\n",
       "      <td>No</td>\n",
       "      <td>Ch</td>\n",
       "      <td>Yes</td>\n",
       "      <td>ADM43029</td>\n",
       "      <td>2016-05-13</td>\n",
       "      <td>2016-05-17</td>\n",
       "      <td>emergency</td>\n",
       "      <td>dis_home</td>\n",
       "      <td>1</td>\n",
       "    </tr>\n",
       "    <tr>\n",
       "      <th>3</th>\n",
       "      <td>PT11104</td>\n",
       "      <td>Caucasian</td>\n",
       "      <td>Female</td>\n",
       "      <td>75</td>\n",
       "      <td>NO</td>\n",
       "      <td>1</td>\n",
       "      <td>0</td>\n",
       "      <td>10</td>\n",
       "      <td>9</td>\n",
       "      <td>786</td>\n",
       "      <td>...</td>\n",
       "      <td>No</td>\n",
       "      <td>No</td>\n",
       "      <td>No</td>\n",
       "      <td>Yes</td>\n",
       "      <td>ADM30585</td>\n",
       "      <td>2015-06-16</td>\n",
       "      <td>2015-06-18</td>\n",
       "      <td>emergency</td>\n",
       "      <td>dis_home</td>\n",
       "      <td>7</td>\n",
       "    </tr>\n",
       "    <tr>\n",
       "      <th>4</th>\n",
       "      <td>PT11105</td>\n",
       "      <td>Caucasian</td>\n",
       "      <td>Female</td>\n",
       "      <td>65</td>\n",
       "      <td>Within30days</td>\n",
       "      <td>44</td>\n",
       "      <td>0</td>\n",
       "      <td>16</td>\n",
       "      <td>9</td>\n",
       "      <td>250.02</td>\n",
       "      <td>...</td>\n",
       "      <td>No</td>\n",
       "      <td>No</td>\n",
       "      <td>No</td>\n",
       "      <td>Yes</td>\n",
       "      <td>ADM40516</td>\n",
       "      <td>2016-03-08</td>\n",
       "      <td>2016-03-09</td>\n",
       "      <td>emergency</td>\n",
       "      <td>dis_home</td>\n",
       "      <td>7</td>\n",
       "    </tr>\n",
       "  </tbody>\n",
       "</table>\n",
       "<p>5 rows × 42 columns</p>\n",
       "</div>"
      ],
      "text/plain": [
       "  patientID       race  gender age    readmitted  num_lab_procedures  \\\n",
       "0   PT11101  Caucasian    Male  85            NO                  18   \n",
       "1   PT11102  Caucasian    Male  75            NO                  40   \n",
       "2   PT11103        NaN  Female  65            NO                  39   \n",
       "3   PT11104  Caucasian  Female  75            NO                   1   \n",
       "4   PT11105  Caucasian  Female  65  Within30days                  44   \n",
       "\n",
       "   num_procedures  num_medications  num_diagnoses diagnosis_1  \\\n",
       "0               1                7              7         198   \n",
       "1               4               16              9         153   \n",
       "2               1               12              5         535   \n",
       "3               0               10              9         786   \n",
       "4               0               16              9      250.02   \n",
       "\n",
       "          ...         metformin.rosiglitazone metformin.pioglitazone change  \\\n",
       "0         ...                              No                     No     Ch   \n",
       "1         ...                              No                     No     No   \n",
       "2         ...                              No                     No     Ch   \n",
       "3         ...                              No                     No     No   \n",
       "4         ...                              No                     No     No   \n",
       "\n",
       "  diabetesMed AdmissionID Admission_date Discharge_date admission_type_id  \\\n",
       "0         Yes    ADM31792     2015-07-18     2015-07-23         emergency   \n",
       "1         Yes    ADM42286     2016-04-23     2016-04-29         emergency   \n",
       "2         Yes    ADM43029     2016-05-13     2016-05-17         emergency   \n",
       "3         Yes    ADM30585     2015-06-16     2015-06-18         emergency   \n",
       "4         Yes    ADM40516     2016-03-08     2016-03-09         emergency   \n",
       "\n",
       "  discharge_disposition_id admission_source_id  \n",
       "0                 dis_home                   7  \n",
       "1                      SNF                   7  \n",
       "2                 dis_home                   1  \n",
       "3                 dis_home                   7  \n",
       "4                 dis_home                   7  \n",
       "\n",
       "[5 rows x 42 columns]"
      ]
     },
     "execution_count": 289,
     "metadata": {},
     "output_type": "execute_result"
    }
   ],
   "source": [
    "train_discharge.head()"
   ]
  },
  {
   "cell_type": "code",
   "execution_count": 290,
   "metadata": {},
   "outputs": [],
   "source": [
    "# Create the features named No of days and the month in which they stayed in hospital before discharge\n",
    "cols=[\"Admission_date\",\"Discharge_date\"]\n",
    "\n",
    "train_discharge.Discharge_date= train_discharge.Discharge_date.astype('datetime64')\n",
    "train_discharge.Admission_date= train_discharge.Admission_date.astype('datetime64')\n",
    "train_discharge['No_of_days_Stayed']=(train_discharge.Discharge_date-train_discharge.Admission_date).dt.days\n",
    "train_discharge['Month_of_year']=(train_discharge.Admission_date).dt.month\n",
    "\n",
    "\n"
   ]
  },
  {
   "cell_type": "code",
   "execution_count": 291,
   "metadata": {},
   "outputs": [],
   "source": [
    "cols=[\"Admission_date\",\"Discharge_date\"]\n",
    "\n",
    "test_discharge.Discharge_date= test_discharge.Discharge_date.astype('datetime64')\n",
    "test_discharge.Admission_date= test_discharge.Admission_date.astype('datetime64')\n",
    "test_discharge['No_of_days_Stayed']=(test_discharge.Discharge_date-test_discharge.Admission_date).dt.days\n",
    "test_discharge['Month_of_year']=(test_discharge.Admission_date).dt.month\n",
    "\n",
    "\n"
   ]
  },
  {
   "cell_type": "code",
   "execution_count": 292,
   "metadata": {},
   "outputs": [
    {
     "data": {
      "text/html": [
       "<div>\n",
       "<style scoped>\n",
       "    .dataframe tbody tr th:only-of-type {\n",
       "        vertical-align: middle;\n",
       "    }\n",
       "\n",
       "    .dataframe tbody tr th {\n",
       "        vertical-align: top;\n",
       "    }\n",
       "\n",
       "    .dataframe thead th {\n",
       "        text-align: right;\n",
       "    }\n",
       "</style>\n",
       "<table border=\"1\" class=\"dataframe\">\n",
       "  <thead>\n",
       "    <tr style=\"text-align: right;\">\n",
       "      <th></th>\n",
       "      <th>patientID</th>\n",
       "      <th>race</th>\n",
       "      <th>gender</th>\n",
       "      <th>age</th>\n",
       "      <th>readmitted</th>\n",
       "      <th>num_lab_procedures</th>\n",
       "      <th>num_procedures</th>\n",
       "      <th>num_medications</th>\n",
       "      <th>num_diagnoses</th>\n",
       "      <th>diagnosis_1</th>\n",
       "      <th>...</th>\n",
       "      <th>change</th>\n",
       "      <th>diabetesMed</th>\n",
       "      <th>AdmissionID</th>\n",
       "      <th>Admission_date</th>\n",
       "      <th>Discharge_date</th>\n",
       "      <th>admission_type_id</th>\n",
       "      <th>discharge_disposition_id</th>\n",
       "      <th>admission_source_id</th>\n",
       "      <th>No_of_days_Stayed</th>\n",
       "      <th>Month_of_year</th>\n",
       "    </tr>\n",
       "  </thead>\n",
       "  <tbody>\n",
       "    <tr>\n",
       "      <th>0</th>\n",
       "      <td>PT11101</td>\n",
       "      <td>Caucasian</td>\n",
       "      <td>Male</td>\n",
       "      <td>85</td>\n",
       "      <td>NO</td>\n",
       "      <td>18</td>\n",
       "      <td>1</td>\n",
       "      <td>7</td>\n",
       "      <td>7</td>\n",
       "      <td>198</td>\n",
       "      <td>...</td>\n",
       "      <td>Ch</td>\n",
       "      <td>Yes</td>\n",
       "      <td>ADM31792</td>\n",
       "      <td>2015-07-18</td>\n",
       "      <td>2015-07-23</td>\n",
       "      <td>emergency</td>\n",
       "      <td>dis_home</td>\n",
       "      <td>7</td>\n",
       "      <td>5</td>\n",
       "      <td>7</td>\n",
       "    </tr>\n",
       "    <tr>\n",
       "      <th>1</th>\n",
       "      <td>PT11102</td>\n",
       "      <td>Caucasian</td>\n",
       "      <td>Male</td>\n",
       "      <td>75</td>\n",
       "      <td>NO</td>\n",
       "      <td>40</td>\n",
       "      <td>4</td>\n",
       "      <td>16</td>\n",
       "      <td>9</td>\n",
       "      <td>153</td>\n",
       "      <td>...</td>\n",
       "      <td>No</td>\n",
       "      <td>Yes</td>\n",
       "      <td>ADM42286</td>\n",
       "      <td>2016-04-23</td>\n",
       "      <td>2016-04-29</td>\n",
       "      <td>emergency</td>\n",
       "      <td>SNF</td>\n",
       "      <td>7</td>\n",
       "      <td>6</td>\n",
       "      <td>4</td>\n",
       "    </tr>\n",
       "    <tr>\n",
       "      <th>2</th>\n",
       "      <td>PT11103</td>\n",
       "      <td>NaN</td>\n",
       "      <td>Female</td>\n",
       "      <td>65</td>\n",
       "      <td>NO</td>\n",
       "      <td>39</td>\n",
       "      <td>1</td>\n",
       "      <td>12</td>\n",
       "      <td>5</td>\n",
       "      <td>535</td>\n",
       "      <td>...</td>\n",
       "      <td>Ch</td>\n",
       "      <td>Yes</td>\n",
       "      <td>ADM43029</td>\n",
       "      <td>2016-05-13</td>\n",
       "      <td>2016-05-17</td>\n",
       "      <td>emergency</td>\n",
       "      <td>dis_home</td>\n",
       "      <td>1</td>\n",
       "      <td>4</td>\n",
       "      <td>5</td>\n",
       "    </tr>\n",
       "    <tr>\n",
       "      <th>3</th>\n",
       "      <td>PT11104</td>\n",
       "      <td>Caucasian</td>\n",
       "      <td>Female</td>\n",
       "      <td>75</td>\n",
       "      <td>NO</td>\n",
       "      <td>1</td>\n",
       "      <td>0</td>\n",
       "      <td>10</td>\n",
       "      <td>9</td>\n",
       "      <td>786</td>\n",
       "      <td>...</td>\n",
       "      <td>No</td>\n",
       "      <td>Yes</td>\n",
       "      <td>ADM30585</td>\n",
       "      <td>2015-06-16</td>\n",
       "      <td>2015-06-18</td>\n",
       "      <td>emergency</td>\n",
       "      <td>dis_home</td>\n",
       "      <td>7</td>\n",
       "      <td>2</td>\n",
       "      <td>6</td>\n",
       "    </tr>\n",
       "    <tr>\n",
       "      <th>4</th>\n",
       "      <td>PT11105</td>\n",
       "      <td>Caucasian</td>\n",
       "      <td>Female</td>\n",
       "      <td>65</td>\n",
       "      <td>Within30days</td>\n",
       "      <td>44</td>\n",
       "      <td>0</td>\n",
       "      <td>16</td>\n",
       "      <td>9</td>\n",
       "      <td>250.02</td>\n",
       "      <td>...</td>\n",
       "      <td>No</td>\n",
       "      <td>Yes</td>\n",
       "      <td>ADM40516</td>\n",
       "      <td>2016-03-08</td>\n",
       "      <td>2016-03-09</td>\n",
       "      <td>emergency</td>\n",
       "      <td>dis_home</td>\n",
       "      <td>7</td>\n",
       "      <td>1</td>\n",
       "      <td>3</td>\n",
       "    </tr>\n",
       "  </tbody>\n",
       "</table>\n",
       "<p>5 rows × 44 columns</p>\n",
       "</div>"
      ],
      "text/plain": [
       "  patientID       race  gender age    readmitted  num_lab_procedures  \\\n",
       "0   PT11101  Caucasian    Male  85            NO                  18   \n",
       "1   PT11102  Caucasian    Male  75            NO                  40   \n",
       "2   PT11103        NaN  Female  65            NO                  39   \n",
       "3   PT11104  Caucasian  Female  75            NO                   1   \n",
       "4   PT11105  Caucasian  Female  65  Within30days                  44   \n",
       "\n",
       "   num_procedures  num_medications  num_diagnoses diagnosis_1      ...       \\\n",
       "0               1                7              7         198      ...        \n",
       "1               4               16              9         153      ...        \n",
       "2               1               12              5         535      ...        \n",
       "3               0               10              9         786      ...        \n",
       "4               0               16              9      250.02      ...        \n",
       "\n",
       "  change diabetesMed AdmissionID Admission_date Discharge_date  \\\n",
       "0     Ch         Yes    ADM31792     2015-07-18     2015-07-23   \n",
       "1     No         Yes    ADM42286     2016-04-23     2016-04-29   \n",
       "2     Ch         Yes    ADM43029     2016-05-13     2016-05-17   \n",
       "3     No         Yes    ADM30585     2015-06-16     2015-06-18   \n",
       "4     No         Yes    ADM40516     2016-03-08     2016-03-09   \n",
       "\n",
       "  admission_type_id discharge_disposition_id admission_source_id  \\\n",
       "0         emergency                 dis_home                   7   \n",
       "1         emergency                      SNF                   7   \n",
       "2         emergency                 dis_home                   1   \n",
       "3         emergency                 dis_home                   7   \n",
       "4         emergency                 dis_home                   7   \n",
       "\n",
       "  No_of_days_Stayed Month_of_year  \n",
       "0                 5             7  \n",
       "1                 6             4  \n",
       "2                 4             5  \n",
       "3                 2             6  \n",
       "4                 1             3  \n",
       "\n",
       "[5 rows x 44 columns]"
      ]
     },
     "execution_count": 292,
     "metadata": {},
     "output_type": "execute_result"
    }
   ],
   "source": [
    "train_discharge.head()"
   ]
  },
  {
   "cell_type": "code",
   "execution_count": 293,
   "metadata": {},
   "outputs": [],
   "source": [
    "#Just renaming the levels for better understanding\n",
    "\n",
    "train_discharge_A1Cresult = {'>7':\"abnormal\",'>8':\"abnormal\",'None':\"not_tested\",'Norm':\"normal\"}"
   ]
  },
  {
   "cell_type": "code",
   "execution_count": 294,
   "metadata": {},
   "outputs": [],
   "source": [
    "#Just renaming the levels for better understanding\n",
    "\n",
    "test_discharge_A1Cresult = {'>7':\"abnormal\",'>8':\"abnormal\",'None':\"not_tested\",'Norm':\"normal\"}"
   ]
  },
  {
   "cell_type": "code",
   "execution_count": 295,
   "metadata": {},
   "outputs": [],
   "source": [
    "train_discharge = train_discharge.replace({\"A1Cresult\":train_discharge_A1Cresult})"
   ]
  },
  {
   "cell_type": "code",
   "execution_count": 296,
   "metadata": {},
   "outputs": [],
   "source": [
    "test_discharge = test_discharge.replace({\"A1Cresult\":test_discharge_A1Cresult})"
   ]
  },
  {
   "cell_type": "code",
   "execution_count": 297,
   "metadata": {},
   "outputs": [
    {
     "data": {
      "text/plain": [
       "0    not_tested\n",
       "1    not_tested\n",
       "2    not_tested\n",
       "3    not_tested\n",
       "4    not_tested\n",
       "Name: A1Cresult, dtype: object"
      ]
     },
     "execution_count": 297,
     "metadata": {},
     "output_type": "execute_result"
    }
   ],
   "source": [
    "train_discharge.A1Cresult.head()"
   ]
  },
  {
   "cell_type": "code",
   "execution_count": 298,
   "metadata": {},
   "outputs": [],
   "source": [
    "#Just renaming the levels for better understanding\n",
    "train_discharge_max_glu_serum = {'>200':\"abnormal\",'>300':\"abnormal\",'None':\"not_tested\",'Norm':\"normal\"}"
   ]
  },
  {
   "cell_type": "code",
   "execution_count": 299,
   "metadata": {},
   "outputs": [],
   "source": [
    "#Just renaming the levels for better understanding\n",
    "test_discharge_max_glu_serum = {'>200':\"abnormal\",'>300':\"abnormal\",'None':\"not_tested\",'Norm':\"normal\"}"
   ]
  },
  {
   "cell_type": "code",
   "execution_count": 300,
   "metadata": {},
   "outputs": [],
   "source": [
    "train_discharge = train_discharge.replace({\"max_glu_serum\":train_discharge_max_glu_serum})"
   ]
  },
  {
   "cell_type": "code",
   "execution_count": 301,
   "metadata": {},
   "outputs": [],
   "source": [
    "test_discharge = test_discharge.replace({\"max_glu_serum\":test_discharge_max_glu_serum})"
   ]
  },
  {
   "cell_type": "code",
   "execution_count": 302,
   "metadata": {},
   "outputs": [
    {
     "data": {
      "text/plain": [
       "0    not_tested\n",
       "1    not_tested\n",
       "2    not_tested\n",
       "3    not_tested\n",
       "4    not_tested\n",
       "Name: max_glu_serum, dtype: object"
      ]
     },
     "execution_count": 302,
     "metadata": {},
     "output_type": "execute_result"
    }
   ],
   "source": [
    "train_discharge.max_glu_serum.head()"
   ]
  },
  {
   "cell_type": "markdown",
   "metadata": {},
   "source": [
    "#### Remove the variables which are not useful"
   ]
  },
  {
   "cell_type": "code",
   "execution_count": 303,
   "metadata": {},
   "outputs": [
    {
     "data": {
      "text/plain": [
       "<bound method NDFrame.describe of       patientID             race  gender age    readmitted  \\\n",
       "0       PT11101        Caucasian    Male  85            NO   \n",
       "1       PT11102        Caucasian    Male  75            NO   \n",
       "2       PT11103              NaN  Female  65            NO   \n",
       "3       PT11104        Caucasian  Female  75            NO   \n",
       "4       PT11105        Caucasian  Female  65  Within30days   \n",
       "5       PT11106  AfricanAmerican    Male  45            NO   \n",
       "6       PT11107  AfricanAmerican  Female  45            NO   \n",
       "7       PT11108        Caucasian  Female  75            NO   \n",
       "8       PT11109        Caucasian  Female  75            NO   \n",
       "9       PT11110        Caucasian  Female  95            NO   \n",
       "10      PT11111  AfricanAmerican    Male  55  Within30days   \n",
       "11      PT11112        Caucasian  Female  85            NO   \n",
       "12      PT11113        Caucasian  Female  55            NO   \n",
       "13      PT11114        Caucasian  Female  55            NO   \n",
       "14      PT11115        Caucasian    Male  65            NO   \n",
       "15      PT11116        Caucasian    Male  75            NO   \n",
       "16      PT11117        Caucasian  Female  95            NO   \n",
       "17      PT11118        Caucasian    Male  75            NO   \n",
       "18      PT11119        Caucasian  Female  75            NO   \n",
       "19      PT11120        Caucasian    Male  65            NO   \n",
       "20      PT11121        Caucasian  Female  75            NO   \n",
       "21      PT11122        Caucasian  Female  65  Within30days   \n",
       "22      PT11123              NaN  Female  75            NO   \n",
       "23      PT11124        Caucasian    Male  65            NO   \n",
       "24      PT11125        Caucasian  Female  55            NO   \n",
       "25      PT11126        Caucasian    Male  55            NO   \n",
       "26      PT11127        Caucasian    Male  65            NO   \n",
       "27      PT11128  AfricanAmerican    Male  85            NO   \n",
       "28      PT11129        Caucasian    Male  65            NO   \n",
       "29      PT11130  AfricanAmerican  Female  75            NO   \n",
       "...         ...              ...     ...  ..           ...   \n",
       "34620   PT45721        Caucasian    Male  65  Within30days   \n",
       "34621   PT45722         Hispanic    Male  35            NO   \n",
       "34622   PT45723        Caucasian    Male  65            NO   \n",
       "34623   PT45724  AfricanAmerican    Male  65            NO   \n",
       "34624   PT45725         Hispanic  Female  65            NO   \n",
       "34625   PT45726        Caucasian  Female  75            NO   \n",
       "34626   PT45727        Caucasian    Male  75            NO   \n",
       "34627   PT45728  AfricanAmerican  Female  45            NO   \n",
       "34628   PT45729        Caucasian    Male  65            NO   \n",
       "34629   PT45730  AfricanAmerican  Female  65            NO   \n",
       "34630   PT45731        Caucasian    Male  85            NO   \n",
       "34631   PT45732        Caucasian    Male  85            NO   \n",
       "34632   PT45733        Caucasian  Female  65            NO   \n",
       "34633   PT45734        Caucasian  Female  35            NO   \n",
       "34634   PT45735        Caucasian    Male  75            NO   \n",
       "34635   PT45736  AfricanAmerican  Female  55            NO   \n",
       "34636   PT45737         Hispanic  Female  55            NO   \n",
       "34637   PT45738              NaN    Male  75  Within30days   \n",
       "34638   PT45739  AfricanAmerican    Male  65            NO   \n",
       "34639   PT45740        Caucasian  Female  55            NO   \n",
       "34640   PT45741        Caucasian    Male  85            NO   \n",
       "34641   PT45742        Caucasian    Male  45            NO   \n",
       "34642   PT45743        Caucasian  Female  55  Within30days   \n",
       "34643   PT45744        Caucasian  Female  55            NO   \n",
       "34644   PT45745        Caucasian  Female  85            NO   \n",
       "34645   PT45746        Caucasian  Female  85            NO   \n",
       "34646   PT45747              NaN    Male  35            NO   \n",
       "34647   PT45748        Caucasian    Male  45            NO   \n",
       "34648   PT45749        Caucasian  Female  85  Within30days   \n",
       "34649   PT45750        Caucasian    Male  75            NO   \n",
       "\n",
       "       num_lab_procedures  num_procedures  num_medications  num_diagnoses  \\\n",
       "0                      18               1                7              7   \n",
       "1                      40               4               16              9   \n",
       "2                      39               1               12              5   \n",
       "3                       1               0               10              9   \n",
       "4                      44               0               16              9   \n",
       "5                      52               0               12              4   \n",
       "6                      53               1               18              7   \n",
       "7                       9               1               15              8   \n",
       "8                      66               0               22              9   \n",
       "9                      49               0               11              9   \n",
       "10                     37               1                6              6   \n",
       "11                     51               2               27              9   \n",
       "12                      8               3               10              5   \n",
       "13                     57               0               12              6   \n",
       "14                     21               6               12              9   \n",
       "15                     57               0                7              8   \n",
       "16                     70               1               23              5   \n",
       "17                     54               0                6              3   \n",
       "18                     59               0               11              5   \n",
       "19                     52               0                6              6   \n",
       "20                     39               1               16              9   \n",
       "21                     54               0               23              6   \n",
       "22                      1               1               22              7   \n",
       "23                     34               1                5              4   \n",
       "24                     44               0               11              9   \n",
       "25                     26               0                8              9   \n",
       "26                     41               0               15              9   \n",
       "27                     44               0               25              6   \n",
       "28                     41               3               15              7   \n",
       "29                     36               3               26              6   \n",
       "...                   ...             ...              ...            ...   \n",
       "34620                  40               1               25              9   \n",
       "34621                  46               0                4              3   \n",
       "34622                  48               3               31              9   \n",
       "34623                  39               1                8              9   \n",
       "34624                  35               1               14              7   \n",
       "34625                   9               0               14              9   \n",
       "34626                  69               4               19              7   \n",
       "34627                  40               0                8              4   \n",
       "34628                  49               2               11              5   \n",
       "34629                  17               1               11              5   \n",
       "34630                  39               2               15              9   \n",
       "34631                  41               0               12              9   \n",
       "34632                  38               0               11              9   \n",
       "34633                  40               1               19              8   \n",
       "34634                  61               2               18              9   \n",
       "34635                  42               3               15              7   \n",
       "34636                  52               6               12              5   \n",
       "34637                  45               0               18              5   \n",
       "34638                  19               0                9              9   \n",
       "34639                  64               3               21              9   \n",
       "34640                  67               2               11              8   \n",
       "34641                  42               0                5              6   \n",
       "34642                  55               0               24              8   \n",
       "34643                  53               2               12              5   \n",
       "34644                  68               2               17              5   \n",
       "34645                  54               0               12              9   \n",
       "34646                  28               3                8              5   \n",
       "34647                  35               1                4              7   \n",
       "34648                  24               6               10              9   \n",
       "34649                  81               0               12              9   \n",
       "\n",
       "      diagnosis_1      ...      change diabetesMed AdmissionID Admission_date  \\\n",
       "0             198      ...          Ch         Yes    ADM31792     2015-07-18   \n",
       "1             153      ...          No         Yes    ADM42286     2016-04-23   \n",
       "2             535      ...          Ch         Yes    ADM43029     2016-05-13   \n",
       "3             786      ...          No         Yes    ADM30585     2015-06-16   \n",
       "4          250.02      ...          No         Yes    ADM40516     2016-03-08   \n",
       "5             786      ...          Ch         Yes    ADM43323     2016-05-21   \n",
       "6             428      ...          Ch         Yes    ADM30248     2015-06-08   \n",
       "7             824      ...          Ch         Yes    ADM27133     2015-03-20   \n",
       "8             491      ...          Ch         Yes    ADM27498     2015-03-29   \n",
       "9             276      ...          Ch         Yes    ADM28895     2015-05-04   \n",
       "10            157      ...          No          No    ADM12161     2014-02-20   \n",
       "11            820      ...          No          No    ADM29983     2015-06-01   \n",
       "12            786      ...          No         Yes    ADM37470     2015-12-18   \n",
       "13            288      ...          No          No    ADM43485     2016-05-25   \n",
       "14            996      ...          No          No    ADM32985     2015-08-19   \n",
       "15            599      ...          No          No    ADM28025     2015-04-12   \n",
       "16            560      ...          No          No    ADM20050     2014-09-18   \n",
       "17            428      ...          No          No    ADM41846     2016-04-12   \n",
       "18            577      ...          No          No    ADM14941     2014-05-04   \n",
       "19            312      ...          No         Yes    ADM42815     2016-05-08   \n",
       "20            996      ...          No          No    ADM43649     2016-05-29   \n",
       "21            682      ...          No         Yes    ADM29335     2015-05-16   \n",
       "22            618      ...          Ch         Yes    ADM37901     2015-12-29   \n",
       "23            434      ...          Ch         Yes    ADM17613     2014-07-16   \n",
       "24            428      ...          No          No    ADM17890     2014-07-24   \n",
       "25            996      ...          No          No    ADM22796     2014-11-28   \n",
       "26            530      ...          No         Yes    ADM33087     2015-08-22   \n",
       "27            599      ...          Ch         Yes    ADM20882     2014-10-09   \n",
       "28            996      ...          No         Yes    ADM37732     2015-12-24   \n",
       "29            722      ...          No         Yes    ADM33990     2015-09-16   \n",
       "...           ...      ...         ...         ...         ...            ...   \n",
       "34620         715      ...          No          No    ADM15054     2014-05-08   \n",
       "34621      250.02      ...          No         Yes    ADM40405     2016-03-05   \n",
       "34622         151      ...          Ch         Yes    ADM13668     2014-04-01   \n",
       "34623         850      ...          Ch         Yes    ADM14262     2014-04-16   \n",
       "34624         486      ...          Ch         Yes    ADM11877     2014-02-13   \n",
       "34625         427      ...          Ch         Yes    ADM12610     2014-03-05   \n",
       "34626         410      ...          No          No    ADM26162     2015-02-23   \n",
       "34627         171      ...          Ch         Yes    ADM14523     2014-04-23   \n",
       "34628         426      ...          No         Yes    ADM28933     2015-05-05   \n",
       "34629       250.4      ...          Ch         Yes    ADM16225     2014-06-08   \n",
       "34630         535      ...          Ch         Yes    ADM40130     2016-02-27   \n",
       "34631         403      ...          No          No    ADM12948     2014-03-13   \n",
       "34632       250.2      ...          Ch         Yes    ADM21961     2014-11-07   \n",
       "34633         276      ...          Ch         Yes    ADM40437     2016-03-06   \n",
       "34634         280      ...          Ch         Yes    ADM16607     2014-06-19   \n",
       "34635         786      ...          No         Yes    ADM21757     2014-11-02   \n",
       "34636         577      ...          No          No    ADM39206     2016-02-02   \n",
       "34637         434      ...          Ch         Yes    ADM14831     2014-05-02   \n",
       "34638         964      ...          No         Yes    ADM34930     2015-10-11   \n",
       "34639         414      ...          Ch         Yes    ADM37620     2015-12-22   \n",
       "34640         599      ...          No          No    ADM32155     2015-07-29   \n",
       "34641         786      ...          No          No    ADM26486     2015-03-03   \n",
       "34642         428      ...          No         Yes    ADM31915     2015-07-21   \n",
       "34643         530      ...          No         Yes    ADM26838     2015-03-12   \n",
       "34644         820      ...          No          No    ADM42713     2016-05-05   \n",
       "34645         459      ...          No          No    ADM35719     2015-11-01   \n",
       "34646         410      ...          No          No    ADM31828     2015-07-19   \n",
       "34647       250.8      ...          Ch         Yes    ADM22627     2014-11-23   \n",
       "34648         414      ...          No         Yes    ADM11094     2014-01-23   \n",
       "34649         427      ...          No         Yes    ADM22954     2014-12-02   \n",
       "\n",
       "      Discharge_date admission_type_id discharge_disposition_id  \\\n",
       "0         2015-07-23         emergency                 dis_home   \n",
       "1         2016-04-29         emergency                      SNF   \n",
       "2         2016-05-17         emergency                 dis_home   \n",
       "3         2015-06-18         emergency                 dis_home   \n",
       "4         2016-03-09         emergency                 dis_home   \n",
       "5         2016-05-22         emergency                 dis_home   \n",
       "6         2015-06-14         emergency                 dis_home   \n",
       "7         2015-03-23            casual                      SNF   \n",
       "8         2015-04-06         emergency                 dis_home   \n",
       "9         2015-05-07         emergency                      SNF   \n",
       "10        2014-02-23         emergency          Another_hopital   \n",
       "11        2015-06-04         emergency                      SNF   \n",
       "12        2015-12-20         emergency                 dis_home   \n",
       "13        2016-05-27            casual                 dis_home   \n",
       "14        2015-08-20            casual                 dis_home   \n",
       "15        2015-04-15         emergency                 dis_home   \n",
       "16        2014-09-29            casual                      SNF   \n",
       "17        2016-04-14         emergency                 dis_home   \n",
       "18        2014-05-07         emergency                 dis_home   \n",
       "19        2016-05-12            casual                      SNF   \n",
       "20        2016-06-06         emergency                      SNF   \n",
       "21        2015-05-21            casual                      SNF   \n",
       "22        2015-12-30            casual                 dis_home   \n",
       "23        2014-07-19         emergency            Another_Rehab   \n",
       "24        2014-07-26         emergency                 dis_home   \n",
       "25        2014-12-03            casual                 dis_home   \n",
       "26        2015-08-23            casual                       28   \n",
       "27        2014-10-18         emergency                      SNF   \n",
       "28        2015-12-26            casual                 dis_home   \n",
       "29        2015-09-17            casual                 dis_home   \n",
       "...              ...               ...                      ...   \n",
       "34620     2014-05-10            casual                      SNF   \n",
       "34621     2016-03-07            casual                 dis_home   \n",
       "34622     2014-04-13            casual                 dis_home   \n",
       "34623     2014-04-18         emergency                 dis_home   \n",
       "34624     2014-02-24         emergency                 dis_home   \n",
       "34625     2014-03-10         emergency                 dis_home   \n",
       "34626     2015-02-26         emergency                 dis_home   \n",
       "34627     2014-04-30         emergency                 dis_home   \n",
       "34628     2015-05-06         emergency                 dis_home   \n",
       "34629     2014-06-09            casual                 dis_home   \n",
       "34630     2016-03-01            casual                 dis_home   \n",
       "34631     2014-03-18         emergency                      SNF   \n",
       "34632     2014-11-09         emergency                 dis_home   \n",
       "34633     2016-03-12         emergency   Home_HomeHealthSevrice   \n",
       "34634     2014-06-24         emergency                 dis_home   \n",
       "34635     2014-11-04         emergency                 dis_home   \n",
       "34636     2016-02-11         emergency                 dis_home   \n",
       "34637     2014-05-09         emergency                 dis_home   \n",
       "34638     2015-10-12         emergency                 dis_home   \n",
       "34639     2015-12-26         emergency          Another_hopital   \n",
       "34640     2015-08-05         emergency                      SNF   \n",
       "34641     2015-03-04         emergency                 dis_home   \n",
       "34642     2015-07-26         emergency   Home_HomeHealthSevrice   \n",
       "34643     2015-03-14         emergency                 dis_home   \n",
       "34644     2016-05-15            casual              Another_ICU   \n",
       "34645     2015-11-03            casual                 dis_home   \n",
       "34646     2015-07-21         emergency                 dis_home   \n",
       "34647     2014-11-24         emergency                 dis_home   \n",
       "34648     2014-01-28         emergency                 dis_home   \n",
       "34649     2014-12-04         emergency                  Nothing   \n",
       "\n",
       "      admission_source_id No_of_days_Stayed Month_of_year  \n",
       "0                       7                 5             7  \n",
       "1                       7                 6             4  \n",
       "2                       1                 4             5  \n",
       "3                       7                 2             6  \n",
       "4                       7                 1             3  \n",
       "5                       7                 1             5  \n",
       "6                       7                 6             6  \n",
       "7                      25                 3             3  \n",
       "8                       7                 8             3  \n",
       "9                       1                 3             5  \n",
       "10                      7                 3             2  \n",
       "11                      7                 3             6  \n",
       "12                      1                 2            12  \n",
       "13                      1                 2             5  \n",
       "14                      1                 1             8  \n",
       "15                      1                 3             4  \n",
       "16                      7                11             9  \n",
       "17                      9                 2             4  \n",
       "18                      4                 3             5  \n",
       "19                      1                 4             5  \n",
       "20                      5                 8             5  \n",
       "21                      7                 5             5  \n",
       "22                      1                 1            12  \n",
       "23                      7                 3             7  \n",
       "24                      1                 2             7  \n",
       "25                      4                 5            11  \n",
       "26                      1                 1             8  \n",
       "27                      7                 9            10  \n",
       "28                     25                 2            12  \n",
       "29                      1                 1             9  \n",
       "...                   ...               ...           ...  \n",
       "34620                   1                 2             5  \n",
       "34621                   7                 2             3  \n",
       "34622                   1                12             4  \n",
       "34623                   7                 2             4  \n",
       "34624                   7                11             2  \n",
       "34625                  25                 5             3  \n",
       "34626                   7                 3             2  \n",
       "34627                   7                 7             4  \n",
       "34628                   1                 1             5  \n",
       "34629                   1                 1             6  \n",
       "34630                   1                 3             2  \n",
       "34631                   7                 5             3  \n",
       "34632                   7                 2            11  \n",
       "34633                   7                 6             3  \n",
       "34634                   7                 5             6  \n",
       "34635                   7                 2            11  \n",
       "34636                   7                 9             2  \n",
       "34637                   4                 7             5  \n",
       "34638                   1                 1            10  \n",
       "34639                   7                 4            12  \n",
       "34640                   7                 7             7  \n",
       "34641                   7                 1             3  \n",
       "34642                   1                 5             7  \n",
       "34643                   7                 2             3  \n",
       "34644                  25                10             5  \n",
       "34645                   1                 2            11  \n",
       "34646                   4                 2             7  \n",
       "34647                   7                 1            11  \n",
       "34648                   7                 5             1  \n",
       "34649                   7                 2            12  \n",
       "\n",
       "[34650 rows x 44 columns]>"
      ]
     },
     "execution_count": 303,
     "metadata": {},
     "output_type": "execute_result"
    }
   ],
   "source": [
    "train_discharge.describe"
   ]
  },
  {
   "cell_type": "code",
   "execution_count": 304,
   "metadata": {},
   "outputs": [],
   "source": [
    "train_drop = train_discharge.drop(['patientID','acetohexamide','AdmissionID','Admission_date','Discharge_date'], axis=1)"
   ]
  },
  {
   "cell_type": "code",
   "execution_count": 305,
   "metadata": {},
   "outputs": [],
   "source": [
    "test_drop = test_discharge.drop(['acetohexamide','AdmissionID','Admission_date','Discharge_date'], axis=1)"
   ]
  },
  {
   "cell_type": "code",
   "execution_count": 306,
   "metadata": {},
   "outputs": [
    {
     "data": {
      "text/html": [
       "<div>\n",
       "<style scoped>\n",
       "    .dataframe tbody tr th:only-of-type {\n",
       "        vertical-align: middle;\n",
       "    }\n",
       "\n",
       "    .dataframe tbody tr th {\n",
       "        vertical-align: top;\n",
       "    }\n",
       "\n",
       "    .dataframe thead th {\n",
       "        text-align: right;\n",
       "    }\n",
       "</style>\n",
       "<table border=\"1\" class=\"dataframe\">\n",
       "  <thead>\n",
       "    <tr style=\"text-align: right;\">\n",
       "      <th></th>\n",
       "      <th>race</th>\n",
       "      <th>gender</th>\n",
       "      <th>age</th>\n",
       "      <th>readmitted</th>\n",
       "      <th>num_lab_procedures</th>\n",
       "      <th>num_procedures</th>\n",
       "      <th>num_medications</th>\n",
       "      <th>num_diagnoses</th>\n",
       "      <th>diagnosis_1</th>\n",
       "      <th>diagnosis_2</th>\n",
       "      <th>...</th>\n",
       "      <th>glipizide.metformin</th>\n",
       "      <th>metformin.rosiglitazone</th>\n",
       "      <th>metformin.pioglitazone</th>\n",
       "      <th>change</th>\n",
       "      <th>diabetesMed</th>\n",
       "      <th>admission_type_id</th>\n",
       "      <th>discharge_disposition_id</th>\n",
       "      <th>admission_source_id</th>\n",
       "      <th>No_of_days_Stayed</th>\n",
       "      <th>Month_of_year</th>\n",
       "    </tr>\n",
       "  </thead>\n",
       "  <tbody>\n",
       "    <tr>\n",
       "      <th>0</th>\n",
       "      <td>Caucasian</td>\n",
       "      <td>Male</td>\n",
       "      <td>85</td>\n",
       "      <td>NO</td>\n",
       "      <td>18</td>\n",
       "      <td>1</td>\n",
       "      <td>7</td>\n",
       "      <td>7</td>\n",
       "      <td>198</td>\n",
       "      <td>403</td>\n",
       "      <td>...</td>\n",
       "      <td>No</td>\n",
       "      <td>No</td>\n",
       "      <td>No</td>\n",
       "      <td>Ch</td>\n",
       "      <td>Yes</td>\n",
       "      <td>emergency</td>\n",
       "      <td>dis_home</td>\n",
       "      <td>7</td>\n",
       "      <td>5</td>\n",
       "      <td>7</td>\n",
       "    </tr>\n",
       "    <tr>\n",
       "      <th>1</th>\n",
       "      <td>Caucasian</td>\n",
       "      <td>Male</td>\n",
       "      <td>75</td>\n",
       "      <td>NO</td>\n",
       "      <td>40</td>\n",
       "      <td>4</td>\n",
       "      <td>16</td>\n",
       "      <td>9</td>\n",
       "      <td>153</td>\n",
       "      <td>250</td>\n",
       "      <td>...</td>\n",
       "      <td>No</td>\n",
       "      <td>No</td>\n",
       "      <td>No</td>\n",
       "      <td>No</td>\n",
       "      <td>Yes</td>\n",
       "      <td>emergency</td>\n",
       "      <td>SNF</td>\n",
       "      <td>7</td>\n",
       "      <td>6</td>\n",
       "      <td>4</td>\n",
       "    </tr>\n",
       "    <tr>\n",
       "      <th>2</th>\n",
       "      <td>NaN</td>\n",
       "      <td>Female</td>\n",
       "      <td>65</td>\n",
       "      <td>NO</td>\n",
       "      <td>39</td>\n",
       "      <td>1</td>\n",
       "      <td>12</td>\n",
       "      <td>5</td>\n",
       "      <td>535</td>\n",
       "      <td>250</td>\n",
       "      <td>...</td>\n",
       "      <td>No</td>\n",
       "      <td>No</td>\n",
       "      <td>No</td>\n",
       "      <td>Ch</td>\n",
       "      <td>Yes</td>\n",
       "      <td>emergency</td>\n",
       "      <td>dis_home</td>\n",
       "      <td>1</td>\n",
       "      <td>4</td>\n",
       "      <td>5</td>\n",
       "    </tr>\n",
       "    <tr>\n",
       "      <th>3</th>\n",
       "      <td>Caucasian</td>\n",
       "      <td>Female</td>\n",
       "      <td>75</td>\n",
       "      <td>NO</td>\n",
       "      <td>1</td>\n",
       "      <td>0</td>\n",
       "      <td>10</td>\n",
       "      <td>9</td>\n",
       "      <td>786</td>\n",
       "      <td>411</td>\n",
       "      <td>...</td>\n",
       "      <td>No</td>\n",
       "      <td>No</td>\n",
       "      <td>No</td>\n",
       "      <td>No</td>\n",
       "      <td>Yes</td>\n",
       "      <td>emergency</td>\n",
       "      <td>dis_home</td>\n",
       "      <td>7</td>\n",
       "      <td>2</td>\n",
       "      <td>6</td>\n",
       "    </tr>\n",
       "    <tr>\n",
       "      <th>4</th>\n",
       "      <td>Caucasian</td>\n",
       "      <td>Female</td>\n",
       "      <td>65</td>\n",
       "      <td>Within30days</td>\n",
       "      <td>44</td>\n",
       "      <td>0</td>\n",
       "      <td>16</td>\n",
       "      <td>9</td>\n",
       "      <td>250.02</td>\n",
       "      <td>490</td>\n",
       "      <td>...</td>\n",
       "      <td>No</td>\n",
       "      <td>No</td>\n",
       "      <td>No</td>\n",
       "      <td>No</td>\n",
       "      <td>Yes</td>\n",
       "      <td>emergency</td>\n",
       "      <td>dis_home</td>\n",
       "      <td>7</td>\n",
       "      <td>1</td>\n",
       "      <td>3</td>\n",
       "    </tr>\n",
       "  </tbody>\n",
       "</table>\n",
       "<p>5 rows × 39 columns</p>\n",
       "</div>"
      ],
      "text/plain": [
       "        race  gender age    readmitted  num_lab_procedures  num_procedures  \\\n",
       "0  Caucasian    Male  85            NO                  18               1   \n",
       "1  Caucasian    Male  75            NO                  40               4   \n",
       "2        NaN  Female  65            NO                  39               1   \n",
       "3  Caucasian  Female  75            NO                   1               0   \n",
       "4  Caucasian  Female  65  Within30days                  44               0   \n",
       "\n",
       "   num_medications  num_diagnoses diagnosis_1 diagnosis_2      ...       \\\n",
       "0                7              7         198         403      ...        \n",
       "1               16              9         153         250      ...        \n",
       "2               12              5         535         250      ...        \n",
       "3               10              9         786         411      ...        \n",
       "4               16              9      250.02         490      ...        \n",
       "\n",
       "  glipizide.metformin metformin.rosiglitazone metformin.pioglitazone change  \\\n",
       "0                  No                      No                     No     Ch   \n",
       "1                  No                      No                     No     No   \n",
       "2                  No                      No                     No     Ch   \n",
       "3                  No                      No                     No     No   \n",
       "4                  No                      No                     No     No   \n",
       "\n",
       "  diabetesMed admission_type_id discharge_disposition_id admission_source_id  \\\n",
       "0         Yes         emergency                 dis_home                   7   \n",
       "1         Yes         emergency                      SNF                   7   \n",
       "2         Yes         emergency                 dis_home                   1   \n",
       "3         Yes         emergency                 dis_home                   7   \n",
       "4         Yes         emergency                 dis_home                   7   \n",
       "\n",
       "  No_of_days_Stayed Month_of_year  \n",
       "0                 5             7  \n",
       "1                 6             4  \n",
       "2                 4             5  \n",
       "3                 2             6  \n",
       "4                 1             3  \n",
       "\n",
       "[5 rows x 39 columns]"
      ]
     },
     "execution_count": 306,
     "metadata": {},
     "output_type": "execute_result"
    }
   ],
   "source": [
    "train_drop.head()"
   ]
  },
  {
   "cell_type": "code",
   "execution_count": 307,
   "metadata": {},
   "outputs": [
    {
     "data": {
      "text/plain": [
       "Index(['race', 'gender', 'age', 'readmitted', 'num_lab_procedures',\n",
       "       'num_procedures', 'num_medications', 'num_diagnoses', 'diagnosis_1',\n",
       "       'diagnosis_2', 'diagnosis_3', 'max_glu_serum', 'A1Cresult', 'metformin',\n",
       "       'repaglinide', 'nateglinide', 'chlorpropamide', 'glimepiride',\n",
       "       'glipizide', 'glyburide', 'tolbutamide', 'pioglitazone',\n",
       "       'rosiglitazone', 'acarbose', 'miglitol', 'troglitazone', 'tolazamide',\n",
       "       'insulin', 'glyburide.metformin', 'glipizide.metformin',\n",
       "       'metformin.rosiglitazone', 'metformin.pioglitazone', 'change',\n",
       "       'diabetesMed', 'admission_type_id', 'discharge_disposition_id',\n",
       "       'admission_source_id', 'No_of_days_Stayed', 'Month_of_year'],\n",
       "      dtype='object')"
      ]
     },
     "execution_count": 307,
     "metadata": {},
     "output_type": "execute_result"
    }
   ],
   "source": [
    "train_drop.columns"
   ]
  },
  {
   "cell_type": "code",
   "execution_count": 308,
   "metadata": {},
   "outputs": [],
   "source": [
    "target_temp=train_drop.readmitted"
   ]
  },
  {
   "cell_type": "code",
   "execution_count": 309,
   "metadata": {},
   "outputs": [],
   "source": [
    "target=train_drop.readmitted"
   ]
  },
  {
   "cell_type": "code",
   "execution_count": 310,
   "metadata": {},
   "outputs": [
    {
     "data": {
      "text/html": [
       "<div>\n",
       "<style scoped>\n",
       "    .dataframe tbody tr th:only-of-type {\n",
       "        vertical-align: middle;\n",
       "    }\n",
       "\n",
       "    .dataframe tbody tr th {\n",
       "        vertical-align: top;\n",
       "    }\n",
       "\n",
       "    .dataframe thead th {\n",
       "        text-align: right;\n",
       "    }\n",
       "</style>\n",
       "<table border=\"1\" class=\"dataframe\">\n",
       "  <thead>\n",
       "    <tr style=\"text-align: right;\">\n",
       "      <th></th>\n",
       "      <th>race</th>\n",
       "      <th>gender</th>\n",
       "      <th>age</th>\n",
       "      <th>readmitted</th>\n",
       "      <th>num_lab_procedures</th>\n",
       "      <th>num_procedures</th>\n",
       "      <th>num_medications</th>\n",
       "      <th>num_diagnoses</th>\n",
       "      <th>diagnosis_1</th>\n",
       "      <th>diagnosis_2</th>\n",
       "      <th>...</th>\n",
       "      <th>glipizide.metformin</th>\n",
       "      <th>metformin.rosiglitazone</th>\n",
       "      <th>metformin.pioglitazone</th>\n",
       "      <th>change</th>\n",
       "      <th>diabetesMed</th>\n",
       "      <th>admission_type_id</th>\n",
       "      <th>discharge_disposition_id</th>\n",
       "      <th>admission_source_id</th>\n",
       "      <th>No_of_days_Stayed</th>\n",
       "      <th>Month_of_year</th>\n",
       "    </tr>\n",
       "  </thead>\n",
       "  <tbody>\n",
       "    <tr>\n",
       "      <th>0</th>\n",
       "      <td>Caucasian</td>\n",
       "      <td>Male</td>\n",
       "      <td>85</td>\n",
       "      <td>NO</td>\n",
       "      <td>18</td>\n",
       "      <td>1</td>\n",
       "      <td>7</td>\n",
       "      <td>7</td>\n",
       "      <td>198</td>\n",
       "      <td>403</td>\n",
       "      <td>...</td>\n",
       "      <td>No</td>\n",
       "      <td>No</td>\n",
       "      <td>No</td>\n",
       "      <td>Ch</td>\n",
       "      <td>Yes</td>\n",
       "      <td>emergency</td>\n",
       "      <td>dis_home</td>\n",
       "      <td>7</td>\n",
       "      <td>5</td>\n",
       "      <td>7</td>\n",
       "    </tr>\n",
       "    <tr>\n",
       "      <th>1</th>\n",
       "      <td>Caucasian</td>\n",
       "      <td>Male</td>\n",
       "      <td>75</td>\n",
       "      <td>NO</td>\n",
       "      <td>40</td>\n",
       "      <td>4</td>\n",
       "      <td>16</td>\n",
       "      <td>9</td>\n",
       "      <td>153</td>\n",
       "      <td>250</td>\n",
       "      <td>...</td>\n",
       "      <td>No</td>\n",
       "      <td>No</td>\n",
       "      <td>No</td>\n",
       "      <td>No</td>\n",
       "      <td>Yes</td>\n",
       "      <td>emergency</td>\n",
       "      <td>SNF</td>\n",
       "      <td>7</td>\n",
       "      <td>6</td>\n",
       "      <td>4</td>\n",
       "    </tr>\n",
       "    <tr>\n",
       "      <th>2</th>\n",
       "      <td>NaN</td>\n",
       "      <td>Female</td>\n",
       "      <td>65</td>\n",
       "      <td>NO</td>\n",
       "      <td>39</td>\n",
       "      <td>1</td>\n",
       "      <td>12</td>\n",
       "      <td>5</td>\n",
       "      <td>535</td>\n",
       "      <td>250</td>\n",
       "      <td>...</td>\n",
       "      <td>No</td>\n",
       "      <td>No</td>\n",
       "      <td>No</td>\n",
       "      <td>Ch</td>\n",
       "      <td>Yes</td>\n",
       "      <td>emergency</td>\n",
       "      <td>dis_home</td>\n",
       "      <td>1</td>\n",
       "      <td>4</td>\n",
       "      <td>5</td>\n",
       "    </tr>\n",
       "    <tr>\n",
       "      <th>3</th>\n",
       "      <td>Caucasian</td>\n",
       "      <td>Female</td>\n",
       "      <td>75</td>\n",
       "      <td>NO</td>\n",
       "      <td>1</td>\n",
       "      <td>0</td>\n",
       "      <td>10</td>\n",
       "      <td>9</td>\n",
       "      <td>786</td>\n",
       "      <td>411</td>\n",
       "      <td>...</td>\n",
       "      <td>No</td>\n",
       "      <td>No</td>\n",
       "      <td>No</td>\n",
       "      <td>No</td>\n",
       "      <td>Yes</td>\n",
       "      <td>emergency</td>\n",
       "      <td>dis_home</td>\n",
       "      <td>7</td>\n",
       "      <td>2</td>\n",
       "      <td>6</td>\n",
       "    </tr>\n",
       "    <tr>\n",
       "      <th>4</th>\n",
       "      <td>Caucasian</td>\n",
       "      <td>Female</td>\n",
       "      <td>65</td>\n",
       "      <td>Within30days</td>\n",
       "      <td>44</td>\n",
       "      <td>0</td>\n",
       "      <td>16</td>\n",
       "      <td>9</td>\n",
       "      <td>250.02</td>\n",
       "      <td>490</td>\n",
       "      <td>...</td>\n",
       "      <td>No</td>\n",
       "      <td>No</td>\n",
       "      <td>No</td>\n",
       "      <td>No</td>\n",
       "      <td>Yes</td>\n",
       "      <td>emergency</td>\n",
       "      <td>dis_home</td>\n",
       "      <td>7</td>\n",
       "      <td>1</td>\n",
       "      <td>3</td>\n",
       "    </tr>\n",
       "  </tbody>\n",
       "</table>\n",
       "<p>5 rows × 39 columns</p>\n",
       "</div>"
      ],
      "text/plain": [
       "        race  gender age    readmitted  num_lab_procedures  num_procedures  \\\n",
       "0  Caucasian    Male  85            NO                  18               1   \n",
       "1  Caucasian    Male  75            NO                  40               4   \n",
       "2        NaN  Female  65            NO                  39               1   \n",
       "3  Caucasian  Female  75            NO                   1               0   \n",
       "4  Caucasian  Female  65  Within30days                  44               0   \n",
       "\n",
       "   num_medications  num_diagnoses diagnosis_1 diagnosis_2      ...       \\\n",
       "0                7              7         198         403      ...        \n",
       "1               16              9         153         250      ...        \n",
       "2               12              5         535         250      ...        \n",
       "3               10              9         786         411      ...        \n",
       "4               16              9      250.02         490      ...        \n",
       "\n",
       "  glipizide.metformin metformin.rosiglitazone metformin.pioglitazone change  \\\n",
       "0                  No                      No                     No     Ch   \n",
       "1                  No                      No                     No     No   \n",
       "2                  No                      No                     No     Ch   \n",
       "3                  No                      No                     No     No   \n",
       "4                  No                      No                     No     No   \n",
       "\n",
       "  diabetesMed admission_type_id discharge_disposition_id admission_source_id  \\\n",
       "0         Yes         emergency                 dis_home                   7   \n",
       "1         Yes         emergency                      SNF                   7   \n",
       "2         Yes         emergency                 dis_home                   1   \n",
       "3         Yes         emergency                 dis_home                   7   \n",
       "4         Yes         emergency                 dis_home                   7   \n",
       "\n",
       "  No_of_days_Stayed Month_of_year  \n",
       "0                 5             7  \n",
       "1                 6             4  \n",
       "2                 4             5  \n",
       "3                 2             6  \n",
       "4                 1             3  \n",
       "\n",
       "[5 rows x 39 columns]"
      ]
     },
     "execution_count": 310,
     "metadata": {},
     "output_type": "execute_result"
    }
   ],
   "source": [
    "train_drop.head()"
   ]
  },
  {
   "cell_type": "code",
   "execution_count": 311,
   "metadata": {},
   "outputs": [],
   "source": [
    "target = {'NO':0,'Within30days':1}"
   ]
  },
  {
   "cell_type": "code",
   "execution_count": 312,
   "metadata": {},
   "outputs": [],
   "source": [
    "train_drop = train_drop.replace({\"readmitted\":target})"
   ]
  },
  {
   "cell_type": "code",
   "execution_count": 313,
   "metadata": {},
   "outputs": [],
   "source": [
    "target=train_drop.readmitted"
   ]
  },
  {
   "cell_type": "code",
   "execution_count": 314,
   "metadata": {},
   "outputs": [
    {
     "data": {
      "text/plain": [
       "0    0\n",
       "1    0\n",
       "2    0\n",
       "3    0\n",
       "4    1\n",
       "Name: readmitted, dtype: int64"
      ]
     },
     "execution_count": 314,
     "metadata": {},
     "output_type": "execute_result"
    }
   ],
   "source": [
    "target.head()"
   ]
  },
  {
   "cell_type": "code",
   "execution_count": 315,
   "metadata": {},
   "outputs": [
    {
     "data": {
      "text/html": [
       "<div>\n",
       "<style scoped>\n",
       "    .dataframe tbody tr th:only-of-type {\n",
       "        vertical-align: middle;\n",
       "    }\n",
       "\n",
       "    .dataframe tbody tr th {\n",
       "        vertical-align: top;\n",
       "    }\n",
       "\n",
       "    .dataframe thead th {\n",
       "        text-align: right;\n",
       "    }\n",
       "</style>\n",
       "<table border=\"1\" class=\"dataframe\">\n",
       "  <thead>\n",
       "    <tr style=\"text-align: right;\">\n",
       "      <th></th>\n",
       "      <th>race</th>\n",
       "      <th>gender</th>\n",
       "      <th>age</th>\n",
       "      <th>readmitted</th>\n",
       "      <th>num_lab_procedures</th>\n",
       "      <th>num_procedures</th>\n",
       "      <th>num_medications</th>\n",
       "      <th>num_diagnoses</th>\n",
       "      <th>diagnosis_1</th>\n",
       "      <th>diagnosis_2</th>\n",
       "      <th>...</th>\n",
       "      <th>glipizide.metformin</th>\n",
       "      <th>metformin.rosiglitazone</th>\n",
       "      <th>metformin.pioglitazone</th>\n",
       "      <th>change</th>\n",
       "      <th>diabetesMed</th>\n",
       "      <th>admission_type_id</th>\n",
       "      <th>discharge_disposition_id</th>\n",
       "      <th>admission_source_id</th>\n",
       "      <th>No_of_days_Stayed</th>\n",
       "      <th>Month_of_year</th>\n",
       "    </tr>\n",
       "  </thead>\n",
       "  <tbody>\n",
       "    <tr>\n",
       "      <th>0</th>\n",
       "      <td>Caucasian</td>\n",
       "      <td>Male</td>\n",
       "      <td>85</td>\n",
       "      <td>0</td>\n",
       "      <td>18</td>\n",
       "      <td>1</td>\n",
       "      <td>7</td>\n",
       "      <td>7</td>\n",
       "      <td>198</td>\n",
       "      <td>403</td>\n",
       "      <td>...</td>\n",
       "      <td>No</td>\n",
       "      <td>No</td>\n",
       "      <td>No</td>\n",
       "      <td>Ch</td>\n",
       "      <td>Yes</td>\n",
       "      <td>emergency</td>\n",
       "      <td>dis_home</td>\n",
       "      <td>7</td>\n",
       "      <td>5</td>\n",
       "      <td>7</td>\n",
       "    </tr>\n",
       "    <tr>\n",
       "      <th>1</th>\n",
       "      <td>Caucasian</td>\n",
       "      <td>Male</td>\n",
       "      <td>75</td>\n",
       "      <td>0</td>\n",
       "      <td>40</td>\n",
       "      <td>4</td>\n",
       "      <td>16</td>\n",
       "      <td>9</td>\n",
       "      <td>153</td>\n",
       "      <td>250</td>\n",
       "      <td>...</td>\n",
       "      <td>No</td>\n",
       "      <td>No</td>\n",
       "      <td>No</td>\n",
       "      <td>No</td>\n",
       "      <td>Yes</td>\n",
       "      <td>emergency</td>\n",
       "      <td>SNF</td>\n",
       "      <td>7</td>\n",
       "      <td>6</td>\n",
       "      <td>4</td>\n",
       "    </tr>\n",
       "    <tr>\n",
       "      <th>2</th>\n",
       "      <td>NaN</td>\n",
       "      <td>Female</td>\n",
       "      <td>65</td>\n",
       "      <td>0</td>\n",
       "      <td>39</td>\n",
       "      <td>1</td>\n",
       "      <td>12</td>\n",
       "      <td>5</td>\n",
       "      <td>535</td>\n",
       "      <td>250</td>\n",
       "      <td>...</td>\n",
       "      <td>No</td>\n",
       "      <td>No</td>\n",
       "      <td>No</td>\n",
       "      <td>Ch</td>\n",
       "      <td>Yes</td>\n",
       "      <td>emergency</td>\n",
       "      <td>dis_home</td>\n",
       "      <td>1</td>\n",
       "      <td>4</td>\n",
       "      <td>5</td>\n",
       "    </tr>\n",
       "    <tr>\n",
       "      <th>3</th>\n",
       "      <td>Caucasian</td>\n",
       "      <td>Female</td>\n",
       "      <td>75</td>\n",
       "      <td>0</td>\n",
       "      <td>1</td>\n",
       "      <td>0</td>\n",
       "      <td>10</td>\n",
       "      <td>9</td>\n",
       "      <td>786</td>\n",
       "      <td>411</td>\n",
       "      <td>...</td>\n",
       "      <td>No</td>\n",
       "      <td>No</td>\n",
       "      <td>No</td>\n",
       "      <td>No</td>\n",
       "      <td>Yes</td>\n",
       "      <td>emergency</td>\n",
       "      <td>dis_home</td>\n",
       "      <td>7</td>\n",
       "      <td>2</td>\n",
       "      <td>6</td>\n",
       "    </tr>\n",
       "    <tr>\n",
       "      <th>4</th>\n",
       "      <td>Caucasian</td>\n",
       "      <td>Female</td>\n",
       "      <td>65</td>\n",
       "      <td>1</td>\n",
       "      <td>44</td>\n",
       "      <td>0</td>\n",
       "      <td>16</td>\n",
       "      <td>9</td>\n",
       "      <td>250.02</td>\n",
       "      <td>490</td>\n",
       "      <td>...</td>\n",
       "      <td>No</td>\n",
       "      <td>No</td>\n",
       "      <td>No</td>\n",
       "      <td>No</td>\n",
       "      <td>Yes</td>\n",
       "      <td>emergency</td>\n",
       "      <td>dis_home</td>\n",
       "      <td>7</td>\n",
       "      <td>1</td>\n",
       "      <td>3</td>\n",
       "    </tr>\n",
       "  </tbody>\n",
       "</table>\n",
       "<p>5 rows × 39 columns</p>\n",
       "</div>"
      ],
      "text/plain": [
       "        race  gender age  readmitted  num_lab_procedures  num_procedures  \\\n",
       "0  Caucasian    Male  85           0                  18               1   \n",
       "1  Caucasian    Male  75           0                  40               4   \n",
       "2        NaN  Female  65           0                  39               1   \n",
       "3  Caucasian  Female  75           0                   1               0   \n",
       "4  Caucasian  Female  65           1                  44               0   \n",
       "\n",
       "   num_medications  num_diagnoses diagnosis_1 diagnosis_2      ...       \\\n",
       "0                7              7         198         403      ...        \n",
       "1               16              9         153         250      ...        \n",
       "2               12              5         535         250      ...        \n",
       "3               10              9         786         411      ...        \n",
       "4               16              9      250.02         490      ...        \n",
       "\n",
       "  glipizide.metformin metformin.rosiglitazone metformin.pioglitazone change  \\\n",
       "0                  No                      No                     No     Ch   \n",
       "1                  No                      No                     No     No   \n",
       "2                  No                      No                     No     Ch   \n",
       "3                  No                      No                     No     No   \n",
       "4                  No                      No                     No     No   \n",
       "\n",
       "  diabetesMed admission_type_id discharge_disposition_id admission_source_id  \\\n",
       "0         Yes         emergency                 dis_home                   7   \n",
       "1         Yes         emergency                      SNF                   7   \n",
       "2         Yes         emergency                 dis_home                   1   \n",
       "3         Yes         emergency                 dis_home                   7   \n",
       "4         Yes         emergency                 dis_home                   7   \n",
       "\n",
       "  No_of_days_Stayed Month_of_year  \n",
       "0                 5             7  \n",
       "1                 6             4  \n",
       "2                 4             5  \n",
       "3                 2             6  \n",
       "4                 1             3  \n",
       "\n",
       "[5 rows x 39 columns]"
      ]
     },
     "execution_count": 315,
     "metadata": {},
     "output_type": "execute_result"
    }
   ],
   "source": [
    "train_drop.head()"
   ]
  },
  {
   "cell_type": "code",
   "execution_count": 316,
   "metadata": {},
   "outputs": [],
   "source": [
    "traintoput=train_drop.drop('readmitted',axis=1)"
   ]
  },
  {
   "cell_type": "markdown",
   "metadata": {},
   "source": [
    "#### Imputation"
   ]
  },
  {
   "cell_type": "code",
   "execution_count": 317,
   "metadata": {},
   "outputs": [],
   "source": [
    "traintoput.race = traintoput.race.fillna(traintoput['race'].value_counts().index[0])\n",
    "traintoput.diagnosis_1 = traintoput.diagnosis_1.fillna(traintoput['diagnosis_1'].value_counts().index[0])\n",
    "traintoput.diagnosis_2 = traintoput.diagnosis_2.fillna(traintoput['diagnosis_2'].value_counts().index[0])\n",
    "traintoput.diagnosis_3 = traintoput.diagnosis_3.fillna(traintoput['diagnosis_3'].value_counts().index[0])"
   ]
  },
  {
   "cell_type": "code",
   "execution_count": 318,
   "metadata": {},
   "outputs": [
    {
     "data": {
      "text/plain": [
       "(34650, 38)"
      ]
     },
     "execution_count": 318,
     "metadata": {},
     "output_type": "execute_result"
    }
   ],
   "source": [
    "traintoput.shape"
   ]
  },
  {
   "cell_type": "code",
   "execution_count": 319,
   "metadata": {},
   "outputs": [],
   "source": [
    "test_drop.race = test_drop.race.fillna(test_drop['race'].value_counts().index[0])\n",
    "test_drop.diagnosis_1 = test_drop.diagnosis_1.fillna(test_drop['diagnosis_1'].value_counts().index[0])\n",
    "test_drop.diagnosis_2 = test_drop.diagnosis_2.fillna(test_drop['diagnosis_2'].value_counts().index[0])\n",
    "test_drop.diagnosis_3 = test_drop.diagnosis_3.fillna(test_drop['diagnosis_3'].value_counts().index[0])"
   ]
  },
  {
   "cell_type": "code",
   "execution_count": 320,
   "metadata": {},
   "outputs": [
    {
     "data": {
      "text/plain": [
       "Index(['patientID', 'race', 'gender', 'age', 'num_lab_procedures',\n",
       "       'num_procedures', 'num_medications', 'num_diagnoses', 'diagnosis_1',\n",
       "       'diagnosis_2', 'diagnosis_3', 'max_glu_serum', 'A1Cresult', 'metformin',\n",
       "       'repaglinide', 'nateglinide', 'chlorpropamide', 'glimepiride',\n",
       "       'glipizide', 'glyburide', 'tolbutamide', 'pioglitazone',\n",
       "       'rosiglitazone', 'acarbose', 'miglitol', 'troglitazone', 'tolazamide',\n",
       "       'insulin', 'glyburide.metformin', 'glipizide.metformin',\n",
       "       'metformin.rosiglitazone', 'metformin.pioglitazone', 'change',\n",
       "       'diabetesMed', 'admission_type_id', 'discharge_disposition_id',\n",
       "       'admission_source_id', 'No_of_days_Stayed', 'Month_of_year'],\n",
       "      dtype='object')"
      ]
     },
     "execution_count": 320,
     "metadata": {},
     "output_type": "execute_result"
    }
   ],
   "source": [
    "test_drop.columns"
   ]
  },
  {
   "cell_type": "code",
   "execution_count": 321,
   "metadata": {},
   "outputs": [
    {
     "data": {
      "text/plain": [
       "patientID                   0\n",
       "race                        0\n",
       "gender                      0\n",
       "age                         0\n",
       "num_lab_procedures          0\n",
       "num_procedures              0\n",
       "num_medications             0\n",
       "num_diagnoses               0\n",
       "diagnosis_1                 0\n",
       "diagnosis_2                 0\n",
       "diagnosis_3                 0\n",
       "max_glu_serum               0\n",
       "A1Cresult                   0\n",
       "metformin                   0\n",
       "repaglinide                 0\n",
       "nateglinide                 0\n",
       "chlorpropamide              0\n",
       "glimepiride                 0\n",
       "glipizide                   0\n",
       "glyburide                   0\n",
       "tolbutamide                 0\n",
       "pioglitazone                0\n",
       "rosiglitazone               0\n",
       "acarbose                    0\n",
       "miglitol                    0\n",
       "troglitazone                0\n",
       "tolazamide                  0\n",
       "insulin                     0\n",
       "glyburide.metformin         0\n",
       "glipizide.metformin         0\n",
       "metformin.rosiglitazone     0\n",
       "metformin.pioglitazone      0\n",
       "change                      0\n",
       "diabetesMed                 0\n",
       "admission_type_id           0\n",
       "discharge_disposition_id    0\n",
       "admission_source_id         0\n",
       "No_of_days_Stayed           0\n",
       "Month_of_year               0\n",
       "dtype: int64"
      ]
     },
     "execution_count": 321,
     "metadata": {},
     "output_type": "execute_result"
    }
   ],
   "source": [
    "test_drop.isna().sum()"
   ]
  },
  {
   "cell_type": "markdown",
   "metadata": {},
   "source": [
    "#### ICD Code for 3 diagnosis columns"
   ]
  },
  {
   "cell_type": "code",
   "execution_count": 322,
   "metadata": {},
   "outputs": [],
   "source": [
    "def diagnosis_ICD_codes (icd) :\n",
    "    result = \"Other\"\n",
    "    try:\n",
    "        code =float(icd)\n",
    "    except:\n",
    "        return result\n",
    "\n",
    "    if code >= 0.0 and code <= 139.0 :\n",
    "        result = \"Parasitic\";\n",
    "  \n",
    "    elif(code > 139.0 and code <= 239.0) :\n",
    "        result = \"Neoplasms\";\n",
    "  \n",
    "    elif (code > 239.0 and code <= 279.0) :\n",
    "        result = \"E_N_M\";\n",
    "  \n",
    "    elif (code > 279.0 and code <= 289.0) :\n",
    "        result = \"BloodDiseases\";\n",
    "  \n",
    "    elif (code > 289.0 and code <= 319.0) :\n",
    "        result = \"MentalDisorders\";\n",
    "  \n",
    "    elif (code > 319.0 and code <= 389.0) :\n",
    "        result = \"NervousSystems\";\n",
    "  \n",
    "    elif (code > 389.00 and code <= 459.0) :\n",
    "        result = \"Circulatory\";\n",
    "  \n",
    "    elif (code > 459.0 and code <= 519.0) :\n",
    "        result = \"Respiratory\";\n",
    "  \n",
    "    elif (code > 520 and code <= 579.0) :\n",
    "        result = \"Digestive\";\n",
    "  \n",
    "    elif (code > 579.0 and code <= 629.0) :\n",
    "        result = \"Gentitorinary\";\n",
    "  \n",
    "    elif (code > 629.0 and code <= 679.0) :\n",
    "        result = \"Ginic\";\n",
    "  \n",
    "    elif (code > 679.0 and code <= 709.0) :\n",
    "        result = \"Skin\";\n",
    "  \n",
    "    elif (code > 709.0 and code <= 739.0) :\n",
    "        result = \"Masculoskeletal\";\n",
    "  \n",
    "    elif (code > 739.0 and code <= 759.0) :\n",
    "        result = \"CongenitalAnamolies\";\n",
    "  \n",
    "    elif (code > 759.0 and code <= 779.0) :\n",
    "        result = \"ParinetalPeriod\";\n",
    "  \n",
    "    elif (code > 779.0 and code <= 799.0) :\n",
    "        result = \"NoSymptoms\";\n",
    "  \n",
    "    elif (code > 799.0 and code <= 999.0) :\n",
    "        result = \"Injury\";\n",
    "  \n",
    "    else :\n",
    "        result = \"Other\";\n",
    "  \n",
    "    return result\n"
   ]
  },
  {
   "cell_type": "code",
   "execution_count": 323,
   "metadata": {},
   "outputs": [],
   "source": [
    "traintoput['diagnosis_1_stamp'] = traintoput.apply (lambda row: diagnosis_ICD_codes(row['diagnosis_1']), axis=1)\n",
    "traintoput['diagnosis_2_stamp'] = traintoput.apply (lambda row: diagnosis_ICD_codes(row['diagnosis_2']), axis=1)\n",
    "traintoput['diagnosis_3_stamp'] = traintoput.apply (lambda row: diagnosis_ICD_codes(row['diagnosis_3']), axis=1)"
   ]
  },
  {
   "cell_type": "code",
   "execution_count": 324,
   "metadata": {},
   "outputs": [],
   "source": [
    "test_drop['diagnosis_1_stamp'] = test_drop.apply (lambda row: diagnosis_ICD_codes(row['diagnosis_1']), axis=1)\n",
    "test_drop['diagnosis_2_stamp'] = test_drop.apply (lambda row: diagnosis_ICD_codes(row['diagnosis_2']), axis=1)\n",
    "test_drop['diagnosis_3_stamp'] = test_drop.apply (lambda row: diagnosis_ICD_codes(row['diagnosis_3']), axis=1)"
   ]
  },
  {
   "cell_type": "code",
   "execution_count": 325,
   "metadata": {},
   "outputs": [
    {
     "data": {
      "text/plain": [
       "(34650, 41)"
      ]
     },
     "execution_count": 325,
     "metadata": {},
     "output_type": "execute_result"
    }
   ],
   "source": [
    "traintoput.shape"
   ]
  },
  {
   "cell_type": "code",
   "execution_count": 326,
   "metadata": {},
   "outputs": [],
   "source": [
    "traintoput=traintoput.drop(['diagnosis_1','diagnosis_2','diagnosis_3'],axis=1)"
   ]
  },
  {
   "cell_type": "code",
   "execution_count": 327,
   "metadata": {},
   "outputs": [],
   "source": [
    "test_drop=test_drop.drop(['diagnosis_1','diagnosis_2','diagnosis_3'],axis=1)"
   ]
  },
  {
   "cell_type": "code",
   "execution_count": 328,
   "metadata": {},
   "outputs": [
    {
     "data": {
      "text/plain": [
       "(14630, 39)"
      ]
     },
     "execution_count": 328,
     "metadata": {},
     "output_type": "execute_result"
    }
   ],
   "source": [
    "test_drop.shape"
   ]
  },
  {
   "cell_type": "code",
   "execution_count": 329,
   "metadata": {},
   "outputs": [],
   "source": [
    "#traintoput = traintoput.to_csv (r'C:/Users/sa/Desktop/sa/Adarsh Data/2019/Common files/Big Data/BD/PHD/PHD Part 2/TrainData-1564147787554/20190728_6pm_TrainData/traintoput.csv', index = None, header=True)"
   ]
  },
  {
   "cell_type": "markdown",
   "metadata": {},
   "source": [
    "#### Dummify "
   ]
  },
  {
   "cell_type": "code",
   "execution_count": 330,
   "metadata": {},
   "outputs": [],
   "source": [
    "traintoput=pd.get_dummies(traintoput)"
   ]
  },
  {
   "cell_type": "code",
   "execution_count": 331,
   "metadata": {},
   "outputs": [
    {
     "data": {
      "text/html": [
       "<div>\n",
       "<style scoped>\n",
       "    .dataframe tbody tr th:only-of-type {\n",
       "        vertical-align: middle;\n",
       "    }\n",
       "\n",
       "    .dataframe tbody tr th {\n",
       "        vertical-align: top;\n",
       "    }\n",
       "\n",
       "    .dataframe thead th {\n",
       "        text-align: right;\n",
       "    }\n",
       "</style>\n",
       "<table border=\"1\" class=\"dataframe\">\n",
       "  <thead>\n",
       "    <tr style=\"text-align: right;\">\n",
       "      <th></th>\n",
       "      <th>num_lab_procedures</th>\n",
       "      <th>num_procedures</th>\n",
       "      <th>num_medications</th>\n",
       "      <th>num_diagnoses</th>\n",
       "      <th>No_of_days_Stayed</th>\n",
       "      <th>Month_of_year</th>\n",
       "      <th>race_AfricanAmerican</th>\n",
       "      <th>race_Asian</th>\n",
       "      <th>race_Caucasian</th>\n",
       "      <th>race_Hispanic</th>\n",
       "      <th>...</th>\n",
       "      <th>diagnosis_3_stamp_Injury</th>\n",
       "      <th>diagnosis_3_stamp_Masculoskeletal</th>\n",
       "      <th>diagnosis_3_stamp_MentalDisorders</th>\n",
       "      <th>diagnosis_3_stamp_Neoplasms</th>\n",
       "      <th>diagnosis_3_stamp_NervousSystems</th>\n",
       "      <th>diagnosis_3_stamp_NoSymptoms</th>\n",
       "      <th>diagnosis_3_stamp_Other</th>\n",
       "      <th>diagnosis_3_stamp_Parasitic</th>\n",
       "      <th>diagnosis_3_stamp_Respiratory</th>\n",
       "      <th>diagnosis_3_stamp_Skin</th>\n",
       "    </tr>\n",
       "  </thead>\n",
       "  <tbody>\n",
       "    <tr>\n",
       "      <th>0</th>\n",
       "      <td>18</td>\n",
       "      <td>1</td>\n",
       "      <td>7</td>\n",
       "      <td>7</td>\n",
       "      <td>5</td>\n",
       "      <td>7</td>\n",
       "      <td>0</td>\n",
       "      <td>0</td>\n",
       "      <td>1</td>\n",
       "      <td>0</td>\n",
       "      <td>...</td>\n",
       "      <td>0</td>\n",
       "      <td>0</td>\n",
       "      <td>0</td>\n",
       "      <td>0</td>\n",
       "      <td>0</td>\n",
       "      <td>0</td>\n",
       "      <td>0</td>\n",
       "      <td>0</td>\n",
       "      <td>0</td>\n",
       "      <td>0</td>\n",
       "    </tr>\n",
       "    <tr>\n",
       "      <th>1</th>\n",
       "      <td>40</td>\n",
       "      <td>4</td>\n",
       "      <td>16</td>\n",
       "      <td>9</td>\n",
       "      <td>6</td>\n",
       "      <td>4</td>\n",
       "      <td>0</td>\n",
       "      <td>0</td>\n",
       "      <td>1</td>\n",
       "      <td>0</td>\n",
       "      <td>...</td>\n",
       "      <td>0</td>\n",
       "      <td>0</td>\n",
       "      <td>0</td>\n",
       "      <td>0</td>\n",
       "      <td>0</td>\n",
       "      <td>0</td>\n",
       "      <td>0</td>\n",
       "      <td>0</td>\n",
       "      <td>0</td>\n",
       "      <td>0</td>\n",
       "    </tr>\n",
       "    <tr>\n",
       "      <th>2</th>\n",
       "      <td>39</td>\n",
       "      <td>1</td>\n",
       "      <td>12</td>\n",
       "      <td>5</td>\n",
       "      <td>4</td>\n",
       "      <td>5</td>\n",
       "      <td>0</td>\n",
       "      <td>0</td>\n",
       "      <td>1</td>\n",
       "      <td>0</td>\n",
       "      <td>...</td>\n",
       "      <td>0</td>\n",
       "      <td>0</td>\n",
       "      <td>0</td>\n",
       "      <td>0</td>\n",
       "      <td>0</td>\n",
       "      <td>0</td>\n",
       "      <td>0</td>\n",
       "      <td>0</td>\n",
       "      <td>0</td>\n",
       "      <td>0</td>\n",
       "    </tr>\n",
       "    <tr>\n",
       "      <th>3</th>\n",
       "      <td>1</td>\n",
       "      <td>0</td>\n",
       "      <td>10</td>\n",
       "      <td>9</td>\n",
       "      <td>2</td>\n",
       "      <td>6</td>\n",
       "      <td>0</td>\n",
       "      <td>0</td>\n",
       "      <td>1</td>\n",
       "      <td>0</td>\n",
       "      <td>...</td>\n",
       "      <td>0</td>\n",
       "      <td>0</td>\n",
       "      <td>0</td>\n",
       "      <td>0</td>\n",
       "      <td>0</td>\n",
       "      <td>1</td>\n",
       "      <td>0</td>\n",
       "      <td>0</td>\n",
       "      <td>0</td>\n",
       "      <td>0</td>\n",
       "    </tr>\n",
       "    <tr>\n",
       "      <th>4</th>\n",
       "      <td>44</td>\n",
       "      <td>0</td>\n",
       "      <td>16</td>\n",
       "      <td>9</td>\n",
       "      <td>1</td>\n",
       "      <td>3</td>\n",
       "      <td>0</td>\n",
       "      <td>0</td>\n",
       "      <td>1</td>\n",
       "      <td>0</td>\n",
       "      <td>...</td>\n",
       "      <td>0</td>\n",
       "      <td>0</td>\n",
       "      <td>0</td>\n",
       "      <td>0</td>\n",
       "      <td>0</td>\n",
       "      <td>0</td>\n",
       "      <td>0</td>\n",
       "      <td>0</td>\n",
       "      <td>0</td>\n",
       "      <td>0</td>\n",
       "    </tr>\n",
       "  </tbody>\n",
       "</table>\n",
       "<p>5 rows × 178 columns</p>\n",
       "</div>"
      ],
      "text/plain": [
       "   num_lab_procedures  num_procedures  num_medications  num_diagnoses  \\\n",
       "0                  18               1                7              7   \n",
       "1                  40               4               16              9   \n",
       "2                  39               1               12              5   \n",
       "3                   1               0               10              9   \n",
       "4                  44               0               16              9   \n",
       "\n",
       "   No_of_days_Stayed  Month_of_year  race_AfricanAmerican  race_Asian  \\\n",
       "0                  5              7                     0           0   \n",
       "1                  6              4                     0           0   \n",
       "2                  4              5                     0           0   \n",
       "3                  2              6                     0           0   \n",
       "4                  1              3                     0           0   \n",
       "\n",
       "   race_Caucasian  race_Hispanic           ...            \\\n",
       "0               1              0           ...             \n",
       "1               1              0           ...             \n",
       "2               1              0           ...             \n",
       "3               1              0           ...             \n",
       "4               1              0           ...             \n",
       "\n",
       "   diagnosis_3_stamp_Injury  diagnosis_3_stamp_Masculoskeletal  \\\n",
       "0                         0                                  0   \n",
       "1                         0                                  0   \n",
       "2                         0                                  0   \n",
       "3                         0                                  0   \n",
       "4                         0                                  0   \n",
       "\n",
       "   diagnosis_3_stamp_MentalDisorders  diagnosis_3_stamp_Neoplasms  \\\n",
       "0                                  0                            0   \n",
       "1                                  0                            0   \n",
       "2                                  0                            0   \n",
       "3                                  0                            0   \n",
       "4                                  0                            0   \n",
       "\n",
       "   diagnosis_3_stamp_NervousSystems  diagnosis_3_stamp_NoSymptoms  \\\n",
       "0                                 0                             0   \n",
       "1                                 0                             0   \n",
       "2                                 0                             0   \n",
       "3                                 0                             1   \n",
       "4                                 0                             0   \n",
       "\n",
       "   diagnosis_3_stamp_Other  diagnosis_3_stamp_Parasitic  \\\n",
       "0                        0                            0   \n",
       "1                        0                            0   \n",
       "2                        0                            0   \n",
       "3                        0                            0   \n",
       "4                        0                            0   \n",
       "\n",
       "   diagnosis_3_stamp_Respiratory  diagnosis_3_stamp_Skin  \n",
       "0                              0                       0  \n",
       "1                              0                       0  \n",
       "2                              0                       0  \n",
       "3                              0                       0  \n",
       "4                              0                       0  \n",
       "\n",
       "[5 rows x 178 columns]"
      ]
     },
     "execution_count": 331,
     "metadata": {},
     "output_type": "execute_result"
    }
   ],
   "source": [
    "traintoput.head()"
   ]
  },
  {
   "cell_type": "code",
   "execution_count": 332,
   "metadata": {},
   "outputs": [],
   "source": [
    "X_id=test_drop['patientID']"
   ]
  },
  {
   "cell_type": "code",
   "execution_count": 333,
   "metadata": {},
   "outputs": [],
   "source": [
    "test_drop=test_drop.drop('patientID',axis=1)"
   ]
  },
  {
   "cell_type": "code",
   "execution_count": 334,
   "metadata": {},
   "outputs": [],
   "source": [
    "testtoput=pd.get_dummies(test_drop)"
   ]
  },
  {
   "cell_type": "code",
   "execution_count": 335,
   "metadata": {},
   "outputs": [],
   "source": [
    "traintoput=traintoput.drop(['chlorpropamide_Down','chlorpropamide_Up','troglitazone_Steady','metformin.pioglitazone_Steady','discharge_disposition_id_27','admission_source_id_11','admission_source_id_14'],axis=1)"
   ]
  },
  {
   "cell_type": "code",
   "execution_count": 336,
   "metadata": {},
   "outputs": [
    {
     "data": {
      "text/plain": [
       "(14630, 171)"
      ]
     },
     "execution_count": 336,
     "metadata": {},
     "output_type": "execute_result"
    }
   ],
   "source": [
    "testtoput.shape"
   ]
  },
  {
   "cell_type": "code",
   "execution_count": 337,
   "metadata": {},
   "outputs": [
    {
     "data": {
      "text/html": [
       "<div>\n",
       "<style scoped>\n",
       "    .dataframe tbody tr th:only-of-type {\n",
       "        vertical-align: middle;\n",
       "    }\n",
       "\n",
       "    .dataframe tbody tr th {\n",
       "        vertical-align: top;\n",
       "    }\n",
       "\n",
       "    .dataframe thead th {\n",
       "        text-align: right;\n",
       "    }\n",
       "</style>\n",
       "<table border=\"1\" class=\"dataframe\">\n",
       "  <thead>\n",
       "    <tr style=\"text-align: right;\">\n",
       "      <th></th>\n",
       "      <th>num_lab_procedures</th>\n",
       "      <th>num_procedures</th>\n",
       "      <th>num_medications</th>\n",
       "      <th>num_diagnoses</th>\n",
       "      <th>No_of_days_Stayed</th>\n",
       "      <th>Month_of_year</th>\n",
       "      <th>race_AfricanAmerican</th>\n",
       "      <th>race_Asian</th>\n",
       "      <th>race_Caucasian</th>\n",
       "      <th>race_Hispanic</th>\n",
       "      <th>...</th>\n",
       "      <th>diagnosis_3_stamp_Injury</th>\n",
       "      <th>diagnosis_3_stamp_Masculoskeletal</th>\n",
       "      <th>diagnosis_3_stamp_MentalDisorders</th>\n",
       "      <th>diagnosis_3_stamp_Neoplasms</th>\n",
       "      <th>diagnosis_3_stamp_NervousSystems</th>\n",
       "      <th>diagnosis_3_stamp_NoSymptoms</th>\n",
       "      <th>diagnosis_3_stamp_Other</th>\n",
       "      <th>diagnosis_3_stamp_Parasitic</th>\n",
       "      <th>diagnosis_3_stamp_Respiratory</th>\n",
       "      <th>diagnosis_3_stamp_Skin</th>\n",
       "    </tr>\n",
       "  </thead>\n",
       "  <tbody>\n",
       "    <tr>\n",
       "      <th>0</th>\n",
       "      <td>18</td>\n",
       "      <td>1</td>\n",
       "      <td>7</td>\n",
       "      <td>7</td>\n",
       "      <td>5</td>\n",
       "      <td>7</td>\n",
       "      <td>0</td>\n",
       "      <td>0</td>\n",
       "      <td>1</td>\n",
       "      <td>0</td>\n",
       "      <td>...</td>\n",
       "      <td>0</td>\n",
       "      <td>0</td>\n",
       "      <td>0</td>\n",
       "      <td>0</td>\n",
       "      <td>0</td>\n",
       "      <td>0</td>\n",
       "      <td>0</td>\n",
       "      <td>0</td>\n",
       "      <td>0</td>\n",
       "      <td>0</td>\n",
       "    </tr>\n",
       "    <tr>\n",
       "      <th>1</th>\n",
       "      <td>40</td>\n",
       "      <td>4</td>\n",
       "      <td>16</td>\n",
       "      <td>9</td>\n",
       "      <td>6</td>\n",
       "      <td>4</td>\n",
       "      <td>0</td>\n",
       "      <td>0</td>\n",
       "      <td>1</td>\n",
       "      <td>0</td>\n",
       "      <td>...</td>\n",
       "      <td>0</td>\n",
       "      <td>0</td>\n",
       "      <td>0</td>\n",
       "      <td>0</td>\n",
       "      <td>0</td>\n",
       "      <td>0</td>\n",
       "      <td>0</td>\n",
       "      <td>0</td>\n",
       "      <td>0</td>\n",
       "      <td>0</td>\n",
       "    </tr>\n",
       "    <tr>\n",
       "      <th>2</th>\n",
       "      <td>39</td>\n",
       "      <td>1</td>\n",
       "      <td>12</td>\n",
       "      <td>5</td>\n",
       "      <td>4</td>\n",
       "      <td>5</td>\n",
       "      <td>0</td>\n",
       "      <td>0</td>\n",
       "      <td>1</td>\n",
       "      <td>0</td>\n",
       "      <td>...</td>\n",
       "      <td>0</td>\n",
       "      <td>0</td>\n",
       "      <td>0</td>\n",
       "      <td>0</td>\n",
       "      <td>0</td>\n",
       "      <td>0</td>\n",
       "      <td>0</td>\n",
       "      <td>0</td>\n",
       "      <td>0</td>\n",
       "      <td>0</td>\n",
       "    </tr>\n",
       "    <tr>\n",
       "      <th>3</th>\n",
       "      <td>1</td>\n",
       "      <td>0</td>\n",
       "      <td>10</td>\n",
       "      <td>9</td>\n",
       "      <td>2</td>\n",
       "      <td>6</td>\n",
       "      <td>0</td>\n",
       "      <td>0</td>\n",
       "      <td>1</td>\n",
       "      <td>0</td>\n",
       "      <td>...</td>\n",
       "      <td>0</td>\n",
       "      <td>0</td>\n",
       "      <td>0</td>\n",
       "      <td>0</td>\n",
       "      <td>0</td>\n",
       "      <td>1</td>\n",
       "      <td>0</td>\n",
       "      <td>0</td>\n",
       "      <td>0</td>\n",
       "      <td>0</td>\n",
       "    </tr>\n",
       "    <tr>\n",
       "      <th>4</th>\n",
       "      <td>44</td>\n",
       "      <td>0</td>\n",
       "      <td>16</td>\n",
       "      <td>9</td>\n",
       "      <td>1</td>\n",
       "      <td>3</td>\n",
       "      <td>0</td>\n",
       "      <td>0</td>\n",
       "      <td>1</td>\n",
       "      <td>0</td>\n",
       "      <td>...</td>\n",
       "      <td>0</td>\n",
       "      <td>0</td>\n",
       "      <td>0</td>\n",
       "      <td>0</td>\n",
       "      <td>0</td>\n",
       "      <td>0</td>\n",
       "      <td>0</td>\n",
       "      <td>0</td>\n",
       "      <td>0</td>\n",
       "      <td>0</td>\n",
       "    </tr>\n",
       "  </tbody>\n",
       "</table>\n",
       "<p>5 rows × 171 columns</p>\n",
       "</div>"
      ],
      "text/plain": [
       "   num_lab_procedures  num_procedures  num_medications  num_diagnoses  \\\n",
       "0                  18               1                7              7   \n",
       "1                  40               4               16              9   \n",
       "2                  39               1               12              5   \n",
       "3                   1               0               10              9   \n",
       "4                  44               0               16              9   \n",
       "\n",
       "   No_of_days_Stayed  Month_of_year  race_AfricanAmerican  race_Asian  \\\n",
       "0                  5              7                     0           0   \n",
       "1                  6              4                     0           0   \n",
       "2                  4              5                     0           0   \n",
       "3                  2              6                     0           0   \n",
       "4                  1              3                     0           0   \n",
       "\n",
       "   race_Caucasian  race_Hispanic           ...            \\\n",
       "0               1              0           ...             \n",
       "1               1              0           ...             \n",
       "2               1              0           ...             \n",
       "3               1              0           ...             \n",
       "4               1              0           ...             \n",
       "\n",
       "   diagnosis_3_stamp_Injury  diagnosis_3_stamp_Masculoskeletal  \\\n",
       "0                         0                                  0   \n",
       "1                         0                                  0   \n",
       "2                         0                                  0   \n",
       "3                         0                                  0   \n",
       "4                         0                                  0   \n",
       "\n",
       "   diagnosis_3_stamp_MentalDisorders  diagnosis_3_stamp_Neoplasms  \\\n",
       "0                                  0                            0   \n",
       "1                                  0                            0   \n",
       "2                                  0                            0   \n",
       "3                                  0                            0   \n",
       "4                                  0                            0   \n",
       "\n",
       "   diagnosis_3_stamp_NervousSystems  diagnosis_3_stamp_NoSymptoms  \\\n",
       "0                                 0                             0   \n",
       "1                                 0                             0   \n",
       "2                                 0                             0   \n",
       "3                                 0                             1   \n",
       "4                                 0                             0   \n",
       "\n",
       "   diagnosis_3_stamp_Other  diagnosis_3_stamp_Parasitic  \\\n",
       "0                        0                            0   \n",
       "1                        0                            0   \n",
       "2                        0                            0   \n",
       "3                        0                            0   \n",
       "4                        0                            0   \n",
       "\n",
       "   diagnosis_3_stamp_Respiratory  diagnosis_3_stamp_Skin  \n",
       "0                              0                       0  \n",
       "1                              0                       0  \n",
       "2                              0                       0  \n",
       "3                              0                       0  \n",
       "4                              0                       0  \n",
       "\n",
       "[5 rows x 171 columns]"
      ]
     },
     "execution_count": 337,
     "metadata": {},
     "output_type": "execute_result"
    }
   ],
   "source": [
    "traintoput.head()"
   ]
  },
  {
   "cell_type": "code",
   "execution_count": 338,
   "metadata": {},
   "outputs": [
    {
     "data": {
      "text/plain": [
       "Index(['num_lab_procedures', 'num_procedures', 'num_medications',\n",
       "       'num_diagnoses', 'No_of_days_Stayed', 'Month_of_year',\n",
       "       'race_AfricanAmerican', 'race_Asian', 'race_Caucasian', 'race_Hispanic',\n",
       "       ...\n",
       "       'diagnosis_3_stamp_Injury', 'diagnosis_3_stamp_Masculoskeletal',\n",
       "       'diagnosis_3_stamp_MentalDisorders', 'diagnosis_3_stamp_Neoplasms',\n",
       "       'diagnosis_3_stamp_NervousSystems', 'diagnosis_3_stamp_NoSymptoms',\n",
       "       'diagnosis_3_stamp_Other', 'diagnosis_3_stamp_Parasitic',\n",
       "       'diagnosis_3_stamp_Respiratory', 'diagnosis_3_stamp_Skin'],\n",
       "      dtype='object', length=171)"
      ]
     },
     "execution_count": 338,
     "metadata": {},
     "output_type": "execute_result"
    }
   ],
   "source": [
    "testtoput.columns"
   ]
  },
  {
   "cell_type": "code",
   "execution_count": 339,
   "metadata": {},
   "outputs": [
    {
     "data": {
      "text/html": [
       "<div>\n",
       "<style scoped>\n",
       "    .dataframe tbody tr th:only-of-type {\n",
       "        vertical-align: middle;\n",
       "    }\n",
       "\n",
       "    .dataframe tbody tr th {\n",
       "        vertical-align: top;\n",
       "    }\n",
       "\n",
       "    .dataframe thead th {\n",
       "        text-align: right;\n",
       "    }\n",
       "</style>\n",
       "<table border=\"1\" class=\"dataframe\">\n",
       "  <thead>\n",
       "    <tr style=\"text-align: right;\">\n",
       "      <th></th>\n",
       "      <th>num_lab_procedures</th>\n",
       "      <th>num_procedures</th>\n",
       "      <th>num_medications</th>\n",
       "      <th>num_diagnoses</th>\n",
       "      <th>No_of_days_Stayed</th>\n",
       "      <th>Month_of_year</th>\n",
       "      <th>race_AfricanAmerican</th>\n",
       "      <th>race_Asian</th>\n",
       "      <th>race_Caucasian</th>\n",
       "      <th>race_Hispanic</th>\n",
       "      <th>...</th>\n",
       "      <th>diagnosis_3_stamp_Injury</th>\n",
       "      <th>diagnosis_3_stamp_Masculoskeletal</th>\n",
       "      <th>diagnosis_3_stamp_MentalDisorders</th>\n",
       "      <th>diagnosis_3_stamp_Neoplasms</th>\n",
       "      <th>diagnosis_3_stamp_NervousSystems</th>\n",
       "      <th>diagnosis_3_stamp_NoSymptoms</th>\n",
       "      <th>diagnosis_3_stamp_Other</th>\n",
       "      <th>diagnosis_3_stamp_Parasitic</th>\n",
       "      <th>diagnosis_3_stamp_Respiratory</th>\n",
       "      <th>diagnosis_3_stamp_Skin</th>\n",
       "    </tr>\n",
       "  </thead>\n",
       "  <tbody>\n",
       "    <tr>\n",
       "      <th>0</th>\n",
       "      <td>18</td>\n",
       "      <td>1</td>\n",
       "      <td>7</td>\n",
       "      <td>7</td>\n",
       "      <td>5</td>\n",
       "      <td>7</td>\n",
       "      <td>0</td>\n",
       "      <td>0</td>\n",
       "      <td>1</td>\n",
       "      <td>0</td>\n",
       "      <td>...</td>\n",
       "      <td>0</td>\n",
       "      <td>0</td>\n",
       "      <td>0</td>\n",
       "      <td>0</td>\n",
       "      <td>0</td>\n",
       "      <td>0</td>\n",
       "      <td>0</td>\n",
       "      <td>0</td>\n",
       "      <td>0</td>\n",
       "      <td>0</td>\n",
       "    </tr>\n",
       "    <tr>\n",
       "      <th>1</th>\n",
       "      <td>40</td>\n",
       "      <td>4</td>\n",
       "      <td>16</td>\n",
       "      <td>9</td>\n",
       "      <td>6</td>\n",
       "      <td>4</td>\n",
       "      <td>0</td>\n",
       "      <td>0</td>\n",
       "      <td>1</td>\n",
       "      <td>0</td>\n",
       "      <td>...</td>\n",
       "      <td>0</td>\n",
       "      <td>0</td>\n",
       "      <td>0</td>\n",
       "      <td>0</td>\n",
       "      <td>0</td>\n",
       "      <td>0</td>\n",
       "      <td>0</td>\n",
       "      <td>0</td>\n",
       "      <td>0</td>\n",
       "      <td>0</td>\n",
       "    </tr>\n",
       "    <tr>\n",
       "      <th>2</th>\n",
       "      <td>39</td>\n",
       "      <td>1</td>\n",
       "      <td>12</td>\n",
       "      <td>5</td>\n",
       "      <td>4</td>\n",
       "      <td>5</td>\n",
       "      <td>0</td>\n",
       "      <td>0</td>\n",
       "      <td>1</td>\n",
       "      <td>0</td>\n",
       "      <td>...</td>\n",
       "      <td>0</td>\n",
       "      <td>0</td>\n",
       "      <td>0</td>\n",
       "      <td>0</td>\n",
       "      <td>0</td>\n",
       "      <td>0</td>\n",
       "      <td>0</td>\n",
       "      <td>0</td>\n",
       "      <td>0</td>\n",
       "      <td>0</td>\n",
       "    </tr>\n",
       "    <tr>\n",
       "      <th>3</th>\n",
       "      <td>1</td>\n",
       "      <td>0</td>\n",
       "      <td>10</td>\n",
       "      <td>9</td>\n",
       "      <td>2</td>\n",
       "      <td>6</td>\n",
       "      <td>0</td>\n",
       "      <td>0</td>\n",
       "      <td>1</td>\n",
       "      <td>0</td>\n",
       "      <td>...</td>\n",
       "      <td>0</td>\n",
       "      <td>0</td>\n",
       "      <td>0</td>\n",
       "      <td>0</td>\n",
       "      <td>0</td>\n",
       "      <td>1</td>\n",
       "      <td>0</td>\n",
       "      <td>0</td>\n",
       "      <td>0</td>\n",
       "      <td>0</td>\n",
       "    </tr>\n",
       "    <tr>\n",
       "      <th>4</th>\n",
       "      <td>44</td>\n",
       "      <td>0</td>\n",
       "      <td>16</td>\n",
       "      <td>9</td>\n",
       "      <td>1</td>\n",
       "      <td>3</td>\n",
       "      <td>0</td>\n",
       "      <td>0</td>\n",
       "      <td>1</td>\n",
       "      <td>0</td>\n",
       "      <td>...</td>\n",
       "      <td>0</td>\n",
       "      <td>0</td>\n",
       "      <td>0</td>\n",
       "      <td>0</td>\n",
       "      <td>0</td>\n",
       "      <td>0</td>\n",
       "      <td>0</td>\n",
       "      <td>0</td>\n",
       "      <td>0</td>\n",
       "      <td>0</td>\n",
       "    </tr>\n",
       "  </tbody>\n",
       "</table>\n",
       "<p>5 rows × 171 columns</p>\n",
       "</div>"
      ],
      "text/plain": [
       "   num_lab_procedures  num_procedures  num_medications  num_diagnoses  \\\n",
       "0                  18               1                7              7   \n",
       "1                  40               4               16              9   \n",
       "2                  39               1               12              5   \n",
       "3                   1               0               10              9   \n",
       "4                  44               0               16              9   \n",
       "\n",
       "   No_of_days_Stayed  Month_of_year  race_AfricanAmerican  race_Asian  \\\n",
       "0                  5              7                     0           0   \n",
       "1                  6              4                     0           0   \n",
       "2                  4              5                     0           0   \n",
       "3                  2              6                     0           0   \n",
       "4                  1              3                     0           0   \n",
       "\n",
       "   race_Caucasian  race_Hispanic           ...            \\\n",
       "0               1              0           ...             \n",
       "1               1              0           ...             \n",
       "2               1              0           ...             \n",
       "3               1              0           ...             \n",
       "4               1              0           ...             \n",
       "\n",
       "   diagnosis_3_stamp_Injury  diagnosis_3_stamp_Masculoskeletal  \\\n",
       "0                         0                                  0   \n",
       "1                         0                                  0   \n",
       "2                         0                                  0   \n",
       "3                         0                                  0   \n",
       "4                         0                                  0   \n",
       "\n",
       "   diagnosis_3_stamp_MentalDisorders  diagnosis_3_stamp_Neoplasms  \\\n",
       "0                                  0                            0   \n",
       "1                                  0                            0   \n",
       "2                                  0                            0   \n",
       "3                                  0                            0   \n",
       "4                                  0                            0   \n",
       "\n",
       "   diagnosis_3_stamp_NervousSystems  diagnosis_3_stamp_NoSymptoms  \\\n",
       "0                                 0                             0   \n",
       "1                                 0                             0   \n",
       "2                                 0                             0   \n",
       "3                                 0                             1   \n",
       "4                                 0                             0   \n",
       "\n",
       "   diagnosis_3_stamp_Other  diagnosis_3_stamp_Parasitic  \\\n",
       "0                        0                            0   \n",
       "1                        0                            0   \n",
       "2                        0                            0   \n",
       "3                        0                            0   \n",
       "4                        0                            0   \n",
       "\n",
       "   diagnosis_3_stamp_Respiratory  diagnosis_3_stamp_Skin  \n",
       "0                              0                       0  \n",
       "1                              0                       0  \n",
       "2                              0                       0  \n",
       "3                              0                       0  \n",
       "4                              0                       0  \n",
       "\n",
       "[5 rows x 171 columns]"
      ]
     },
     "execution_count": 339,
     "metadata": {},
     "output_type": "execute_result"
    }
   ],
   "source": [
    "traintoput.head()"
   ]
  },
  {
   "cell_type": "code",
   "execution_count": 340,
   "metadata": {},
   "outputs": [
    {
     "data": {
      "text/plain": [
       "race                        0\n",
       "gender                      0\n",
       "age                         0\n",
       "num_lab_procedures          0\n",
       "num_procedures              0\n",
       "num_medications             0\n",
       "num_diagnoses               0\n",
       "max_glu_serum               0\n",
       "A1Cresult                   0\n",
       "metformin                   0\n",
       "repaglinide                 0\n",
       "nateglinide                 0\n",
       "chlorpropamide              0\n",
       "glimepiride                 0\n",
       "glipizide                   0\n",
       "glyburide                   0\n",
       "tolbutamide                 0\n",
       "pioglitazone                0\n",
       "rosiglitazone               0\n",
       "acarbose                    0\n",
       "miglitol                    0\n",
       "troglitazone                0\n",
       "tolazamide                  0\n",
       "insulin                     0\n",
       "glyburide.metformin         0\n",
       "glipizide.metformin         0\n",
       "metformin.rosiglitazone     0\n",
       "metformin.pioglitazone      0\n",
       "change                      0\n",
       "diabetesMed                 0\n",
       "admission_type_id           0\n",
       "discharge_disposition_id    0\n",
       "admission_source_id         0\n",
       "No_of_days_Stayed           0\n",
       "Month_of_year               0\n",
       "diagnosis_1_stamp           0\n",
       "diagnosis_2_stamp           0\n",
       "diagnosis_3_stamp           0\n",
       "dtype: int64"
      ]
     },
     "execution_count": 340,
     "metadata": {},
     "output_type": "execute_result"
    }
   ],
   "source": [
    "test_drop.isna().sum()"
   ]
  },
  {
   "cell_type": "markdown",
   "metadata": {},
   "source": [
    "#### Insights I found in data after feature engineering\n",
    "\n",
    "- Missing Values:The train data have 3 attributes with the more than 10% of their records missing such as weight (97%), payer     code (42%), and medical specialty (43%). \n",
    "\n",
    "\n",
    "- Clubbed the Drugs as required\n",
    "\n",
    "\n",
    "- Added  new attributes No of Days Stayed and Month: This variable was being extracted based on the admission date and discharge   date. Stayed= discharge – admission. Month from the Admission Date.\n",
    "\n",
    "\n",
    "- ICD code Levelling has been made.\n",
    "\n",
    "\n",
    "- Releveling Attributes following 5 attributes:\n",
    "\n",
    "  admission_type_id: It had 8 levels I made it down to 2 levels such as casual and emergency.\n",
    "  \n",
    "  discharge_disposition_id: It had 29 levels and out of which 4 levels were discarded and others were clubbed into 14             levels.\n",
    "  \n",
    "  admission_source_id: It had 26 levels which were clubbed into 12 levels.\n",
    "  \n",
    "  Age: It was in ordinal form in the given train data I converted them into numeric by just taking mean into account.\n",
    "  A1Cresult and Ma Gluc serum: Renaming the levels for better intiution\n"
   ]
  },
  {
   "cell_type": "markdown",
   "metadata": {},
   "source": [
    "#### Split data into train and test"
   ]
  },
  {
   "cell_type": "code",
   "execution_count": 341,
   "metadata": {},
   "outputs": [
    {
     "name": "stdout",
     "output_type": "stream",
     "text": [
      "(24255, 171)\n",
      "(10395, 171)\n",
      "(24255,)\n",
      "(10395,)\n"
     ]
    }
   ],
   "source": [
    "y=target\n",
    "X=traintoput\n",
    "X_train, X_test, y_train, y_test = train_test_split(X, y, test_size=0.30, random_state =546)\n",
    "print(X_train.shape)\n",
    "print(X_test.shape)\n",
    "print(y_train.shape)\n",
    "print(y_test.shape)"
   ]
  },
  {
   "cell_type": "code",
   "execution_count": 342,
   "metadata": {},
   "outputs": [
    {
     "data": {
      "text/plain": [
       "0    0\n",
       "1    0\n",
       "2    0\n",
       "3    0\n",
       "4    1\n",
       "Name: readmitted, dtype: int64"
      ]
     },
     "execution_count": 342,
     "metadata": {},
     "output_type": "execute_result"
    }
   ],
   "source": [
    "y.head()"
   ]
  },
  {
   "cell_type": "code",
   "execution_count": 343,
   "metadata": {},
   "outputs": [],
   "source": [
    "Before_X_resampled = X_train\n",
    "Before_y_resampled = y_train"
   ]
  },
  {
   "cell_type": "code",
   "execution_count": 344,
   "metadata": {},
   "outputs": [],
   "source": [
    "from imblearn.over_sampling import RandomOverSampler\n",
    "ros = RandomOverSampler(random_state=0)\n",
    "X_resampled, y_resampled = ros.fit_sample(X_train, y_train)"
   ]
  },
  {
   "cell_type": "code",
   "execution_count": 345,
   "metadata": {},
   "outputs": [],
   "source": [
    "X_train=pd.DataFrame(X_resampled)\n",
    "y_train=y_resampled"
   ]
  },
  {
   "cell_type": "code",
   "execution_count": 150,
   "metadata": {},
   "outputs": [
    {
     "data": {
      "text/plain": [
       "(41852, 171)"
      ]
     },
     "execution_count": 150,
     "metadata": {},
     "output_type": "execute_result"
    }
   ],
   "source": [
    "X_train.shape"
   ]
  },
  {
   "cell_type": "markdown",
   "metadata": {},
   "source": [
    "#### LogisticRegression"
   ]
  },
  {
   "cell_type": "code",
   "execution_count": 209,
   "metadata": {
    "scrolled": true
   },
   "outputs": [
    {
     "data": {
      "text/plain": [
       "LogisticRegression(C=1.0, class_weight=None, dual=False, fit_intercept=True,\n",
       "                   intercept_scaling=1, l1_ratio=None, max_iter=100,\n",
       "                   multi_class='warn', n_jobs=None, penalty='l2',\n",
       "                   random_state=None, solver='warn', tol=0.0001, verbose=0,\n",
       "                   warm_start=False)"
      ]
     },
     "execution_count": 209,
     "metadata": {},
     "output_type": "execute_result"
    }
   ],
   "source": [
    "from sklearn.linear_model import LogisticRegression\n",
    "\n",
    "log_reg = LogisticRegression()\n",
    "\n",
    "log_reg.fit(X_train, y_train)"
   ]
  },
  {
   "cell_type": "markdown",
   "metadata": {},
   "source": [
    "#### Check accuracy and recall on test data"
   ]
  },
  {
   "cell_type": "code",
   "execution_count": 210,
   "metadata": {},
   "outputs": [],
   "source": [
    "y1_pred_ = log_reg.predict(X_train)\n",
    "y_pred_ = log_reg.predict(X_test)"
   ]
  },
  {
   "cell_type": "code",
   "execution_count": 211,
   "metadata": {
    "scrolled": true
   },
   "outputs": [
    {
     "name": "stdout",
     "output_type": "stream",
     "text": [
      "Recall : 0.590557\n",
      "Accuracy : 0.602600\n",
      "              precision    recall  f1-score   support\n",
      "\n",
      "           0     0.6002    0.6146    0.6073     20926\n",
      "           1     0.6051    0.5906    0.5978     20926\n",
      "\n",
      "    accuracy                         0.6026     41852\n",
      "   macro avg     0.6027    0.6026    0.6025     41852\n",
      "weighted avg     0.6027    0.6026    0.6025     41852\n",
      "\n",
      "\n",
      "\n",
      "Recall : 0.575524\n",
      "Accuracy : 0.610005\n",
      "              precision    recall  f1-score   support\n",
      "\n",
      "           0     0.9009    0.6155    0.7313      8965\n",
      "           1     0.1927    0.5755    0.2888      1430\n",
      "\n",
      "    accuracy                         0.6100     10395\n",
      "   macro avg     0.5468    0.5955    0.5101     10395\n",
      "weighted avg     0.8035    0.6100    0.6705     10395\n",
      "\n"
     ]
    }
   ],
   "source": [
    "print(\"Recall : %5f\" %recall_score(y_train,y1_pred_))\n",
    "print(\"Accuracy : %5f\" %accuracy_score(y_train,y1_pred_))\n",
    "print(classification_report(y_train,y1_pred_,digits=4))\n",
    "print(\"\\n\")\n",
    "\n",
    "print(\"Recall : %5f\" %recall_score(y_test,y_pred_))\n",
    "print(\"Accuracy : %5f\" %accuracy_score(y_test,y_pred_))\n",
    "print(classification_report(y_test,y_pred_,digits=4))"
   ]
  },
  {
   "cell_type": "code",
   "execution_count": 216,
   "metadata": {},
   "outputs": [
    {
     "name": "stdout",
     "output_type": "stream",
     "text": [
      "Confusion Matrix : \n",
      "[[5518 3447]\n",
      " [ 607  823]]\n"
     ]
    }
   ],
   "source": [
    "print(\"Confusion Matrix : \")\n",
    "print(confusion_matrix(y_test,y_pred_))"
   ]
  },
  {
   "cell_type": "code",
   "execution_count": 217,
   "metadata": {},
   "outputs": [
    {
     "name": "stdout",
     "output_type": "stream",
     "text": [
      "AUC: 0.596\n"
     ]
    }
   ],
   "source": [
    "auc = roc_auc_score(y_test,y_pred_)\n",
    "print('AUC: %.3f' % auc)"
   ]
  },
  {
   "cell_type": "markdown",
   "metadata": {},
   "source": [
    "#### SVM"
   ]
  },
  {
   "cell_type": "code",
   "execution_count": 360,
   "metadata": {},
   "outputs": [],
   "source": [
    "from sklearn.svm import SVC"
   ]
  },
  {
   "cell_type": "code",
   "execution_count": 361,
   "metadata": {},
   "outputs": [],
   "source": [
    "svc_model = SVC()"
   ]
  },
  {
   "cell_type": "markdown",
   "metadata": {},
   "source": [
    "#### train our SVM model with our \"training\" dataset.\n"
   ]
  },
  {
   "cell_type": "code",
   "execution_count": 362,
   "metadata": {},
   "outputs": [
    {
     "data": {
      "text/plain": [
       "SVC(C=1.0, cache_size=200, class_weight=None, coef0=0.0,\n",
       "    decision_function_shape='ovr', degree=3, gamma='auto_deprecated',\n",
       "    kernel='rbf', max_iter=-1, probability=False, random_state=None,\n",
       "    shrinking=True, tol=0.001, verbose=False)"
      ]
     },
     "execution_count": 362,
     "metadata": {},
     "output_type": "execute_result"
    }
   ],
   "source": [
    "svc_model.fit(X_train, y_train)"
   ]
  },
  {
   "cell_type": "code",
   "execution_count": 363,
   "metadata": {},
   "outputs": [],
   "source": [
    "y_predict = svc_model.predict(X_test)"
   ]
  },
  {
   "cell_type": "code",
   "execution_count": 364,
   "metadata": {},
   "outputs": [],
   "source": [
    "y1_pred_ = svc_model.predict(X_train)"
   ]
  },
  {
   "cell_type": "code",
   "execution_count": 365,
   "metadata": {},
   "outputs": [
    {
     "name": "stdout",
     "output_type": "stream",
     "text": [
      "Recall : 0.761445\n",
      "Accuracy : 0.707851\n",
      "              precision    recall  f1-score   support\n",
      "\n",
      "           0     0.7328    0.6543    0.6913     20926\n",
      "           1     0.6877    0.7614    0.7227     20926\n",
      "\n",
      "    accuracy                         0.7079     41852\n",
      "   macro avg     0.7103    0.7079    0.7070     41852\n",
      "weighted avg     0.7103    0.7079    0.7070     41852\n",
      "\n",
      "\n",
      "\n",
      "Recall : 0.544056\n",
      "Accuracy : 0.610390\n",
      "              precision    recall  f1-score   support\n",
      "\n",
      "           0     0.8952    0.6210    0.7333      8965\n",
      "           1     0.1863    0.5441    0.2776      1430\n",
      "\n",
      "    accuracy                         0.6104     10395\n",
      "   macro avg     0.5407    0.5825    0.5054     10395\n",
      "weighted avg     0.7976    0.6104    0.6706     10395\n",
      "\n"
     ]
    }
   ],
   "source": [
    "print(\"Recall : %5f\" %recall_score(y_train,y1_pred_))\n",
    "print(\"Accuracy : %5f\" %accuracy_score(y_train,y1_pred_))\n",
    "print(classification_report(y_train,y1_pred_,digits=4))\n",
    "print(\"\\n\")\n",
    "\n",
    "print(\"Recall : %5f\" %recall_score(y_test,y_predict))\n",
    "print(\"Accuracy : %5f\" %accuracy_score(y_test,y_predict))\n",
    "print(classification_report(y_test,y_predict,digits=4))"
   ]
  },
  {
   "cell_type": "code",
   "execution_count": 367,
   "metadata": {},
   "outputs": [
    {
     "name": "stdout",
     "output_type": "stream",
     "text": [
      "Confusion Matrix : \n",
      "[[5567 3398]\n",
      " [ 652  778]]\n"
     ]
    }
   ],
   "source": [
    "print(\"Confusion Matrix : \")\n",
    "print(confusion_matrix(y_test, y_predict))"
   ]
  },
  {
   "cell_type": "code",
   "execution_count": 368,
   "metadata": {},
   "outputs": [
    {
     "name": "stdout",
     "output_type": "stream",
     "text": [
      "AUC: 0.575\n"
     ]
    }
   ],
   "source": [
    "auc = roc_auc_score(y_test,y_pred_)\n",
    "print('AUC: %.3f' % auc)"
   ]
  },
  {
   "cell_type": "markdown",
   "metadata": {},
   "source": [
    "#### improving with normailzed data"
   ]
  },
  {
   "cell_type": "code",
   "execution_count": 98,
   "metadata": {},
   "outputs": [],
   "source": [
    "from sklearn import preprocessing\n",
    "scaler = preprocessing.MinMaxScaler(feature_range=(0, 1))"
   ]
  },
  {
   "cell_type": "code",
   "execution_count": 99,
   "metadata": {},
   "outputs": [
    {
     "data": {
      "text/plain": [
       "MinMaxScaler(copy=True, feature_range=(0, 1))"
      ]
     },
     "execution_count": 99,
     "metadata": {},
     "output_type": "execute_result"
    }
   ],
   "source": [
    "scaler.fit(X_train)"
   ]
  },
  {
   "cell_type": "code",
   "execution_count": 100,
   "metadata": {},
   "outputs": [],
   "source": [
    "X_train_scaled=scaler.transform(X_train)\n",
    "X_test_scaled=scaler.transform(X_test)"
   ]
  },
  {
   "cell_type": "code",
   "execution_count": 101,
   "metadata": {},
   "outputs": [
    {
     "data": {
      "text/plain": [
       "SVC(C=1.0, cache_size=200, class_weight=None, coef0=0.0,\n",
       "    decision_function_shape='ovr', degree=3, gamma='auto_deprecated',\n",
       "    kernel='rbf', max_iter=-1, probability=False, random_state=None,\n",
       "    shrinking=True, tol=0.001, verbose=False)"
      ]
     },
     "execution_count": 101,
     "metadata": {},
     "output_type": "execute_result"
    }
   ],
   "source": [
    "svc_model = SVC()\n",
    "svc_model.fit(X_train_scaled, y_train)"
   ]
  },
  {
   "cell_type": "code",
   "execution_count": 102,
   "metadata": {},
   "outputs": [],
   "source": [
    "y_predict = svc_model.predict(X_test_scaled)\n",
    "cm = confusion_matrix(y_test, y_predict)"
   ]
  },
  {
   "cell_type": "code",
   "execution_count": 103,
   "metadata": {},
   "outputs": [
    {
     "name": "stdout",
     "output_type": "stream",
     "text": [
      "0.6393458393458393\n"
     ]
    }
   ],
   "source": [
    "from sklearn.metrics import accuracy_score\n",
    "print(accuracy_score(y_test,y_predict))"
   ]
  },
  {
   "cell_type": "markdown",
   "metadata": {},
   "source": [
    "#### gridsearch model"
   ]
  },
  {
   "cell_type": "code",
   "execution_count": 420,
   "metadata": {},
   "outputs": [],
   "source": [
    "param_grid = {'C': [0.001, 0.01, 0.1, 1, 10], 'gamma': [0.001, 0.01, 0.1, 1], 'kernel': ['rbf']} "
   ]
  },
  {
   "cell_type": "code",
   "execution_count": 421,
   "metadata": {},
   "outputs": [],
   "source": [
    "from sklearn.model_selection import GridSearchCV"
   ]
  },
  {
   "cell_type": "code",
   "execution_count": null,
   "metadata": {},
   "outputs": [
    {
     "name": "stdout",
     "output_type": "stream",
     "text": [
      "Fitting 3 folds for each of 20 candidates, totalling 60 fits\n",
      "[CV] C=0.001, gamma=0.001, kernel=rbf ................................\n",
      "[CV]  C=0.001, gamma=0.001, kernel=rbf, score=0.8627256987385604, total= 6.3min\n",
      "[CV] C=0.001, gamma=0.001, kernel=rbf ................................\n"
     ]
    },
    {
     "name": "stderr",
     "output_type": "stream",
     "text": [
      "[Parallel(n_jobs=1)]: Done   1 out of   1 | elapsed: 10.6min remaining:    0.0s\n"
     ]
    },
    {
     "name": "stdout",
     "output_type": "stream",
     "text": [
      "[CV]  C=0.001, gamma=0.001, kernel=rbf, score=0.862708719851577, total= 7.4min\n",
      "[CV] C=0.001, gamma=0.001, kernel=rbf ................................\n"
     ]
    },
    {
     "name": "stderr",
     "output_type": "stream",
     "text": [
      "[Parallel(n_jobs=1)]: Done   2 out of   2 | elapsed: 24.0min remaining:    0.0s\n"
     ]
    },
    {
     "name": "stdout",
     "output_type": "stream",
     "text": [
      "[CV]  C=0.001, gamma=0.001, kernel=rbf, score=0.8628154379020287, total= 9.1min\n",
      "[CV] C=0.001, gamma=0.01, kernel=rbf .................................\n"
     ]
    },
    {
     "name": "stderr",
     "output_type": "stream",
     "text": [
      "[Parallel(n_jobs=1)]: Done   3 out of   3 | elapsed: 39.2min remaining:    0.0s\n"
     ]
    },
    {
     "name": "stdout",
     "output_type": "stream",
     "text": [
      "[CV]  C=0.001, gamma=0.01, kernel=rbf, score=0.8627256987385604, total= 9.3min\n",
      "[CV] C=0.001, gamma=0.01, kernel=rbf .................................\n",
      "[CV]  C=0.001, gamma=0.01, kernel=rbf, score=0.862708719851577, total= 8.5min\n",
      "[CV] C=0.001, gamma=0.01, kernel=rbf .................................\n",
      "[CV]  C=0.001, gamma=0.01, kernel=rbf, score=0.8628154379020287, total= 9.1min\n",
      "[CV] C=0.001, gamma=0.1, kernel=rbf ..................................\n",
      "[CV]  C=0.001, gamma=0.1, kernel=rbf, score=0.8627256987385604, total= 9.0min\n",
      "[CV] C=0.001, gamma=0.1, kernel=rbf ..................................\n",
      "[CV]  C=0.001, gamma=0.1, kernel=rbf, score=0.862708719851577, total= 6.0min\n",
      "[CV] C=0.001, gamma=0.1, kernel=rbf ..................................\n",
      "[CV]  C=0.001, gamma=0.1, kernel=rbf, score=0.8628154379020287, total= 5.9min\n",
      "[CV] C=0.001, gamma=1, kernel=rbf ....................................\n",
      "[CV]  C=0.001, gamma=1, kernel=rbf, score=0.8627256987385604, total= 5.9min\n",
      "[CV] C=0.001, gamma=1, kernel=rbf ....................................\n",
      "[CV]  C=0.001, gamma=1, kernel=rbf, score=0.862708719851577, total= 5.9min\n",
      "[CV] C=0.001, gamma=1, kernel=rbf ....................................\n",
      "[CV]  C=0.001, gamma=1, kernel=rbf, score=0.8628154379020287, total= 5.9min\n",
      "[CV] C=0.01, gamma=0.001, kernel=rbf .................................\n",
      "[CV]  C=0.01, gamma=0.001, kernel=rbf, score=0.8627256987385604, total= 5.8min\n",
      "[CV] C=0.01, gamma=0.001, kernel=rbf .................................\n",
      "[CV]  C=0.01, gamma=0.001, kernel=rbf, score=0.862708719851577, total= 5.8min\n",
      "[CV] C=0.01, gamma=0.001, kernel=rbf .................................\n",
      "[CV]  C=0.01, gamma=0.001, kernel=rbf, score=0.8628154379020287, total= 5.8min\n",
      "[CV] C=0.01, gamma=0.01, kernel=rbf ..................................\n",
      "[CV]  C=0.01, gamma=0.01, kernel=rbf, score=0.8627256987385604, total= 6.1min\n",
      "[CV] C=0.01, gamma=0.01, kernel=rbf ..................................\n",
      "[CV]  C=0.01, gamma=0.01, kernel=rbf, score=0.862708719851577, total= 6.0min\n",
      "[CV] C=0.01, gamma=0.01, kernel=rbf ..................................\n",
      "[CV]  C=0.01, gamma=0.01, kernel=rbf, score=0.8628154379020287, total= 6.1min\n",
      "[CV] C=0.01, gamma=0.1, kernel=rbf ...................................\n",
      "[CV]  C=0.01, gamma=0.1, kernel=rbf, score=0.8627256987385604, total=16.4min\n",
      "[CV] C=0.01, gamma=0.1, kernel=rbf ...................................\n",
      "[CV]  C=0.01, gamma=0.1, kernel=rbf, score=0.862708719851577, total=16.4min\n",
      "[CV] C=0.01, gamma=0.1, kernel=rbf ...................................\n",
      "[CV]  C=0.01, gamma=0.1, kernel=rbf, score=0.8628154379020287, total=16.4min\n",
      "[CV] C=0.01, gamma=1, kernel=rbf .....................................\n"
     ]
    }
   ],
   "source": [
    "grid = GridSearchCV(SVC(),param_grid,refit=True,verbose=4)\n",
    "grid.fit(X_train_scaled,y_train)"
   ]
  },
  {
   "cell_type": "code",
   "execution_count": 195,
   "metadata": {},
   "outputs": [],
   "source": [
    "#print (grid.best_params_)\n",
    "#print ('\\n')\n",
    "#print (grid.best_estimator_)"
   ]
  },
  {
   "cell_type": "code",
   "execution_count": 196,
   "metadata": {},
   "outputs": [],
   "source": [
    "#grid_predictions = grid.predict(X_test_scaled)"
   ]
  },
  {
   "cell_type": "code",
   "execution_count": 201,
   "metadata": {},
   "outputs": [],
   "source": [
    "#cm = np.array(confusion_matrix(y_test, grid_predictions, labels=[1,0]))\n",
    "#confusion = pd.DataFrame(cm, index=['is_zero', 'is_one'],\n",
    "                         #columns=['predicted_zero','predicted_one'])\n",
    "#confusion"
   ]
  },
  {
   "cell_type": "code",
   "execution_count": 198,
   "metadata": {},
   "outputs": [],
   "source": [
    "#from sklearn.metrics import accuracy_score\n",
    "#print(accuracy_score(y_test,grid_predictions))"
   ]
  },
  {
   "cell_type": "markdown",
   "metadata": {},
   "source": [
    "#### Building Bernoulli Naive Bayes Classifier"
   ]
  },
  {
   "cell_type": "code",
   "execution_count": 352,
   "metadata": {},
   "outputs": [],
   "source": [
    "#Import Library of Gaussian Naive Bayes model\n",
    "from sklearn.naive_bayes import BernoulliNB\n",
    "import numpy as np"
   ]
  },
  {
   "cell_type": "code",
   "execution_count": 353,
   "metadata": {},
   "outputs": [
    {
     "data": {
      "text/plain": [
       "BernoulliNB(alpha=1.0, binarize=0.0, class_prior=None, fit_prior=True)"
      ]
     },
     "execution_count": 353,
     "metadata": {},
     "output_type": "execute_result"
    }
   ],
   "source": [
    "#Create a Gaussian Classifier\n",
    "BernoulliNB_model = BernoulliNB()\n",
    "\n",
    "# Train the model using the training sets \n",
    "BernoulliNB_model.fit(X_train, y_train)"
   ]
  },
  {
   "cell_type": "code",
   "execution_count": 355,
   "metadata": {},
   "outputs": [
    {
     "name": "stdout",
     "output_type": "stream",
     "text": [
      "[0 0 1 0 0]\n"
     ]
    }
   ],
   "source": [
    "#Predict Output \n",
    "y_pred = BernoulliNB_model.predict(X_test)\n",
    "print(y_pred[:5])"
   ]
  },
  {
   "cell_type": "code",
   "execution_count": 356,
   "metadata": {},
   "outputs": [],
   "source": [
    "y1_pred_ = BernoulliNB_model.predict(X_train)\n",
    "y_pred_ = BernoulliNB_model.predict(X_test)"
   ]
  },
  {
   "cell_type": "code",
   "execution_count": 357,
   "metadata": {},
   "outputs": [
    {
     "name": "stdout",
     "output_type": "stream",
     "text": [
      "Recall : 0.588646\n",
      "Accuracy : 0.592636\n",
      "              precision    recall  f1-score   support\n",
      "\n",
      "           0     0.5919    0.5966    0.5943     20926\n",
      "           1     0.5934    0.5886    0.5910     20926\n",
      "\n",
      "    accuracy                         0.5926     41852\n",
      "   macro avg     0.5926    0.5926    0.5926     41852\n",
      "weighted avg     0.5926    0.5926    0.5926     41852\n",
      "\n",
      "\n",
      "\n",
      "Recall : 0.560839\n",
      "Accuracy : 0.585281\n",
      "              precision    recall  f1-score   support\n",
      "\n",
      "           0     0.8937    0.5892    0.7102      8965\n",
      "           1     0.1788    0.5608    0.2712      1430\n",
      "\n",
      "    accuracy                         0.5853     10395\n",
      "   macro avg     0.5363    0.5750    0.4907     10395\n",
      "weighted avg     0.7954    0.5853    0.6498     10395\n",
      "\n"
     ]
    }
   ],
   "source": [
    "print(\"Recall : %5f\" %recall_score(y_train,y1_pred_))\n",
    "print(\"Accuracy : %5f\" %accuracy_score(y_train,y1_pred_))\n",
    "print(classification_report(y_train,y1_pred_,digits=4))\n",
    "print(\"\\n\")\n",
    "\n",
    "print(\"Recall : %5f\" %recall_score(y_test,y_pred_))\n",
    "print(\"Accuracy : %5f\" %accuracy_score(y_test,y_pred_))\n",
    "print(classification_report(y_test,y_pred_,digits=4))"
   ]
  },
  {
   "cell_type": "code",
   "execution_count": 358,
   "metadata": {},
   "outputs": [
    {
     "name": "stdout",
     "output_type": "stream",
     "text": [
      "Confusion Matrix : \n",
      "[[5282 3683]\n",
      " [ 628  802]]\n"
     ]
    }
   ],
   "source": [
    "print(\"Confusion Matrix : \")\n",
    "print(confusion_matrix(y_test, y_pred_))"
   ]
  },
  {
   "cell_type": "code",
   "execution_count": 359,
   "metadata": {},
   "outputs": [
    {
     "name": "stdout",
     "output_type": "stream",
     "text": [
      "AUC: 0.575\n"
     ]
    }
   ],
   "source": [
    "auc = roc_auc_score(y_test,y_pred_)\n",
    "print('AUC: %.3f' % auc)"
   ]
  },
  {
   "cell_type": "markdown",
   "metadata": {},
   "source": [
    "#### KNN"
   ]
  },
  {
   "cell_type": "code",
   "execution_count": 172,
   "metadata": {},
   "outputs": [
    {
     "data": {
      "text/plain": [
       "StandardScaler(copy=True, with_mean=True, with_std=True)"
      ]
     },
     "execution_count": 172,
     "metadata": {},
     "output_type": "execute_result"
    }
   ],
   "source": [
    "from sklearn.preprocessing import StandardScaler\n",
    "scaler = StandardScaler()\n",
    "scaler.fit(X_train)"
   ]
  },
  {
   "cell_type": "code",
   "execution_count": 173,
   "metadata": {},
   "outputs": [],
   "source": [
    "X_train=scaler.transform(X_train)\n",
    "X_test=scaler.transform(X_test)"
   ]
  },
  {
   "cell_type": "markdown",
   "metadata": {},
   "source": [
    "#### build KNN Classifier"
   ]
  },
  {
   "cell_type": "code",
   "execution_count": 204,
   "metadata": {},
   "outputs": [
    {
     "data": {
      "text/plain": [
       "KNeighborsClassifier(algorithm='brute', leaf_size=30, metric='minkowski',\n",
       "                     metric_params=None, n_jobs=None, n_neighbors=5, p=2,\n",
       "                     weights='uniform')"
      ]
     },
     "execution_count": 204,
     "metadata": {},
     "output_type": "execute_result"
    }
   ],
   "source": [
    "from sklearn.neighbors import KNeighborsClassifier\n",
    "model= KNeighborsClassifier(algorithm = 'brute',n_neighbors=5)\n",
    "model.fit(X_train,y_train)"
   ]
  },
  {
   "cell_type": "code",
   "execution_count": 207,
   "metadata": {},
   "outputs": [],
   "source": [
    "# Predict on Test with max_depth=2,max_depth=5\n",
    "y1_pred_ = model.predict(X_train)\n",
    "y_pred_ = model.predict(X_test)"
   ]
  },
  {
   "cell_type": "code",
   "execution_count": 208,
   "metadata": {},
   "outputs": [
    {
     "name": "stdout",
     "output_type": "stream",
     "text": [
      "Recall : 0.993835\n",
      "Accuracy : 0.878811\n",
      "              precision    recall  f1-score   support\n",
      "\n",
      "           0     0.9920    0.7638    0.8631     20926\n",
      "           1     0.8080    0.9938    0.8913     20926\n",
      "\n",
      "    accuracy                         0.8788     41852\n",
      "   macro avg     0.9000    0.8788    0.8772     41852\n",
      "weighted avg     0.9000    0.8788    0.8772     41852\n",
      "\n",
      "\n",
      "\n",
      "Recall : 0.375524\n",
      "Accuracy : 0.627706\n",
      "              precision    recall  f1-score   support\n",
      "\n",
      "           0     0.8702    0.6679    0.7558      8965\n",
      "           1     0.1528    0.3755    0.2172      1430\n",
      "\n",
      "    accuracy                         0.6277     10395\n",
      "   macro avg     0.5115    0.5217    0.4865     10395\n",
      "weighted avg     0.7715    0.6277    0.6817     10395\n",
      "\n"
     ]
    }
   ],
   "source": [
    "print(\"Recall : %5f\" %recall_score(y_train,y1_pred_))\n",
    "print(\"Accuracy : %5f\" %accuracy_score(y_train,y1_pred_))\n",
    "print(classification_report(y_train,y1_pred_,digits=4))\n",
    "print(\"\\n\")\n",
    "\n",
    "print(\"Recall : %5f\" %recall_score(y_test,y_pred_))\n",
    "print(\"Accuracy : %5f\" %accuracy_score(y_test,y_pred_))\n",
    "print(classification_report(y_test,y_pred_,digits=4))"
   ]
  },
  {
   "cell_type": "markdown",
   "metadata": {},
   "source": [
    "#### Grid serach validation"
   ]
  },
  {
   "cell_type": "code",
   "execution_count": 177,
   "metadata": {},
   "outputs": [
    {
     "name": "stdout",
     "output_type": "stream",
     "text": [
      "Fitting 3 folds for each of 12 candidates, totalling 36 fits\n"
     ]
    },
    {
     "name": "stderr",
     "output_type": "stream",
     "text": [
      "[Parallel(n_jobs=4)]: Using backend LokyBackend with 4 concurrent workers.\n",
      "[Parallel(n_jobs=4)]: Done  36 out of  36 | elapsed: 22.5min finished\n"
     ]
    },
    {
     "data": {
      "text/plain": [
       "GridSearchCV(cv='warn', error_score='raise-deprecating',\n",
       "             estimator=KNeighborsClassifier(algorithm='auto', leaf_size=30,\n",
       "                                            metric='minkowski',\n",
       "                                            metric_params=None, n_jobs=None,\n",
       "                                            n_neighbors=5, p=2,\n",
       "                                            weights='uniform'),\n",
       "             iid='warn', n_jobs=4,\n",
       "             param_grid={'n_neighbors': [3, 4, 5, 6, 7, 8, 9, 10, 11, 12, 13,\n",
       "                                         14]},\n",
       "             pre_dispatch='2*n_jobs', refit=True, return_train_score=False,\n",
       "             scoring=None, verbose=2)"
      ]
     },
     "execution_count": 177,
     "metadata": {},
     "output_type": "execute_result"
    }
   ],
   "source": [
    "#from sklearn.model_selection import GridSearchCV\n",
    "from sklearn.model_selection import GridSearchCV, cross_val_score\n",
    "parameters = {'n_neighbors':list(range(3,15))}\n",
    "clf = GridSearchCV(KNeighborsClassifier(), parameters, n_jobs=4,verbose=2)\n",
    "clf.fit(X=X_train, y=y_train)"
   ]
  },
  {
   "cell_type": "code",
   "execution_count": 178,
   "metadata": {},
   "outputs": [
    {
     "name": "stdout",
     "output_type": "stream",
     "text": [
      "0.8315731625728758 {'n_neighbors': 3}\n"
     ]
    }
   ],
   "source": [
    "knn_model = clf.best_estimator_\n",
    "print (clf.best_score_, clf.best_params_) "
   ]
  },
  {
   "cell_type": "code",
   "execution_count": 179,
   "metadata": {},
   "outputs": [
    {
     "name": "stdout",
     "output_type": "stream",
     "text": [
      "0.702934102934103\n"
     ]
    }
   ],
   "source": [
    "y_pred_test=knn_model.predict(X_test)\n",
    "print(accuracy_score(y_test,y_pred_test))"
   ]
  },
  {
   "cell_type": "markdown",
   "metadata": {},
   "source": [
    "#### K-fold cross validation"
   ]
  },
  {
   "cell_type": "code",
   "execution_count": null,
   "metadata": {},
   "outputs": [],
   "source": [
    "#train model with cv of 5 \n",
    "cv_scores = cross_val_score(model,X_train,y_train, cv=5)\n",
    "#print each cv score (accuracy) and average them\n",
    "print(cv_scores)"
   ]
  },
  {
   "cell_type": "markdown",
   "metadata": {},
   "source": [
    "#### Building Decision Tree"
   ]
  },
  {
   "cell_type": "code",
   "execution_count": 346,
   "metadata": {},
   "outputs": [
    {
     "name": "stdout",
     "output_type": "stream",
     "text": [
      "Recall : 0.601835\n",
      "Accuracy : 0.598681\n",
      "              precision    recall  f1-score   support\n",
      "\n",
      "           0     0.5993    0.5955    0.5974     20926\n",
      "           1     0.5981    0.6018    0.5999     20926\n",
      "\n",
      "    accuracy                         0.5987     41852\n",
      "   macro avg     0.5987    0.5987    0.5987     41852\n",
      "weighted avg     0.5987    0.5987    0.5987     41852\n",
      "\n",
      "\n",
      "\n",
      "Recall : 0.553147\n",
      "Accuracy : 0.585474\n",
      "              precision    recall  f1-score   support\n",
      "\n",
      "           0     0.8923    0.5906    0.7108      8965\n",
      "           1     0.1773    0.5531    0.2685      1430\n",
      "\n",
      "    accuracy                         0.5855     10395\n",
      "   macro avg     0.5348    0.5719    0.4897     10395\n",
      "weighted avg     0.7940    0.5855    0.6499     10395\n",
      "\n"
     ]
    }
   ],
   "source": [
    "estimator = DecisionTreeClassifier(max_depth=4,random_state=123)\n",
    "estimator.fit(X_train, y_train)\n",
    "\n",
    "y1_pred_ = estimator.predict(X_train)\n",
    "y_pred_ = estimator.predict(X_test)\n",
    "\n",
    "print(\"Recall : %5f\" %recall_score(y_train,y1_pred_))\n",
    "print(\"Accuracy : %5f\" %accuracy_score(y_train,y1_pred_))\n",
    "print(classification_report(y_train,y1_pred_,digits=4))\n",
    "print(\"\\n\")\n",
    "\n",
    "print(\"Recall : %5f\" %recall_score(y_test,y_pred_))\n",
    "print(\"Accuracy : %5f\" %accuracy_score(y_test,y_pred_))\n",
    "print(classification_report(y_test,y_pred_,digits=4))"
   ]
  },
  {
   "cell_type": "code",
   "execution_count": 347,
   "metadata": {},
   "outputs": [
    {
     "name": "stdout",
     "output_type": "stream",
     "text": [
      "Confusion Matrix : \n",
      "[[5295 3670]\n",
      " [ 639  791]]\n"
     ]
    }
   ],
   "source": [
    "print(\"Confusion Matrix : \")\n",
    "print(confusion_matrix(y_test, y_pred_))"
   ]
  },
  {
   "cell_type": "code",
   "execution_count": 348,
   "metadata": {},
   "outputs": [
    {
     "name": "stdout",
     "output_type": "stream",
     "text": [
      "AUC: 0.572\n"
     ]
    }
   ],
   "source": [
    "auc = roc_auc_score(y_test,y_pred_)\n",
    "print('AUC: %.3f' % auc)"
   ]
  },
  {
   "cell_type": "code",
   "execution_count": 349,
   "metadata": {},
   "outputs": [
    {
     "name": "stdout",
     "output_type": "stream",
     "text": [
      "Recall : 0.618274\n",
      "Accuracy : 0.605706\n",
      "              precision    recall  f1-score   support\n",
      "\n",
      "           0     0.6084    0.5931    0.6007     20926\n",
      "           1     0.6031    0.6183    0.6106     20926\n",
      "\n",
      "    accuracy                         0.6057     41852\n",
      "   macro avg     0.6058    0.6057    0.6056     41852\n",
      "weighted avg     0.6058    0.6057    0.6056     41852\n",
      "\n",
      "\n",
      "\n",
      "Recall : 0.566434\n",
      "Accuracy : 0.585666\n",
      "              precision    recall  f1-score   support\n",
      "\n",
      "           0     0.8949    0.5887    0.7102      8965\n",
      "           1     0.1801    0.5664    0.2733      1430\n",
      "\n",
      "    accuracy                         0.5857     10395\n",
      "   macro avg     0.5375    0.5776    0.4918     10395\n",
      "weighted avg     0.7966    0.5857    0.6501     10395\n",
      "\n"
     ]
    }
   ],
   "source": [
    "estimator = DecisionTreeClassifier(max_depth=5)\n",
    "estimator.fit(X_train, y_train)\n",
    "\n",
    "y1_pred_ = estimator.predict(X_train)\n",
    "y_pred_ = estimator.predict(X_test)\n",
    "\n",
    "print(\"Recall : %5f\" %recall_score(y_train,y1_pred_))\n",
    "print(\"Accuracy : %5f\" %accuracy_score(y_train,y1_pred_))\n",
    "print(classification_report(y_train,y1_pred_,digits=4))\n",
    "print(\"\\n\")\n",
    "\n",
    "print(\"Recall : %5f\" %recall_score(y_test,y_pred_))\n",
    "print(\"Accuracy : %5f\" %accuracy_score(y_test,y_pred_))\n",
    "print(classification_report(y_test,y_pred_,digits=4))"
   ]
  },
  {
   "cell_type": "code",
   "execution_count": 350,
   "metadata": {},
   "outputs": [
    {
     "name": "stdout",
     "output_type": "stream",
     "text": [
      "Confusion Matrix : \n",
      "[[5278 3687]\n",
      " [ 620  810]]\n"
     ]
    }
   ],
   "source": [
    "print(\"Confusion Matrix : \")\n",
    "print(confusion_matrix(y_test, y_pred_))"
   ]
  },
  {
   "cell_type": "code",
   "execution_count": 351,
   "metadata": {},
   "outputs": [
    {
     "name": "stdout",
     "output_type": "stream",
     "text": [
      "AUC: 0.578\n"
     ]
    }
   ],
   "source": [
    "auc = roc_auc_score(y_test,y_pred_)\n",
    "print('AUC: %.3f' % auc)"
   ]
  },
  {
   "cell_type": "markdown",
   "metadata": {},
   "source": [
    "#### Learning Curve Rate"
   ]
  },
  {
   "cell_type": "code",
   "execution_count": 372,
   "metadata": {},
   "outputs": [
    {
     "name": "stdout",
     "output_type": "stream",
     "text": [
      "Automatically created module for IPython interactive environment\n"
     ]
    },
    {
     "data": {
      "image/png": "[encoded data removed]",
      "text/plain": [
       "<Figure size 432x288 with 1 Axes>"
      ]
     },
     "metadata": {
      "needs_background": "light"
     },
     "output_type": "display_data"
    },
    {
     "data": {
      "image/png": "[encoded data removed]",
      "text/plain": [
       "<Figure size 432x288 with 1 Axes>"
      ]
     },
     "metadata": {
      "needs_background": "light"
     },
     "output_type": "display_data"
    }
   ],
   "source": [
    "print(__doc__)\n",
    "\n",
    "import numpy as np\n",
    "import matplotlib.pyplot as plt\n",
    "from sklearn.naive_bayes import GaussianNB\n",
    "from sklearn.svm import SVC\n",
    "from sklearn.datasets import load_digits\n",
    "from sklearn.model_selection import learning_curve\n",
    "from sklearn.model_selection import ShuffleSplit\n",
    "from sklearn.tree import DecisionTreeRegressor\n",
    "\n",
    "\n",
    "def plot_learning_curve(estimator, title, X, y, ylim=None, cv=None,\n",
    "                        n_jobs=None, train_sizes=np.linspace(.1, 1.0, 5)):\n",
    "    plt.figure()\n",
    "    plt.title(title)\n",
    "    if ylim is not None:\n",
    "        plt.ylim(*ylim)\n",
    "    plt.xlabel(\"Training\")\n",
    "    plt.ylabel(\"Score\")\n",
    "    train_sizes, train_scores, test_scores = learning_curve(\n",
    "        estimator, X, y, cv=cv, n_jobs=n_jobs, train_sizes=train_sizes)\n",
    "    train_scores_mean = np.mean(train_scores, axis=1)\n",
    "    train_scores_std = np.std(train_scores, axis=1)\n",
    "    test_scores_mean = np.mean(test_scores, axis=1)\n",
    "    test_scores_std = np.std(test_scores, axis=1)\n",
    "    plt.grid()\n",
    "\n",
    "    plt.fill_between(train_sizes, train_scores_mean - train_scores_std,\n",
    "                     train_scores_mean + train_scores_std, alpha=0.1,\n",
    "                     color=\"r\")\n",
    "    plt.fill_between(train_sizes, test_scores_mean - test_scores_std,\n",
    "                     test_scores_mean + test_scores_std, alpha=0.1, color=\"g\")\n",
    "    plt.plot(train_sizes, train_scores_mean, 'o-', color=\"r\",\n",
    "             label=\"Training score\")\n",
    "    plt.plot(train_sizes, test_scores_mean, 'o-', color=\"g\",\n",
    "             label=\"Cross-validation score\")\n",
    "\n",
    "    plt.legend(loc=\"best\")\n",
    "    return plt\n",
    "\n",
    "\n",
    "digits = load_digits()\n",
    "X, y = digits.data, digits.target\n",
    "\n",
    "\n",
    "title = \"Learning Curves (SVM)\"\n",
    "# SVC is more expensive so we do a lower number of CV iterations:\n",
    "cv = ShuffleSplit(n_splits=10, test_size=0.2, random_state=0)\n",
    "estimator = SVC(gamma=0.001)\n",
    "plot_learning_curve(estimator, title, X, y, (0, 1.01), cv=cv, n_jobs=4)\n",
    "\n",
    "title = \"Learning Curves(DecisionTree)\"\n",
    "# SVC is more expensive so we do a lower number of CV iterations:\n",
    "cv = ShuffleSplit(n_splits=10, test_size=0.2, random_state=0)\n",
    "eestimator = DecisionTreeClassifier(max_depth=4,random_state=123)\n",
    "plot_learning_curve(estimator, title, X, y, (.7, 1.01), cv=cv, n_jobs=4)\n",
    "\n",
    "plt.show()"
   ]
  },
  {
   "cell_type": "markdown",
   "metadata": {},
   "source": [
    "#### with standardization"
   ]
  },
  {
   "cell_type": "code",
   "execution_count": null,
   "metadata": {},
   "outputs": [],
   "source": [
    "!pip install sklearn_pandas\n",
    "from sklearn_pandas import DataFrameMapper\n",
    "from sklearn.preprocessing import StandardScaler\n",
    "from sklearn.preprocessing import OneHotEncoder"
   ]
  },
  {
   "cell_type": "code",
   "execution_count": null,
   "metadata": {},
   "outputs": [],
   "source": [
    "X_train.dtypes"
   ]
  },
  {
   "cell_type": "code",
   "execution_count": null,
   "metadata": {},
   "outputs": [],
   "source": [
    "df= df.drop([\"id\"],axis=1)"
   ]
  },
  {
   "cell_type": "code",
   "execution_count": null,
   "metadata": {},
   "outputs": [],
   "source": [
    "df.columns"
   ]
  },
  {
   "cell_type": "code",
   "execution_count": null,
   "metadata": {},
   "outputs": [],
   "source": [
    "mapper=[]\n",
    "\n",
    "mapper = DataFrameMapper(\n",
    "  [([continuous_col], StandardScaler()) for continuous_col in continuous_cols])"
   ]
  },
  {
   "cell_type": "code",
   "execution_count": null,
   "metadata": {},
   "outputs": [],
   "source": [
    "print(type(mapper))"
   ]
  },
  {
   "cell_type": "code",
   "execution_count": null,
   "metadata": {},
   "outputs": [],
   "source": [
    "mapper.fit(X_train)\n",
    "\n",
    "X_train_std = mapper.transform(X_train)\n",
    "X_test_std = mapper.transform(X_test)"
   ]
  },
  {
   "cell_type": "code",
   "execution_count": null,
   "metadata": {},
   "outputs": [],
   "source": [
    "X_train_std[0:1,]"
   ]
  },
  {
   "cell_type": "code",
   "execution_count": null,
   "metadata": {},
   "outputs": [],
   "source": [
    "X_test_std"
   ]
  },
  {
   "cell_type": "code",
   "execution_count": null,
   "metadata": {},
   "outputs": [],
   "source": [
    "estimator1 = DecisionTreeClassifier(max_depth=4,random_state=123)\n",
    "estimator1.fit(X_train_std, y_train)\n",
    "\n",
    "y1_pred_ = estimator1.predict(X_train_std)\n",
    "y_pred_ = estimator1.predict(X_test_std)\n",
    "\n",
    "print(accuracy_score(y_train,y1_pred_))\n",
    "print(classification_report(y_train,y1_pred_,digits=4))\n",
    "print(\"\\n\")\n",
    "\n",
    "print(accuracy_score(y_test,y_pred_))\n",
    "print(classification_report(y_test,y_pred_,digits=4))"
   ]
  },
  {
   "cell_type": "markdown",
   "metadata": {},
   "source": [
    "#### build Random forest Classifier\n"
   ]
  },
  {
   "cell_type": "code",
   "execution_count": 266,
   "metadata": {},
   "outputs": [],
   "source": [
    "from sklearn.ensemble import RandomForestClassifier"
   ]
  },
  {
   "cell_type": "code",
   "execution_count": 267,
   "metadata": {},
   "outputs": [
    {
     "data": {
      "text/plain": [
       "RandomForestClassifier(bootstrap=True, class_weight=None, criterion='gini',\n",
       "                       max_depth=8, max_features='auto', max_leaf_nodes=None,\n",
       "                       min_impurity_decrease=0.0, min_impurity_split=None,\n",
       "                       min_samples_leaf=1, min_samples_split=2,\n",
       "                       min_weight_fraction_leaf=0.0, n_estimators=10,\n",
       "                       n_jobs=None, oob_score=False, random_state=None,\n",
       "                       verbose=0, warm_start=False)"
      ]
     },
     "execution_count": 267,
     "metadata": {},
     "output_type": "execute_result"
    }
   ],
   "source": [
    "clf = RandomForestClassifier(n_estimators=10,max_depth =8)\n",
    "clf.fit(X=X_train, y=y_train)"
   ]
  },
  {
   "cell_type": "code",
   "execution_count": 268,
   "metadata": {},
   "outputs": [
    {
     "name": "stdout",
     "output_type": "stream",
     "text": [
      "0.6253968253968254\n",
      "0.6645321609481029\n"
     ]
    }
   ],
   "source": [
    "y_pred = clf.predict(X_test)\n",
    "print(accuracy_score(y_test,y_pred))\n",
    "\n",
    "y_pred = clf.predict(X_train)\n",
    "print(accuracy_score(y_train,y_pred))\n",
    "\n"
   ]
  },
  {
   "cell_type": "code",
   "execution_count": 269,
   "metadata": {},
   "outputs": [
    {
     "name": "stdout",
     "output_type": "stream",
     "text": [
      "0.6645321609481029\n",
      "              precision    recall  f1-score   support\n",
      "\n",
      "           0     0.9009    0.6155    0.7313      8965\n",
      "           1     0.1927    0.5755    0.2888      1430\n",
      "\n",
      "    accuracy                         0.6100     10395\n",
      "   macro avg     0.5468    0.5955    0.5101     10395\n",
      "weighted avg     0.8035    0.6100    0.6705     10395\n",
      "\n"
     ]
    }
   ],
   "source": [
    "y_pred = clf.predict(X_train)\n",
    "print(accuracy_score(y_train,y_pred))\n",
    "print(classification_report(y_test,y_pred_,digits=4))"
   ]
  },
  {
   "cell_type": "code",
   "execution_count": 270,
   "metadata": {},
   "outputs": [
    {
     "data": {
      "text/plain": [
       "171"
      ]
     },
     "execution_count": 270,
     "metadata": {},
     "output_type": "execute_result"
    }
   ],
   "source": [
    "len(clf.feature_importances_)"
   ]
  },
  {
   "cell_type": "code",
   "execution_count": 271,
   "metadata": {},
   "outputs": [
    {
     "data": {
      "text/plain": [
       "array([5.97839993e-02, 1.32105176e-02, 7.09695127e-02, 5.83508326e-02,\n",
       "       1.11235084e-01, 1.77136898e-02, 6.13030138e-03, 2.70025009e-03,\n",
       "       8.55049078e-03, 4.26330027e-03, 0.00000000e+00, 4.74233951e-03,\n",
       "       9.77162381e-03, 5.24959590e-04, 2.58645425e-03, 2.35238293e-03,\n",
       "       5.29967941e-03, 2.89414977e-02, 2.62590285e-03, 1.77323643e-02,\n",
       "       2.80429529e-03, 7.34408204e-03, 1.42502862e-03, 2.98086077e-03,\n",
       "       3.31587309e-03, 3.99260939e-03, 3.27644253e-03, 4.65358517e-03,\n",
       "       3.47776171e-03, 0.00000000e+00, 5.33490427e-03, 2.58850552e-03,\n",
       "       2.57062678e-05, 0.00000000e+00, 4.05225811e-03, 9.89306313e-04,\n",
       "       5.84670878e-04, 0.00000000e+00, 0.00000000e+00, 0.00000000e+00,\n",
       "       0.00000000e+00, 0.00000000e+00, 0.00000000e+00, 0.00000000e+00,\n",
       "       2.20396843e-03, 2.38627363e-03, 8.29647148e-04, 5.93176646e-04,\n",
       "       2.70573878e-03, 5.85222215e-03, 2.51083659e-03, 1.19108123e-03,\n",
       "       2.79701963e-03, 2.50850111e-03, 1.29894300e-03, 0.00000000e+00,\n",
       "       0.00000000e+00, 0.00000000e+00, 2.87488262e-03, 2.92338146e-03,\n",
       "       6.48342318e-04, 1.49697101e-04, 2.67841163e-03, 1.99497465e-03,\n",
       "       0.00000000e+00, 7.35552249e-04, 5.62613815e-04, 0.00000000e+00,\n",
       "       0.00000000e+00, 7.47214941e-05, 0.00000000e+00, 0.00000000e+00,\n",
       "       0.00000000e+00, 4.46178142e-03, 7.62327824e-03, 5.24084469e-03,\n",
       "       3.84371669e-03, 0.00000000e+00, 6.44261705e-04, 5.72760655e-04,\n",
       "       0.00000000e+00, 0.00000000e+00, 0.00000000e+00, 0.00000000e+00,\n",
       "       0.00000000e+00, 0.00000000e+00, 3.38554422e-03, 3.19770716e-03,\n",
       "       2.22996395e-02, 1.76577354e-02, 4.12449463e-03, 3.30886167e-03,\n",
       "       6.77596422e-04, 0.00000000e+00, 1.05153809e-03, 1.58102049e-02,\n",
       "       2.93353855e-04, 1.49080812e-02, 0.00000000e+00, 5.09859961e-03,\n",
       "       1.17358894e-03, 0.00000000e+00, 4.35980951e-03, 6.41479551e-03,\n",
       "       0.00000000e+00, 2.96027761e-03, 3.14388102e-02, 1.18747482e-01,\n",
       "       2.71043132e-03, 0.00000000e+00, 0.00000000e+00, 4.90588877e-03,\n",
       "       1.70701825e-03, 2.40402065e-03, 5.89969827e-04, 4.71288754e-03,\n",
       "       2.41488047e-03, 4.74349461e-03, 2.55245443e-04, 2.24836963e-03,\n",
       "       2.21910941e-03, 6.58831903e-03, 4.67968372e-05, 3.25670775e-03,\n",
       "       3.54692936e-03, 3.75406072e-03, 1.18321969e-02, 3.85517772e-03,\n",
       "       3.68426146e-03, 5.26196755e-03, 4.47624632e-03, 7.40717519e-04,\n",
       "       1.06689746e-02, 1.29211368e-02, 5.16554925e-03, 4.94234362e-03,\n",
       "       8.13492168e-04, 4.78710274e-03, 2.98076199e-03, 1.19142519e-03,\n",
       "       5.49757596e-03, 6.53506390e-03, 6.99395244e-03, 8.35455233e-04,\n",
       "       2.82102869e-04, 6.18965885e-04, 4.54390098e-03, 7.01947528e-03,\n",
       "       8.80560273e-04, 1.49138326e-03, 2.57649542e-03, 3.44596888e-03,\n",
       "       3.55947207e-04, 1.35297527e-03, 1.37476506e-03, 6.66360788e-03,\n",
       "       8.04759547e-04, 2.35084535e-03, 7.31627740e-03, 5.38340034e-03,\n",
       "       6.11789776e-04, 4.13530852e-04, 1.04986048e-03, 2.04961685e-03,\n",
       "       9.70436235e-04, 3.77667769e-03, 3.03869134e-03, 2.21135389e-03,\n",
       "       1.07996138e-03, 5.39869275e-03, 2.50460490e-03])"
      ]
     },
     "execution_count": 271,
     "metadata": {},
     "output_type": "execute_result"
    }
   ],
   "source": [
    "clf.feature_importances_"
   ]
  },
  {
   "cell_type": "markdown",
   "metadata": {},
   "source": [
    "#### Grid search Validation"
   ]
  },
  {
   "cell_type": "code",
   "execution_count": 272,
   "metadata": {},
   "outputs": [],
   "source": [
    "from sklearn.model_selection import GridSearchCV\n",
    "from sklearn.metrics import classification_report\n",
    "rfc = RandomForestClassifier(n_jobs=-1, max_features='sqrt') \n",
    " \n",
    "# Use a grid over parameters of interest\n",
    "param_grid = { \n",
    "           \"n_estimators\" : [54],\n",
    "           \"max_depth\" : [7],\n",
    "           \"min_samples_leaf\" : [4]}\n",
    "scores = ['precision', 'recall']"
   ]
  },
  {
   "cell_type": "code",
   "execution_count": 273,
   "metadata": {},
   "outputs": [
    {
     "name": "stdout",
     "output_type": "stream",
     "text": [
      "# Tuning hyper-parameters for precision\n",
      "\n",
      "Best parameters set found on development set:\n",
      "\n",
      "{'max_depth': 7, 'min_samples_leaf': 4, 'n_estimators': 54}\n",
      "\n",
      "Grid scores on development set:\n",
      "\n",
      "0.636 (+/-0.016) for {'max_depth': 7, 'min_samples_leaf': 4, 'n_estimators': 54}\n",
      "\n",
      "Detailed classification report:\n",
      "\n",
      "The model is trained on the full development set.\n",
      "The scores are computed on the full evaluation set.\n",
      "\n",
      "              precision    recall  f1-score   support\n",
      "\n",
      "           0       0.90      0.63      0.74      8965\n",
      "           1       0.19      0.55      0.28      1430\n",
      "\n",
      "    accuracy                           0.62     10395\n",
      "   macro avg       0.54      0.59      0.51     10395\n",
      "weighted avg       0.80      0.62      0.68     10395\n",
      "\n",
      "\n",
      "# Tuning hyper-parameters for recall\n",
      "\n",
      "Best parameters set found on development set:\n",
      "\n",
      "{'max_depth': 7, 'min_samples_leaf': 4, 'n_estimators': 54}\n",
      "\n",
      "Grid scores on development set:\n",
      "\n",
      "0.636 (+/-0.010) for {'max_depth': 7, 'min_samples_leaf': 4, 'n_estimators': 54}\n",
      "\n",
      "Detailed classification report:\n",
      "\n",
      "The model is trained on the full development set.\n",
      "The scores are computed on the full evaluation set.\n",
      "\n",
      "              precision    recall  f1-score   support\n",
      "\n",
      "           0       0.90      0.63      0.74      8965\n",
      "           1       0.20      0.56      0.29      1430\n",
      "\n",
      "    accuracy                           0.62     10395\n",
      "   macro avg       0.55      0.60      0.52     10395\n",
      "weighted avg       0.80      0.62      0.68     10395\n",
      "\n",
      "\n"
     ]
    }
   ],
   "source": [
    "for score in scores:\n",
    "    print(\"# Tuning hyper-parameters for %s\" % score)\n",
    "    print()\n",
    "\n",
    "    clf = GridSearchCV(estimator=rfc, param_grid=param_grid,cv=5,\n",
    "                       scoring='%s_macro' % score)\n",
    "    clf.fit(X_train, y_train)\n",
    "\n",
    "    print(\"Best parameters set found on development set:\")\n",
    "    print()\n",
    "    print(clf.best_params_)\n",
    "    print()\n",
    "    print(\"Grid scores on development set:\")\n",
    "    print()\n",
    "    means = clf.cv_results_['mean_test_score']\n",
    "    stds = clf.cv_results_['std_test_score']\n",
    "    for mean, std, params in zip(means, stds, clf.cv_results_['params']):\n",
    "        print(\"%0.3f (+/-%0.03f) for %r\"\n",
    "              % (mean, std * 2, params))\n",
    "    print()\n",
    "\n",
    "    print(\"Detailed classification report:\")\n",
    "    print()\n",
    "    print(\"The model is trained on the full development set.\")\n",
    "    print(\"The scores are computed on the full evaluation set.\")\n",
    "    print()\n",
    "    y_true, y_pred = y_test, clf.predict(X_test)\n",
    "    print(classification_report(y_true, y_pred))\n",
    "    print()"
   ]
  },
  {
   "cell_type": "code",
   "execution_count": 274,
   "metadata": {},
   "outputs": [
    {
     "name": "stdout",
     "output_type": "stream",
     "text": [
      "0.6241462241462241\n",
      "0.6506499092038612\n",
      "0.6574118321705056\n"
     ]
    }
   ],
   "source": [
    "y_pred = clf.predict(X_test)\n",
    "print(accuracy_score(y_test,y_pred))\n",
    "\n",
    "y_pred = clf.predict(X_train)\n",
    "print(accuracy_score(y_train,y_pred))\n",
    "\n",
    "print(recall_score(y_train,y_pred,pos_label=1))"
   ]
  },
  {
   "cell_type": "code",
   "execution_count": 275,
   "metadata": {},
   "outputs": [
    {
     "data": {
      "text/plain": [
       "{'n_estimators': [54], 'max_depth': [7], 'min_samples_leaf': [4]}"
      ]
     },
     "execution_count": 275,
     "metadata": {},
     "output_type": "execute_result"
    }
   ],
   "source": [
    "param_grid"
   ]
  },
  {
   "cell_type": "code",
   "execution_count": 276,
   "metadata": {},
   "outputs": [
    {
     "name": "stdout",
     "output_type": "stream",
     "text": [
      "Fitting 5 folds for each of 1 candidates, totalling 5 fits\n"
     ]
    },
    {
     "name": "stderr",
     "output_type": "stream",
     "text": [
      "[Parallel(n_jobs=1)]: Using backend SequentialBackend with 1 concurrent workers.\n",
      "[Parallel(n_jobs=1)]: Done   5 out of   5 | elapsed:   11.3s finished\n"
     ]
    },
    {
     "name": "stdout",
     "output_type": "stream",
     "text": [
      "0.6368871260632706 {'max_depth': 7, 'min_samples_leaf': 4, 'n_estimators': 54}\n"
     ]
    }
   ],
   "source": [
    "CV_rfc = GridSearchCV(estimator=rfc, param_grid=param_grid,cv=5,verbose=1)\n",
    "CV_rfc.fit(X=X_train, y=y_train)\n",
    "\n",
    "print (CV_rfc.best_score_, CV_rfc.best_params_) "
   ]
  },
  {
   "cell_type": "code",
   "execution_count": 277,
   "metadata": {},
   "outputs": [
    {
     "data": {
      "text/plain": [
       "{'mean_fit_time': array([2.150104]),\n",
       " 'std_fit_time': array([0.17943338]),\n",
       " 'mean_score_time': array([0.11660628]),\n",
       " 'std_score_time': array([0.00172168]),\n",
       " 'param_max_depth': masked_array(data=[7],\n",
       "              mask=[False],\n",
       "        fill_value='?',\n",
       "             dtype=object),\n",
       " 'param_min_samples_leaf': masked_array(data=[4],\n",
       "              mask=[False],\n",
       "        fill_value='?',\n",
       "             dtype=object),\n",
       " 'param_n_estimators': masked_array(data=[54],\n",
       "              mask=[False],\n",
       "        fill_value='?',\n",
       "             dtype=object),\n",
       " 'params': [{'max_depth': 7, 'min_samples_leaf': 4, 'n_estimators': 54}],\n",
       " 'split0_test_score': array([0.63449594]),\n",
       " 'split1_test_score': array([0.64444444]),\n",
       " 'split2_test_score': array([0.62879331]),\n",
       " 'split3_test_score': array([0.64157706]),\n",
       " 'split4_test_score': array([0.63512545]),\n",
       " 'mean_test_score': array([0.63688713]),\n",
       " 'std_test_score': array([0.00553956]),\n",
       " 'rank_test_score': array([1])}"
      ]
     },
     "execution_count": 277,
     "metadata": {},
     "output_type": "execute_result"
    }
   ],
   "source": [
    "CV_rfc.cv_results_"
   ]
  },
  {
   "cell_type": "code",
   "execution_count": 278,
   "metadata": {},
   "outputs": [
    {
     "name": "stdout",
     "output_type": "stream",
     "text": [
      "0.6172198172198172\n"
     ]
    }
   ],
   "source": [
    "y_pred_test=CV_rfc.predict(X_test)\n",
    "print(accuracy_score(y_test,y_pred_test))"
   ]
  },
  {
   "cell_type": "code",
   "execution_count": 279,
   "metadata": {},
   "outputs": [
    {
     "name": "stdout",
     "output_type": "stream",
     "text": [
      "0.5608391608391609\n"
     ]
    }
   ],
   "source": [
    "from sklearn.metrics import recall_score\n",
    "print(recall_score(y_test,y_pred_test, pos_label=1, average='binary'))"
   ]
  },
  {
   "cell_type": "markdown",
   "metadata": {},
   "source": [
    "#### AdaBoost"
   ]
  },
  {
   "cell_type": "code",
   "execution_count": 280,
   "metadata": {},
   "outputs": [],
   "source": [
    "# Create adaboost-decision tree classifer object\n",
    "Adaboost_model = AdaBoostClassifier(\n",
    "    DecisionTreeClassifier(max_depth=2),\n",
    "    n_estimators = 600,\n",
    "    learning_rate = 1)"
   ]
  },
  {
   "cell_type": "code",
   "execution_count": 281,
   "metadata": {},
   "outputs": [
    {
     "name": "stdout",
     "output_type": "stream",
     "text": [
      "Wall time: 4min 52s\n"
     ]
    },
    {
     "data": {
      "text/plain": [
       "AdaBoostClassifier(algorithm='SAMME.R',\n",
       "                   base_estimator=DecisionTreeClassifier(class_weight=None,\n",
       "                                                         criterion='gini',\n",
       "                                                         max_depth=2,\n",
       "                                                         max_features=None,\n",
       "                                                         max_leaf_nodes=None,\n",
       "                                                         min_impurity_decrease=0.0,\n",
       "                                                         min_impurity_split=None,\n",
       "                                                         min_samples_leaf=1,\n",
       "                                                         min_samples_split=2,\n",
       "                                                         min_weight_fraction_leaf=0.0,\n",
       "                                                         presort=False,\n",
       "                                                         random_state=None,\n",
       "                                                         splitter='best'),\n",
       "                   learning_rate=1, n_estimators=600, random_state=None)"
      ]
     },
     "execution_count": 281,
     "metadata": {},
     "output_type": "execute_result"
    }
   ],
   "source": [
    "%time Adaboost_model.fit(X_train, y_train)"
   ]
  },
  {
   "cell_type": "code",
   "execution_count": 282,
   "metadata": {},
   "outputs": [],
   "source": [
    "y_preds = Adaboost_model.predict(X_test)"
   ]
  },
  {
   "cell_type": "code",
   "execution_count": 283,
   "metadata": {},
   "outputs": [
    {
     "name": "stdout",
     "output_type": "stream",
     "text": [
      "0.663973063973064\n",
      "0.5608391608391609\n"
     ]
    }
   ],
   "source": [
    "print(accuracy_score(y_test, y_preds))\n",
    "print(recall_score(y_test,y_pred_test, pos_label=1))"
   ]
  },
  {
   "cell_type": "code",
   "execution_count": 284,
   "metadata": {},
   "outputs": [],
   "source": [
    "param_grid = {'n_estimators' : [200],\n",
    "              'learning_rate' : [0.9]}\n",
    "\n",
    "Adaboost_model_clf = GridSearchCV(AdaBoostClassifier(\n",
    "            DecisionTreeClassifier(max_depth=2)), param_grid, n_jobs=-1)"
   ]
  },
  {
   "cell_type": "code",
   "execution_count": 285,
   "metadata": {},
   "outputs": [
    {
     "name": "stdout",
     "output_type": "stream",
     "text": [
      "Wall time: 3min 19s\n"
     ]
    },
    {
     "data": {
      "text/plain": [
       "GridSearchCV(cv='warn', error_score='raise-deprecating',\n",
       "             estimator=AdaBoostClassifier(algorithm='SAMME.R',\n",
       "                                          base_estimator=DecisionTreeClassifier(class_weight=None,\n",
       "                                                                                criterion='gini',\n",
       "                                                                                max_depth=2,\n",
       "                                                                                max_features=None,\n",
       "                                                                                max_leaf_nodes=None,\n",
       "                                                                                min_impurity_decrease=0.0,\n",
       "                                                                                min_impurity_split=None,\n",
       "                                                                                min_samples_leaf=1,\n",
       "                                                                                min_samples_split=2,\n",
       "                                                                                min_weight_fraction_leaf=0.0,\n",
       "                                                                                presort=False,\n",
       "                                                                                random_state=None,\n",
       "                                                                                splitter='best'),\n",
       "                                          learning_rate=1.0, n_estimators=50,\n",
       "                                          random_state=None),\n",
       "             iid='warn', n_jobs=-1,\n",
       "             param_grid={'learning_rate': [0.9], 'n_estimators': [200]},\n",
       "             pre_dispatch='2*n_jobs', refit=True, return_train_score=False,\n",
       "             scoring=None, verbose=0)"
      ]
     },
     "execution_count": 285,
     "metadata": {},
     "output_type": "execute_result"
    }
   ],
   "source": [
    "%time Adaboost_model_clf.fit(X_train, y_train)"
   ]
  },
  {
   "cell_type": "code",
   "execution_count": 286,
   "metadata": {},
   "outputs": [
    {
     "name": "stdout",
     "output_type": "stream",
     "text": [
      "0.667160470228424 {'learning_rate': 0.9, 'n_estimators': 200}\n"
     ]
    }
   ],
   "source": [
    "best_ada_model = Adaboost_model_clf.best_estimator_\n",
    "print (Adaboost_model_clf.best_score_, Adaboost_model_clf.best_params_) "
   ]
  },
  {
   "cell_type": "code",
   "execution_count": 287,
   "metadata": {},
   "outputs": [],
   "source": [
    "y_pred_test = best_ada_model.predict(X_test)"
   ]
  },
  {
   "cell_type": "code",
   "execution_count": 288,
   "metadata": {},
   "outputs": [
    {
     "name": "stdout",
     "output_type": "stream",
     "text": [
      "0.6291486291486291\n",
      "0.5188811188811189\n"
     ]
    }
   ],
   "source": [
    "print(accuracy_score(y_test,y_pred_test))\n",
    "print(recall_score(y_test,y_pred_test, pos_label=1))"
   ]
  },
  {
   "cell_type": "code",
   "execution_count": 289,
   "metadata": {},
   "outputs": [
    {
     "name": "stdout",
     "output_type": "stream",
     "text": [
      "[[5798 3167]\n",
      " [ 688  742]]\n"
     ]
    }
   ],
   "source": [
    "print(confusion_matrix(y_test, y_pred_test))"
   ]
  },
  {
   "cell_type": "markdown",
   "metadata": {},
   "source": [
    "#### building Gradient boosting classifier"
   ]
  },
  {
   "cell_type": "markdown",
   "metadata": {},
   "source": [
    "Gradient boosting is a type of boosting. \n",
    "\n",
    "The key idea behind gradient boosting is to set the target outcomes for this next model in order to minimize the error. The target outcome for each case in the data set depends on how much a change in that case’s prediction impacts the overall prediction error.\n",
    "\n",
    "If, for case X(i), a small change in the prediction causes a large drop in error, then the next target outcome is a high value. Predictions from the new model that are close to its targets will reduce the error.\n",
    "\n",
    "If, for case X(j), a small change in the prediction causes no change in error, then the next target outcome is zero because changing this prediction does not decrease the error.\n",
    "\n",
    "The name gradient boosting arises because of setting target outcomes based on the gradient of the error with respect to the prediction of each case. Each new model takes a step in the direction that minimizes prediction error, in the space of possible predictions for each training case.\n",
    "\n",
    "1. Initialize the outcome\n",
    "2. Iterate from 1 to total number of trees\n",
    "  <br>2.1 Update the weights for targets based on previous run (higher for the ones mis-classified)\n",
    "  <br>2.2 Fit the model on selected subsample of data\n",
    "  <br>2.3 Make predictions on the full set of observations\n",
    "  <br>2.4 Update the output with current results taking into account the learning rate\n",
    "3. Return the final output."
   ]
  },
  {
   "cell_type": "markdown",
   "metadata": {},
   "source": [
    "The most important parameters are learning_rate, n_estimators and subsample\n",
    "- **learning_rate**\n",
    "    -  This determines the impact of each tree on the final outcome (step 2.4). GBM works by starting with an initial estimate which is updated using the output of each tree. The learning parameter controls the magnitude of this change in the estimates.\n",
    "    -  Lower values are generally preferred as they make the model robust to the specific characteristics of tree and thus allowing it to generalize well.\n",
    "    -  Lower values would require higher number of trees to model all the relations and will be computationally expensive.\n",
    "- **n_estimators**\n",
    "    -  The number of sequential trees to be modeled (step 2)\n",
    "    -  Though GBM is fairly robust at higher number of trees but it can still overfit at a point. Hence, this should be tuned using CV for a particular learning rate.\n",
    "- **subsample**\n",
    "    -  The fraction of observations to be selected for each tree. Selection is done by random sampling.\n",
    "    -  Values slightly less than 1 make the model robust by reducing the variance.\n",
    "    -  Typical values ~0.8 generally work fine but can be fine-tuned further."
   ]
  },
  {
   "cell_type": "code",
   "execution_count": 290,
   "metadata": {},
   "outputs": [],
   "source": [
    "GBM_model = GradientBoostingClassifier(n_estimators=50,\n",
    "                                       learning_rate=0.3,\n",
    "                                       subsample=0.8)"
   ]
  },
  {
   "cell_type": "code",
   "execution_count": 291,
   "metadata": {},
   "outputs": [
    {
     "name": "stdout",
     "output_type": "stream",
     "text": [
      "Wall time: 26.6 s\n"
     ]
    },
    {
     "data": {
      "text/plain": [
       "GradientBoostingClassifier(criterion='friedman_mse', init=None,\n",
       "                           learning_rate=0.3, loss='deviance', max_depth=3,\n",
       "                           max_features=None, max_leaf_nodes=None,\n",
       "                           min_impurity_decrease=0.0, min_impurity_split=None,\n",
       "                           min_samples_leaf=1, min_samples_split=2,\n",
       "                           min_weight_fraction_leaf=0.0, n_estimators=50,\n",
       "                           n_iter_no_change=None, presort='auto',\n",
       "                           random_state=None, subsample=0.8, tol=0.0001,\n",
       "                           validation_fraction=0.1, verbose=0,\n",
       "                           warm_start=False)"
      ]
     },
     "execution_count": 291,
     "metadata": {},
     "output_type": "execute_result"
    }
   ],
   "source": [
    "%time GBM_model.fit(X=X_train, y=y_train)"
   ]
  },
  {
   "cell_type": "code",
   "execution_count": 292,
   "metadata": {},
   "outputs": [],
   "source": [
    "y_pred = GBM_model.predict(X_test)"
   ]
  },
  {
   "cell_type": "code",
   "execution_count": 293,
   "metadata": {},
   "outputs": [
    {
     "name": "stdout",
     "output_type": "stream",
     "text": [
      "0.6111592111592111\n",
      "0.5188811188811189\n",
      "              precision    recall  f1-score   support\n",
      "\n",
      "           0     0.9017    0.6163    0.7322      8965\n",
      "           1     0.1940    0.5790    0.2906      1430\n",
      "\n",
      "    accuracy                         0.6112     10395\n",
      "   macro avg     0.5479    0.5977    0.5114     10395\n",
      "weighted avg     0.8044    0.6112    0.6714     10395\n",
      "\n",
      "[[5798 3167]\n",
      " [ 688  742]]\n"
     ]
    }
   ],
   "source": [
    "print(accuracy_score(y_test,y_pred))\n",
    "print(recall_score(y_test,y_pred_test, pos_label=1))\n",
    "print(classification_report(y_test,y_pred,digits=4))\n",
    "\n",
    "print(confusion_matrix(y_test, y_pred_test))"
   ]
  },
  {
   "cell_type": "code",
   "execution_count": 103,
   "metadata": {},
   "outputs": [],
   "source": [
    "#X_id=testtoput['patientID']"
   ]
  },
  {
   "cell_type": "code",
   "execution_count": 158,
   "metadata": {},
   "outputs": [],
   "source": [
    "#y_pred_test=clf.predict(testtoput)\n",
    "#y_pred_test=best_ada_model.predict(testtoput)\n",
    "#y_pred_test=Adaboost_model.predict(testtoput)\n",
    "#y_pred_test=clf.predict(testtoput)\n",
    "#y_pred_test=CV_rfc.predict(testtoput)\n",
    "#y_pred_test=BernoulliNB_model.predict(testtoput)\n",
    "y_pred_test=log_reg.predict(testtoput)"
   ]
  },
  {
   "cell_type": "code",
   "execution_count": null,
   "metadata": {},
   "outputs": [],
   "source": [
    "#y_pred_test = estimator.predict(X_test)\n",
    "#print(accuracy_score(y_test,y_pred_test))\n",
    "#print(confusion_matrix(y_test, y_pred_test))"
   ]
  },
  {
   "cell_type": "code",
   "execution_count": 159,
   "metadata": {},
   "outputs": [],
   "source": [
    "final_log_regg=pd.DataFrame(X_id)"
   ]
  },
  {
   "cell_type": "code",
   "execution_count": 160,
   "metadata": {},
   "outputs": [],
   "source": [
    "final_log_regg['readmitted']=y_pred_test"
   ]
  },
  {
   "cell_type": "code",
   "execution_count": 161,
   "metadata": {},
   "outputs": [
    {
     "data": {
      "text/html": [
       "<div>\n",
       "<style scoped>\n",
       "    .dataframe tbody tr th:only-of-type {\n",
       "        vertical-align: middle;\n",
       "    }\n",
       "\n",
       "    .dataframe tbody tr th {\n",
       "        vertical-align: top;\n",
       "    }\n",
       "\n",
       "    .dataframe thead th {\n",
       "        text-align: right;\n",
       "    }\n",
       "</style>\n",
       "<table border=\"1\" class=\"dataframe\">\n",
       "  <thead>\n",
       "    <tr style=\"text-align: right;\">\n",
       "      <th></th>\n",
       "      <th>patientID</th>\n",
       "      <th>readmitted</th>\n",
       "    </tr>\n",
       "  </thead>\n",
       "  <tbody>\n",
       "    <tr>\n",
       "      <th>0</th>\n",
       "      <td>PT60251</td>\n",
       "      <td>1</td>\n",
       "    </tr>\n",
       "    <tr>\n",
       "      <th>1</th>\n",
       "      <td>PT60252</td>\n",
       "      <td>0</td>\n",
       "    </tr>\n",
       "    <tr>\n",
       "      <th>2</th>\n",
       "      <td>PT60253</td>\n",
       "      <td>1</td>\n",
       "    </tr>\n",
       "    <tr>\n",
       "      <th>3</th>\n",
       "      <td>PT60254</td>\n",
       "      <td>0</td>\n",
       "    </tr>\n",
       "    <tr>\n",
       "      <th>4</th>\n",
       "      <td>PT60255</td>\n",
       "      <td>1</td>\n",
       "    </tr>\n",
       "  </tbody>\n",
       "</table>\n",
       "</div>"
      ],
      "text/plain": [
       "  patientID  readmitted\n",
       "0   PT60251           1\n",
       "1   PT60252           0\n",
       "2   PT60253           1\n",
       "3   PT60254           0\n",
       "4   PT60255           1"
      ]
     },
     "execution_count": 161,
     "metadata": {},
     "output_type": "execute_result"
    }
   ],
   "source": [
    "final_log_regg.head()"
   ]
  },
  {
   "cell_type": "code",
   "execution_count": 162,
   "metadata": {},
   "outputs": [],
   "source": [
    "export_csv = final_log_regg.to_csv (r'C:/Users/sa/Desktop/sa/Adarsh Data/2019/Common files/Big Data/BD/PHD/PHD Part 2/TrainData-1564147787554/final_log_regg.csv', index = None, header=True)"
   ]
  }
 ],
 "metadata": {
  "kernelspec": {
   "display_name": "Python 3",
   "language": "python",
   "name": "python3"
  },
  "language_info": {
   "codemirror_mode": {
    "name": "ipython",
    "version": 3
   },
   "file_extension": ".py",
   "mimetype": "text/x-python",
   "name": "python",
   "nbconvert_exporter": "python",
   "pygments_lexer": "ipython3",
   "version": "3.7.0"
  }
 },
 "nbformat": 4,
 "nbformat_minor": 2
}
